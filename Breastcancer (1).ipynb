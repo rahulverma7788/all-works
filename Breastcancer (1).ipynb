{
 "cells": [
  {
   "cell_type": "code",
   "execution_count": 0,
   "metadata": {
    "colab": {
     "base_uri": "https://localhost:8080/",
     "height": 615
    },
    "colab_type": "code",
    "executionInfo": {
     "elapsed": 4154,
     "status": "ok",
     "timestamp": 1584257121079,
     "user": {
      "displayName": "Niharika Gupta",
      "photoUrl": "https://lh3.googleusercontent.com/a-/AOh14GiowaRtD9tAtZ04bgEThKoO-uPfYDdLG_W9xmgekg=s64",
      "userId": "13230985279441823383"
     },
     "user_tz": -330
    },
    "id": "2rycsfRH2TKA",
    "outputId": "2968ba80-56ed-450b-e356-6aa9198ce007"
   },
   "outputs": [
    {
     "name": "stdout",
     "output_type": "stream",
     "text": [
      "Requirement already satisfied: tensorflow==2.0.0 in /usr/local/lib/python3.6/dist-packages (2.0.0)\n",
      "Requirement already satisfied: wrapt>=1.11.1 in /usr/local/lib/python3.6/dist-packages (from tensorflow==2.0.0) (1.11.2)\n",
      "Requirement already satisfied: keras-preprocessing>=1.0.5 in /usr/local/lib/python3.6/dist-packages (from tensorflow==2.0.0) (1.1.0)\n",
      "Requirement already satisfied: google-pasta>=0.1.6 in /usr/local/lib/python3.6/dist-packages (from tensorflow==2.0.0) (0.1.8)\n",
      "Requirement already satisfied: gast==0.2.2 in /usr/local/lib/python3.6/dist-packages (from tensorflow==2.0.0) (0.2.2)\n",
      "Requirement already satisfied: tensorboard<2.1.0,>=2.0.0 in /usr/local/lib/python3.6/dist-packages (from tensorflow==2.0.0) (2.0.2)\n",
      "Requirement already satisfied: tensorflow-estimator<2.1.0,>=2.0.0 in /usr/local/lib/python3.6/dist-packages (from tensorflow==2.0.0) (2.0.1)\n",
      "Requirement already satisfied: absl-py>=0.7.0 in /usr/local/lib/python3.6/dist-packages (from tensorflow==2.0.0) (0.9.0)\n",
      "Requirement already satisfied: termcolor>=1.1.0 in /usr/local/lib/python3.6/dist-packages (from tensorflow==2.0.0) (1.1.0)\n",
      "Requirement already satisfied: opt-einsum>=2.3.2 in /usr/local/lib/python3.6/dist-packages (from tensorflow==2.0.0) (3.1.0)\n",
      "Requirement already satisfied: protobuf>=3.6.1 in /usr/local/lib/python3.6/dist-packages (from tensorflow==2.0.0) (3.10.0)\n",
      "Requirement already satisfied: astor>=0.6.0 in /usr/local/lib/python3.6/dist-packages (from tensorflow==2.0.0) (0.8.1)\n",
      "Requirement already satisfied: keras-applications>=1.0.8 in /usr/local/lib/python3.6/dist-packages (from tensorflow==2.0.0) (1.0.8)\n",
      "Requirement already satisfied: grpcio>=1.8.6 in /usr/local/lib/python3.6/dist-packages (from tensorflow==2.0.0) (1.27.1)\n",
      "Requirement already satisfied: wheel>=0.26 in /usr/local/lib/python3.6/dist-packages (from tensorflow==2.0.0) (0.34.2)\n",
      "Requirement already satisfied: six>=1.10.0 in /usr/local/lib/python3.6/dist-packages (from tensorflow==2.0.0) (1.12.0)\n",
      "Requirement already satisfied: numpy<2.0,>=1.16.0 in /usr/local/lib/python3.6/dist-packages (from tensorflow==2.0.0) (1.17.5)\n",
      "Requirement already satisfied: requests<3,>=2.21.0 in /usr/local/lib/python3.6/dist-packages (from tensorboard<2.1.0,>=2.0.0->tensorflow==2.0.0) (2.21.0)\n",
      "Requirement already satisfied: setuptools>=41.0.0 in /usr/local/lib/python3.6/dist-packages (from tensorboard<2.1.0,>=2.0.0->tensorflow==2.0.0) (45.2.0)\n",
      "Requirement already satisfied: werkzeug>=0.11.15 in /usr/local/lib/python3.6/dist-packages (from tensorboard<2.1.0,>=2.0.0->tensorflow==2.0.0) (1.0.0)\n",
      "Requirement already satisfied: markdown>=2.6.8 in /usr/local/lib/python3.6/dist-packages (from tensorboard<2.1.0,>=2.0.0->tensorflow==2.0.0) (3.2.1)\n",
      "Requirement already satisfied: google-auth<2,>=1.6.3 in /usr/local/lib/python3.6/dist-packages (from tensorboard<2.1.0,>=2.0.0->tensorflow==2.0.0) (1.7.2)\n",
      "Requirement already satisfied: google-auth-oauthlib<0.5,>=0.4.1 in /usr/local/lib/python3.6/dist-packages (from tensorboard<2.1.0,>=2.0.0->tensorflow==2.0.0) (0.4.1)\n",
      "Requirement already satisfied: h5py in /usr/local/lib/python3.6/dist-packages (from keras-applications>=1.0.8->tensorflow==2.0.0) (2.8.0)\n",
      "Requirement already satisfied: idna<2.9,>=2.5 in /usr/local/lib/python3.6/dist-packages (from requests<3,>=2.21.0->tensorboard<2.1.0,>=2.0.0->tensorflow==2.0.0) (2.8)\n",
      "Requirement already satisfied: chardet<3.1.0,>=3.0.2 in /usr/local/lib/python3.6/dist-packages (from requests<3,>=2.21.0->tensorboard<2.1.0,>=2.0.0->tensorflow==2.0.0) (3.0.4)\n",
      "Requirement already satisfied: certifi>=2017.4.17 in /usr/local/lib/python3.6/dist-packages (from requests<3,>=2.21.0->tensorboard<2.1.0,>=2.0.0->tensorflow==2.0.0) (2019.11.28)\n",
      "Requirement already satisfied: urllib3<1.25,>=1.21.1 in /usr/local/lib/python3.6/dist-packages (from requests<3,>=2.21.0->tensorboard<2.1.0,>=2.0.0->tensorflow==2.0.0) (1.24.3)\n",
      "Requirement already satisfied: rsa<4.1,>=3.1.4 in /usr/local/lib/python3.6/dist-packages (from google-auth<2,>=1.6.3->tensorboard<2.1.0,>=2.0.0->tensorflow==2.0.0) (4.0)\n",
      "Requirement already satisfied: pyasn1-modules>=0.2.1 in /usr/local/lib/python3.6/dist-packages (from google-auth<2,>=1.6.3->tensorboard<2.1.0,>=2.0.0->tensorflow==2.0.0) (0.2.8)\n",
      "Requirement already satisfied: cachetools<3.2,>=2.0.0 in /usr/local/lib/python3.6/dist-packages (from google-auth<2,>=1.6.3->tensorboard<2.1.0,>=2.0.0->tensorflow==2.0.0) (3.1.1)\n",
      "Requirement already satisfied: requests-oauthlib>=0.7.0 in /usr/local/lib/python3.6/dist-packages (from google-auth-oauthlib<0.5,>=0.4.1->tensorboard<2.1.0,>=2.0.0->tensorflow==2.0.0) (1.3.0)\n",
      "Requirement already satisfied: pyasn1>=0.1.3 in /usr/local/lib/python3.6/dist-packages (from rsa<4.1,>=3.1.4->google-auth<2,>=1.6.3->tensorboard<2.1.0,>=2.0.0->tensorflow==2.0.0) (0.4.8)\n",
      "Requirement already satisfied: oauthlib>=3.0.0 in /usr/local/lib/python3.6/dist-packages (from requests-oauthlib>=0.7.0->google-auth-oauthlib<0.5,>=0.4.1->tensorboard<2.1.0,>=2.0.0->tensorflow==2.0.0) (3.1.0)\n"
     ]
    }
   ],
   "source": [
    "!pip install tensorflow==2.0.0"
   ]
  },
  {
   "cell_type": "code",
   "execution_count": 0,
   "metadata": {
    "colab": {
     "base_uri": "https://localhost:8080/",
     "height": 34
    },
    "colab_type": "code",
    "executionInfo": {
     "elapsed": 993,
     "status": "ok",
     "timestamp": 1584257131419,
     "user": {
      "displayName": "Niharika Gupta",
      "photoUrl": "https://lh3.googleusercontent.com/a-/AOh14GiowaRtD9tAtZ04bgEThKoO-uPfYDdLG_W9xmgekg=s64",
      "userId": "13230985279441823383"
     },
     "user_tz": -330
    },
    "id": "cz5yc42e2asw",
    "outputId": "91e57c0b-eb01-4fdd-86e3-92ee067ccde3"
   },
   "outputs": [
    {
     "name": "stdout",
     "output_type": "stream",
     "text": [
      "Drive already mounted at /content/gdrive; to attempt to forcibly remount, call drive.mount(\"/content/gdrive\", force_remount=True).\n"
     ]
    }
   ],
   "source": [
    "from google.colab import drive\n",
    "drive.mount('/content/gdrive')"
   ]
  },
  {
   "cell_type": "code",
   "execution_count": 0,
   "metadata": {
    "colab": {
     "base_uri": "https://localhost:8080/",
     "height": 51
    },
    "colab_type": "code",
    "executionInfo": {
     "elapsed": 696,
     "status": "ok",
     "timestamp": 1584257132800,
     "user": {
      "displayName": "Niharika Gupta",
      "photoUrl": "https://lh3.googleusercontent.com/a-/AOh14GiowaRtD9tAtZ04bgEThKoO-uPfYDdLG_W9xmgekg=s64",
      "userId": "13230985279441823383"
     },
     "user_tz": -330
    },
    "id": "D6qCXvet2rKW",
    "outputId": "db02b987-6578-40fd-b01e-64c736b5fc6b"
   },
   "outputs": [
    {
     "name": "stdout",
     "output_type": "stream",
     "text": [
      "[Errno 2] No such file or directory: 'gdrive/My Drive/machine learning'\n",
      "/content/gdrive/My Drive/machine learning/breast cancer\n"
     ]
    }
   ],
   "source": [
    "%cd 'gdrive/My Drive/machine learning'"
   ]
  },
  {
   "cell_type": "code",
   "execution_count": 0,
   "metadata": {
    "colab": {
     "base_uri": "https://localhost:8080/",
     "height": 68
    },
    "colab_type": "code",
    "executionInfo": {
     "elapsed": 3160,
     "status": "ok",
     "timestamp": 1584257138911,
     "user": {
      "displayName": "Niharika Gupta",
      "photoUrl": "https://lh3.googleusercontent.com/a-/AOh14GiowaRtD9tAtZ04bgEThKoO-uPfYDdLG_W9xmgekg=s64",
      "userId": "13230985279441823383"
     },
     "user_tz": -330
    },
    "id": "0kgBjZyc28Qt",
    "outputId": "7fe450b5-559d-4077-a702-87aac21f5c4a"
   },
   "outputs": [
    {
     "name": "stdout",
     "output_type": "stream",
     "text": [
      "'Breast Cancer DataSet.ipynb'   Radom_Forest_Classification.ipynb\n",
      " breast_cancer_logistic.ipynb   Untitled0.ipynb\n",
      " breast_cancer_women.csv\n"
     ]
    }
   ],
   "source": [
    "!ls"
   ]
  },
  {
   "cell_type": "code",
   "execution_count": 0,
   "metadata": {
    "colab": {
     "base_uri": "https://localhost:8080/",
     "height": 51
    },
    "colab_type": "code",
    "executionInfo": {
     "elapsed": 1019,
     "status": "ok",
     "timestamp": 1584257140234,
     "user": {
      "displayName": "Niharika Gupta",
      "photoUrl": "https://lh3.googleusercontent.com/a-/AOh14GiowaRtD9tAtZ04bgEThKoO-uPfYDdLG_W9xmgekg=s64",
      "userId": "13230985279441823383"
     },
     "user_tz": -330
    },
    "id": "VOt6Vz8a2_rH",
    "outputId": "0b0ff036-19db-43f5-f0c4-488ba216d74d"
   },
   "outputs": [
    {
     "name": "stdout",
     "output_type": "stream",
     "text": [
      "[Errno 2] No such file or directory: 'breast cancer'\n",
      "/content/gdrive/My Drive/machine learning/breast cancer\n"
     ]
    }
   ],
   "source": [
    "%cd breast cancer"
   ]
  },
  {
   "cell_type": "code",
   "execution_count": 0,
   "metadata": {
    "colab": {},
    "colab_type": "code",
    "id": "PYGaflye3E0P"
   },
   "outputs": [],
   "source": []
  },
  {
   "cell_type": "markdown",
   "metadata": {
    "colab_type": "text",
    "id": "TKM140nD3JHr"
   },
   "source": [
    "# New Section"
   ]
  },
  {
   "cell_type": "code",
   "execution_count": 0,
   "metadata": {
    "colab": {
     "base_uri": "https://localhost:8080/",
     "height": 68
    },
    "colab_type": "code",
    "executionInfo": {
     "elapsed": 3280,
     "status": "ok",
     "timestamp": 1584257166456,
     "user": {
      "displayName": "Niharika Gupta",
      "photoUrl": "https://lh3.googleusercontent.com/a-/AOh14GiowaRtD9tAtZ04bgEThKoO-uPfYDdLG_W9xmgekg=s64",
      "userId": "13230985279441823383"
     },
     "user_tz": -330
    },
    "id": "a4_Pmbty3P_0",
    "outputId": "d14dcf99-62f6-4d4a-839d-ec96682af4cd"
   },
   "outputs": [
    {
     "name": "stdout",
     "output_type": "stream",
     "text": [
      "'Breast Cancer DataSet.ipynb'   Radom_Forest_Classification.ipynb\n",
      " breast_cancer_logistic.ipynb   Untitled0.ipynb\n",
      " breast_cancer_women.csv\n"
     ]
    }
   ],
   "source": [
    "!ls"
   ]
  },
  {
   "cell_type": "code",
   "execution_count": 1,
   "metadata": {
    "colab": {},
    "colab_type": "code",
    "id": "xbJPnlGv3TKN"
   },
   "outputs": [],
   "source": [
    "import tensorflow as tf\n",
    "import pandas as pd\n",
    "import numpy as np\n",
    "from sklearn.preprocessing import StandardScaler\n",
    "from sklearn.model_selection import train_test_split\n",
    "from tensorflow import keras\n",
    "from tensorflow.keras.models import Sequential\n",
    "from tensorflow.keras.layers import Dense,Dropout,LSTM,SimpleRNN\n",
    "import matplotlib.pyplot as plt\n",
    "%matplotlib inline"
   ]
  },
  {
   "cell_type": "code",
   "execution_count": 8,
   "metadata": {
    "colab": {
     "base_uri": "https://localhost:8080/",
     "height": 241
    },
    "colab_type": "code",
    "executionInfo": {
     "elapsed": 1028,
     "status": "ok",
     "timestamp": 1584257175000,
     "user": {
      "displayName": "Niharika Gupta",
      "photoUrl": "https://lh3.googleusercontent.com/a-/AOh14GiowaRtD9tAtZ04bgEThKoO-uPfYDdLG_W9xmgekg=s64",
      "userId": "13230985279441823383"
     },
     "user_tz": -330
    },
    "id": "lWmD_Ihi3Xdi",
    "outputId": "b7cc9ae3-96ba-44c2-cf39-22e6ed845501"
   },
   "outputs": [
    {
     "data": {
      "text/html": [
       "<div>\n",
       "<style scoped>\n",
       "    .dataframe tbody tr th:only-of-type {\n",
       "        vertical-align: middle;\n",
       "    }\n",
       "\n",
       "    .dataframe tbody tr th {\n",
       "        vertical-align: top;\n",
       "    }\n",
       "\n",
       "    .dataframe thead th {\n",
       "        text-align: right;\n",
       "    }\n",
       "</style>\n",
       "<table border=\"1\" class=\"dataframe\">\n",
       "  <thead>\n",
       "    <tr style=\"text-align: right;\">\n",
       "      <th></th>\n",
       "      <th>id</th>\n",
       "      <th>diagnosis</th>\n",
       "      <th>radius_mean</th>\n",
       "      <th>texture_mean</th>\n",
       "      <th>perimeter_mean</th>\n",
       "      <th>area_mean</th>\n",
       "      <th>smoothness_mean</th>\n",
       "      <th>compactness_mean</th>\n",
       "      <th>concavity_mean</th>\n",
       "      <th>concave points_mean</th>\n",
       "      <th>...</th>\n",
       "      <th>texture_worst</th>\n",
       "      <th>perimeter_worst</th>\n",
       "      <th>area_worst</th>\n",
       "      <th>smoothness_worst</th>\n",
       "      <th>compactness_worst</th>\n",
       "      <th>concavity_worst</th>\n",
       "      <th>concave points_worst</th>\n",
       "      <th>symmetry_worst</th>\n",
       "      <th>fractal_dimension_worst</th>\n",
       "      <th>Unnamed: 32</th>\n",
       "    </tr>\n",
       "  </thead>\n",
       "  <tbody>\n",
       "    <tr>\n",
       "      <th>0</th>\n",
       "      <td>842302</td>\n",
       "      <td>M</td>\n",
       "      <td>17.99</td>\n",
       "      <td>10.38</td>\n",
       "      <td>122.80</td>\n",
       "      <td>1001.0</td>\n",
       "      <td>0.11840</td>\n",
       "      <td>0.27760</td>\n",
       "      <td>0.3001</td>\n",
       "      <td>0.14710</td>\n",
       "      <td>...</td>\n",
       "      <td>17.33</td>\n",
       "      <td>184.60</td>\n",
       "      <td>2019.0</td>\n",
       "      <td>0.1622</td>\n",
       "      <td>0.6656</td>\n",
       "      <td>0.7119</td>\n",
       "      <td>0.2654</td>\n",
       "      <td>0.4601</td>\n",
       "      <td>0.11890</td>\n",
       "      <td>NaN</td>\n",
       "    </tr>\n",
       "    <tr>\n",
       "      <th>1</th>\n",
       "      <td>842517</td>\n",
       "      <td>M</td>\n",
       "      <td>20.57</td>\n",
       "      <td>17.77</td>\n",
       "      <td>132.90</td>\n",
       "      <td>1326.0</td>\n",
       "      <td>0.08474</td>\n",
       "      <td>0.07864</td>\n",
       "      <td>0.0869</td>\n",
       "      <td>0.07017</td>\n",
       "      <td>...</td>\n",
       "      <td>23.41</td>\n",
       "      <td>158.80</td>\n",
       "      <td>1956.0</td>\n",
       "      <td>0.1238</td>\n",
       "      <td>0.1866</td>\n",
       "      <td>0.2416</td>\n",
       "      <td>0.1860</td>\n",
       "      <td>0.2750</td>\n",
       "      <td>0.08902</td>\n",
       "      <td>NaN</td>\n",
       "    </tr>\n",
       "    <tr>\n",
       "      <th>2</th>\n",
       "      <td>84300903</td>\n",
       "      <td>M</td>\n",
       "      <td>19.69</td>\n",
       "      <td>21.25</td>\n",
       "      <td>130.00</td>\n",
       "      <td>1203.0</td>\n",
       "      <td>0.10960</td>\n",
       "      <td>0.15990</td>\n",
       "      <td>0.1974</td>\n",
       "      <td>0.12790</td>\n",
       "      <td>...</td>\n",
       "      <td>25.53</td>\n",
       "      <td>152.50</td>\n",
       "      <td>1709.0</td>\n",
       "      <td>0.1444</td>\n",
       "      <td>0.4245</td>\n",
       "      <td>0.4504</td>\n",
       "      <td>0.2430</td>\n",
       "      <td>0.3613</td>\n",
       "      <td>0.08758</td>\n",
       "      <td>NaN</td>\n",
       "    </tr>\n",
       "    <tr>\n",
       "      <th>3</th>\n",
       "      <td>84348301</td>\n",
       "      <td>M</td>\n",
       "      <td>11.42</td>\n",
       "      <td>20.38</td>\n",
       "      <td>77.58</td>\n",
       "      <td>386.1</td>\n",
       "      <td>0.14250</td>\n",
       "      <td>0.28390</td>\n",
       "      <td>0.2414</td>\n",
       "      <td>0.10520</td>\n",
       "      <td>...</td>\n",
       "      <td>26.50</td>\n",
       "      <td>98.87</td>\n",
       "      <td>567.7</td>\n",
       "      <td>0.2098</td>\n",
       "      <td>0.8663</td>\n",
       "      <td>0.6869</td>\n",
       "      <td>0.2575</td>\n",
       "      <td>0.6638</td>\n",
       "      <td>0.17300</td>\n",
       "      <td>NaN</td>\n",
       "    </tr>\n",
       "    <tr>\n",
       "      <th>4</th>\n",
       "      <td>84358402</td>\n",
       "      <td>M</td>\n",
       "      <td>20.29</td>\n",
       "      <td>14.34</td>\n",
       "      <td>135.10</td>\n",
       "      <td>1297.0</td>\n",
       "      <td>0.10030</td>\n",
       "      <td>0.13280</td>\n",
       "      <td>0.1980</td>\n",
       "      <td>0.10430</td>\n",
       "      <td>...</td>\n",
       "      <td>16.67</td>\n",
       "      <td>152.20</td>\n",
       "      <td>1575.0</td>\n",
       "      <td>0.1374</td>\n",
       "      <td>0.2050</td>\n",
       "      <td>0.4000</td>\n",
       "      <td>0.1625</td>\n",
       "      <td>0.2364</td>\n",
       "      <td>0.07678</td>\n",
       "      <td>NaN</td>\n",
       "    </tr>\n",
       "  </tbody>\n",
       "</table>\n",
       "<p>5 rows × 33 columns</p>\n",
       "</div>"
      ],
      "text/plain": [
       "         id diagnosis  radius_mean  texture_mean  perimeter_mean  area_mean  \\\n",
       "0    842302         M        17.99         10.38          122.80     1001.0   \n",
       "1    842517         M        20.57         17.77          132.90     1326.0   \n",
       "2  84300903         M        19.69         21.25          130.00     1203.0   \n",
       "3  84348301         M        11.42         20.38           77.58      386.1   \n",
       "4  84358402         M        20.29         14.34          135.10     1297.0   \n",
       "\n",
       "   smoothness_mean  compactness_mean  concavity_mean  concave points_mean  \\\n",
       "0          0.11840           0.27760          0.3001              0.14710   \n",
       "1          0.08474           0.07864          0.0869              0.07017   \n",
       "2          0.10960           0.15990          0.1974              0.12790   \n",
       "3          0.14250           0.28390          0.2414              0.10520   \n",
       "4          0.10030           0.13280          0.1980              0.10430   \n",
       "\n",
       "   ...  texture_worst  perimeter_worst  area_worst  smoothness_worst  \\\n",
       "0  ...          17.33           184.60      2019.0            0.1622   \n",
       "1  ...          23.41           158.80      1956.0            0.1238   \n",
       "2  ...          25.53           152.50      1709.0            0.1444   \n",
       "3  ...          26.50            98.87       567.7            0.2098   \n",
       "4  ...          16.67           152.20      1575.0            0.1374   \n",
       "\n",
       "   compactness_worst  concavity_worst  concave points_worst  symmetry_worst  \\\n",
       "0             0.6656           0.7119                0.2654          0.4601   \n",
       "1             0.1866           0.2416                0.1860          0.2750   \n",
       "2             0.4245           0.4504                0.2430          0.3613   \n",
       "3             0.8663           0.6869                0.2575          0.6638   \n",
       "4             0.2050           0.4000                0.1625          0.2364   \n",
       "\n",
       "   fractal_dimension_worst  Unnamed: 32  \n",
       "0                  0.11890          NaN  \n",
       "1                  0.08902          NaN  \n",
       "2                  0.08758          NaN  \n",
       "3                  0.17300          NaN  \n",
       "4                  0.07678          NaN  \n",
       "\n",
       "[5 rows x 33 columns]"
      ]
     },
     "execution_count": 8,
     "metadata": {},
     "output_type": "execute_result"
    }
   ],
   "source": [
    "data = pd.read_csv('breast_cancer_women.csv')\n",
    "data.head()"
   ]
  },
  {
   "cell_type": "code",
   "execution_count": 9,
   "metadata": {
    "colab": {
     "base_uri": "https://localhost:8080/",
     "height": 1000
    },
    "colab_type": "code",
    "executionInfo": {
     "elapsed": 1316,
     "status": "ok",
     "timestamp": 1584257490957,
     "user": {
      "displayName": "Niharika Gupta",
      "photoUrl": "https://lh3.googleusercontent.com/a-/AOh14GiowaRtD9tAtZ04bgEThKoO-uPfYDdLG_W9xmgekg=s64",
      "userId": "13230985279441823383"
     },
     "user_tz": -330
    },
    "id": "T8xX7VKoGbBN",
    "outputId": "13686414-5818-4e0e-91e1-34eda6dab374"
   },
   "outputs": [
    {
     "data": {
      "text/html": [
       "<div>\n",
       "<style scoped>\n",
       "    .dataframe tbody tr th:only-of-type {\n",
       "        vertical-align: middle;\n",
       "    }\n",
       "\n",
       "    .dataframe tbody tr th {\n",
       "        vertical-align: top;\n",
       "    }\n",
       "\n",
       "    .dataframe thead th {\n",
       "        text-align: right;\n",
       "    }\n",
       "</style>\n",
       "<table border=\"1\" class=\"dataframe\">\n",
       "  <thead>\n",
       "    <tr style=\"text-align: right;\">\n",
       "      <th></th>\n",
       "      <th>count</th>\n",
       "      <th>mean</th>\n",
       "      <th>std</th>\n",
       "      <th>min</th>\n",
       "      <th>25%</th>\n",
       "      <th>50%</th>\n",
       "      <th>75%</th>\n",
       "      <th>max</th>\n",
       "    </tr>\n",
       "  </thead>\n",
       "  <tbody>\n",
       "    <tr>\n",
       "      <th>id</th>\n",
       "      <td>569.0</td>\n",
       "      <td>3.037183e+07</td>\n",
       "      <td>1.250206e+08</td>\n",
       "      <td>8670.000000</td>\n",
       "      <td>869218.000000</td>\n",
       "      <td>906024.000000</td>\n",
       "      <td>8.813129e+06</td>\n",
       "      <td>9.113205e+08</td>\n",
       "    </tr>\n",
       "    <tr>\n",
       "      <th>radius_mean</th>\n",
       "      <td>569.0</td>\n",
       "      <td>1.412729e+01</td>\n",
       "      <td>3.524049e+00</td>\n",
       "      <td>6.981000</td>\n",
       "      <td>11.700000</td>\n",
       "      <td>13.370000</td>\n",
       "      <td>1.578000e+01</td>\n",
       "      <td>2.811000e+01</td>\n",
       "    </tr>\n",
       "    <tr>\n",
       "      <th>texture_mean</th>\n",
       "      <td>569.0</td>\n",
       "      <td>1.928965e+01</td>\n",
       "      <td>4.301036e+00</td>\n",
       "      <td>9.710000</td>\n",
       "      <td>16.170000</td>\n",
       "      <td>18.840000</td>\n",
       "      <td>2.180000e+01</td>\n",
       "      <td>3.928000e+01</td>\n",
       "    </tr>\n",
       "    <tr>\n",
       "      <th>perimeter_mean</th>\n",
       "      <td>569.0</td>\n",
       "      <td>9.196903e+01</td>\n",
       "      <td>2.429898e+01</td>\n",
       "      <td>43.790000</td>\n",
       "      <td>75.170000</td>\n",
       "      <td>86.240000</td>\n",
       "      <td>1.041000e+02</td>\n",
       "      <td>1.885000e+02</td>\n",
       "    </tr>\n",
       "    <tr>\n",
       "      <th>area_mean</th>\n",
       "      <td>569.0</td>\n",
       "      <td>6.548891e+02</td>\n",
       "      <td>3.519141e+02</td>\n",
       "      <td>143.500000</td>\n",
       "      <td>420.300000</td>\n",
       "      <td>551.100000</td>\n",
       "      <td>7.827000e+02</td>\n",
       "      <td>2.501000e+03</td>\n",
       "    </tr>\n",
       "    <tr>\n",
       "      <th>smoothness_mean</th>\n",
       "      <td>569.0</td>\n",
       "      <td>9.636028e-02</td>\n",
       "      <td>1.406413e-02</td>\n",
       "      <td>0.052630</td>\n",
       "      <td>0.086370</td>\n",
       "      <td>0.095870</td>\n",
       "      <td>1.053000e-01</td>\n",
       "      <td>1.634000e-01</td>\n",
       "    </tr>\n",
       "    <tr>\n",
       "      <th>compactness_mean</th>\n",
       "      <td>569.0</td>\n",
       "      <td>1.043410e-01</td>\n",
       "      <td>5.281276e-02</td>\n",
       "      <td>0.019380</td>\n",
       "      <td>0.064920</td>\n",
       "      <td>0.092630</td>\n",
       "      <td>1.304000e-01</td>\n",
       "      <td>3.454000e-01</td>\n",
       "    </tr>\n",
       "    <tr>\n",
       "      <th>concavity_mean</th>\n",
       "      <td>569.0</td>\n",
       "      <td>8.879932e-02</td>\n",
       "      <td>7.971981e-02</td>\n",
       "      <td>0.000000</td>\n",
       "      <td>0.029560</td>\n",
       "      <td>0.061540</td>\n",
       "      <td>1.307000e-01</td>\n",
       "      <td>4.268000e-01</td>\n",
       "    </tr>\n",
       "    <tr>\n",
       "      <th>concave points_mean</th>\n",
       "      <td>569.0</td>\n",
       "      <td>4.891915e-02</td>\n",
       "      <td>3.880284e-02</td>\n",
       "      <td>0.000000</td>\n",
       "      <td>0.020310</td>\n",
       "      <td>0.033500</td>\n",
       "      <td>7.400000e-02</td>\n",
       "      <td>2.012000e-01</td>\n",
       "    </tr>\n",
       "    <tr>\n",
       "      <th>symmetry_mean</th>\n",
       "      <td>569.0</td>\n",
       "      <td>1.811619e-01</td>\n",
       "      <td>2.741428e-02</td>\n",
       "      <td>0.106000</td>\n",
       "      <td>0.161900</td>\n",
       "      <td>0.179200</td>\n",
       "      <td>1.957000e-01</td>\n",
       "      <td>3.040000e-01</td>\n",
       "    </tr>\n",
       "    <tr>\n",
       "      <th>fractal_dimension_mean</th>\n",
       "      <td>569.0</td>\n",
       "      <td>6.279761e-02</td>\n",
       "      <td>7.060363e-03</td>\n",
       "      <td>0.049960</td>\n",
       "      <td>0.057700</td>\n",
       "      <td>0.061540</td>\n",
       "      <td>6.612000e-02</td>\n",
       "      <td>9.744000e-02</td>\n",
       "    </tr>\n",
       "    <tr>\n",
       "      <th>radius_se</th>\n",
       "      <td>569.0</td>\n",
       "      <td>4.051721e-01</td>\n",
       "      <td>2.773127e-01</td>\n",
       "      <td>0.111500</td>\n",
       "      <td>0.232400</td>\n",
       "      <td>0.324200</td>\n",
       "      <td>4.789000e-01</td>\n",
       "      <td>2.873000e+00</td>\n",
       "    </tr>\n",
       "    <tr>\n",
       "      <th>texture_se</th>\n",
       "      <td>569.0</td>\n",
       "      <td>1.216853e+00</td>\n",
       "      <td>5.516484e-01</td>\n",
       "      <td>0.360200</td>\n",
       "      <td>0.833900</td>\n",
       "      <td>1.108000</td>\n",
       "      <td>1.474000e+00</td>\n",
       "      <td>4.885000e+00</td>\n",
       "    </tr>\n",
       "    <tr>\n",
       "      <th>perimeter_se</th>\n",
       "      <td>569.0</td>\n",
       "      <td>2.866059e+00</td>\n",
       "      <td>2.021855e+00</td>\n",
       "      <td>0.757000</td>\n",
       "      <td>1.606000</td>\n",
       "      <td>2.287000</td>\n",
       "      <td>3.357000e+00</td>\n",
       "      <td>2.198000e+01</td>\n",
       "    </tr>\n",
       "    <tr>\n",
       "      <th>area_se</th>\n",
       "      <td>569.0</td>\n",
       "      <td>4.033708e+01</td>\n",
       "      <td>4.549101e+01</td>\n",
       "      <td>6.802000</td>\n",
       "      <td>17.850000</td>\n",
       "      <td>24.530000</td>\n",
       "      <td>4.519000e+01</td>\n",
       "      <td>5.422000e+02</td>\n",
       "    </tr>\n",
       "    <tr>\n",
       "      <th>smoothness_se</th>\n",
       "      <td>569.0</td>\n",
       "      <td>7.040979e-03</td>\n",
       "      <td>3.002518e-03</td>\n",
       "      <td>0.001713</td>\n",
       "      <td>0.005169</td>\n",
       "      <td>0.006380</td>\n",
       "      <td>8.146000e-03</td>\n",
       "      <td>3.113000e-02</td>\n",
       "    </tr>\n",
       "    <tr>\n",
       "      <th>compactness_se</th>\n",
       "      <td>569.0</td>\n",
       "      <td>2.547814e-02</td>\n",
       "      <td>1.790818e-02</td>\n",
       "      <td>0.002252</td>\n",
       "      <td>0.013080</td>\n",
       "      <td>0.020450</td>\n",
       "      <td>3.245000e-02</td>\n",
       "      <td>1.354000e-01</td>\n",
       "    </tr>\n",
       "    <tr>\n",
       "      <th>concavity_se</th>\n",
       "      <td>569.0</td>\n",
       "      <td>3.189372e-02</td>\n",
       "      <td>3.018606e-02</td>\n",
       "      <td>0.000000</td>\n",
       "      <td>0.015090</td>\n",
       "      <td>0.025890</td>\n",
       "      <td>4.205000e-02</td>\n",
       "      <td>3.960000e-01</td>\n",
       "    </tr>\n",
       "    <tr>\n",
       "      <th>concave points_se</th>\n",
       "      <td>569.0</td>\n",
       "      <td>1.179614e-02</td>\n",
       "      <td>6.170285e-03</td>\n",
       "      <td>0.000000</td>\n",
       "      <td>0.007638</td>\n",
       "      <td>0.010930</td>\n",
       "      <td>1.471000e-02</td>\n",
       "      <td>5.279000e-02</td>\n",
       "    </tr>\n",
       "    <tr>\n",
       "      <th>symmetry_se</th>\n",
       "      <td>569.0</td>\n",
       "      <td>2.054230e-02</td>\n",
       "      <td>8.266372e-03</td>\n",
       "      <td>0.007882</td>\n",
       "      <td>0.015160</td>\n",
       "      <td>0.018730</td>\n",
       "      <td>2.348000e-02</td>\n",
       "      <td>7.895000e-02</td>\n",
       "    </tr>\n",
       "    <tr>\n",
       "      <th>fractal_dimension_se</th>\n",
       "      <td>569.0</td>\n",
       "      <td>3.794904e-03</td>\n",
       "      <td>2.646071e-03</td>\n",
       "      <td>0.000895</td>\n",
       "      <td>0.002248</td>\n",
       "      <td>0.003187</td>\n",
       "      <td>4.558000e-03</td>\n",
       "      <td>2.984000e-02</td>\n",
       "    </tr>\n",
       "    <tr>\n",
       "      <th>radius_worst</th>\n",
       "      <td>569.0</td>\n",
       "      <td>1.626919e+01</td>\n",
       "      <td>4.833242e+00</td>\n",
       "      <td>7.930000</td>\n",
       "      <td>13.010000</td>\n",
       "      <td>14.970000</td>\n",
       "      <td>1.879000e+01</td>\n",
       "      <td>3.604000e+01</td>\n",
       "    </tr>\n",
       "    <tr>\n",
       "      <th>texture_worst</th>\n",
       "      <td>569.0</td>\n",
       "      <td>2.567722e+01</td>\n",
       "      <td>6.146258e+00</td>\n",
       "      <td>12.020000</td>\n",
       "      <td>21.080000</td>\n",
       "      <td>25.410000</td>\n",
       "      <td>2.972000e+01</td>\n",
       "      <td>4.954000e+01</td>\n",
       "    </tr>\n",
       "    <tr>\n",
       "      <th>perimeter_worst</th>\n",
       "      <td>569.0</td>\n",
       "      <td>1.072612e+02</td>\n",
       "      <td>3.360254e+01</td>\n",
       "      <td>50.410000</td>\n",
       "      <td>84.110000</td>\n",
       "      <td>97.660000</td>\n",
       "      <td>1.254000e+02</td>\n",
       "      <td>2.512000e+02</td>\n",
       "    </tr>\n",
       "    <tr>\n",
       "      <th>area_worst</th>\n",
       "      <td>569.0</td>\n",
       "      <td>8.805831e+02</td>\n",
       "      <td>5.693570e+02</td>\n",
       "      <td>185.200000</td>\n",
       "      <td>515.300000</td>\n",
       "      <td>686.500000</td>\n",
       "      <td>1.084000e+03</td>\n",
       "      <td>4.254000e+03</td>\n",
       "    </tr>\n",
       "    <tr>\n",
       "      <th>smoothness_worst</th>\n",
       "      <td>569.0</td>\n",
       "      <td>1.323686e-01</td>\n",
       "      <td>2.283243e-02</td>\n",
       "      <td>0.071170</td>\n",
       "      <td>0.116600</td>\n",
       "      <td>0.131300</td>\n",
       "      <td>1.460000e-01</td>\n",
       "      <td>2.226000e-01</td>\n",
       "    </tr>\n",
       "    <tr>\n",
       "      <th>compactness_worst</th>\n",
       "      <td>569.0</td>\n",
       "      <td>2.542650e-01</td>\n",
       "      <td>1.573365e-01</td>\n",
       "      <td>0.027290</td>\n",
       "      <td>0.147200</td>\n",
       "      <td>0.211900</td>\n",
       "      <td>3.391000e-01</td>\n",
       "      <td>1.058000e+00</td>\n",
       "    </tr>\n",
       "    <tr>\n",
       "      <th>concavity_worst</th>\n",
       "      <td>569.0</td>\n",
       "      <td>2.721885e-01</td>\n",
       "      <td>2.086243e-01</td>\n",
       "      <td>0.000000</td>\n",
       "      <td>0.114500</td>\n",
       "      <td>0.226700</td>\n",
       "      <td>3.829000e-01</td>\n",
       "      <td>1.252000e+00</td>\n",
       "    </tr>\n",
       "    <tr>\n",
       "      <th>concave points_worst</th>\n",
       "      <td>569.0</td>\n",
       "      <td>1.146062e-01</td>\n",
       "      <td>6.573234e-02</td>\n",
       "      <td>0.000000</td>\n",
       "      <td>0.064930</td>\n",
       "      <td>0.099930</td>\n",
       "      <td>1.614000e-01</td>\n",
       "      <td>2.910000e-01</td>\n",
       "    </tr>\n",
       "    <tr>\n",
       "      <th>symmetry_worst</th>\n",
       "      <td>569.0</td>\n",
       "      <td>2.900756e-01</td>\n",
       "      <td>6.186747e-02</td>\n",
       "      <td>0.156500</td>\n",
       "      <td>0.250400</td>\n",
       "      <td>0.282200</td>\n",
       "      <td>3.179000e-01</td>\n",
       "      <td>6.638000e-01</td>\n",
       "    </tr>\n",
       "    <tr>\n",
       "      <th>fractal_dimension_worst</th>\n",
       "      <td>569.0</td>\n",
       "      <td>8.394582e-02</td>\n",
       "      <td>1.806127e-02</td>\n",
       "      <td>0.055040</td>\n",
       "      <td>0.071460</td>\n",
       "      <td>0.080040</td>\n",
       "      <td>9.208000e-02</td>\n",
       "      <td>2.075000e-01</td>\n",
       "    </tr>\n",
       "    <tr>\n",
       "      <th>Unnamed: 32</th>\n",
       "      <td>0.0</td>\n",
       "      <td>NaN</td>\n",
       "      <td>NaN</td>\n",
       "      <td>NaN</td>\n",
       "      <td>NaN</td>\n",
       "      <td>NaN</td>\n",
       "      <td>NaN</td>\n",
       "      <td>NaN</td>\n",
       "    </tr>\n",
       "  </tbody>\n",
       "</table>\n",
       "</div>"
      ],
      "text/plain": [
       "                         count          mean           std          min  \\\n",
       "id                       569.0  3.037183e+07  1.250206e+08  8670.000000   \n",
       "radius_mean              569.0  1.412729e+01  3.524049e+00     6.981000   \n",
       "texture_mean             569.0  1.928965e+01  4.301036e+00     9.710000   \n",
       "perimeter_mean           569.0  9.196903e+01  2.429898e+01    43.790000   \n",
       "area_mean                569.0  6.548891e+02  3.519141e+02   143.500000   \n",
       "smoothness_mean          569.0  9.636028e-02  1.406413e-02     0.052630   \n",
       "compactness_mean         569.0  1.043410e-01  5.281276e-02     0.019380   \n",
       "concavity_mean           569.0  8.879932e-02  7.971981e-02     0.000000   \n",
       "concave points_mean      569.0  4.891915e-02  3.880284e-02     0.000000   \n",
       "symmetry_mean            569.0  1.811619e-01  2.741428e-02     0.106000   \n",
       "fractal_dimension_mean   569.0  6.279761e-02  7.060363e-03     0.049960   \n",
       "radius_se                569.0  4.051721e-01  2.773127e-01     0.111500   \n",
       "texture_se               569.0  1.216853e+00  5.516484e-01     0.360200   \n",
       "perimeter_se             569.0  2.866059e+00  2.021855e+00     0.757000   \n",
       "area_se                  569.0  4.033708e+01  4.549101e+01     6.802000   \n",
       "smoothness_se            569.0  7.040979e-03  3.002518e-03     0.001713   \n",
       "compactness_se           569.0  2.547814e-02  1.790818e-02     0.002252   \n",
       "concavity_se             569.0  3.189372e-02  3.018606e-02     0.000000   \n",
       "concave points_se        569.0  1.179614e-02  6.170285e-03     0.000000   \n",
       "symmetry_se              569.0  2.054230e-02  8.266372e-03     0.007882   \n",
       "fractal_dimension_se     569.0  3.794904e-03  2.646071e-03     0.000895   \n",
       "radius_worst             569.0  1.626919e+01  4.833242e+00     7.930000   \n",
       "texture_worst            569.0  2.567722e+01  6.146258e+00    12.020000   \n",
       "perimeter_worst          569.0  1.072612e+02  3.360254e+01    50.410000   \n",
       "area_worst               569.0  8.805831e+02  5.693570e+02   185.200000   \n",
       "smoothness_worst         569.0  1.323686e-01  2.283243e-02     0.071170   \n",
       "compactness_worst        569.0  2.542650e-01  1.573365e-01     0.027290   \n",
       "concavity_worst          569.0  2.721885e-01  2.086243e-01     0.000000   \n",
       "concave points_worst     569.0  1.146062e-01  6.573234e-02     0.000000   \n",
       "symmetry_worst           569.0  2.900756e-01  6.186747e-02     0.156500   \n",
       "fractal_dimension_worst  569.0  8.394582e-02  1.806127e-02     0.055040   \n",
       "Unnamed: 32                0.0           NaN           NaN          NaN   \n",
       "\n",
       "                                   25%            50%           75%  \\\n",
       "id                       869218.000000  906024.000000  8.813129e+06   \n",
       "radius_mean                  11.700000      13.370000  1.578000e+01   \n",
       "texture_mean                 16.170000      18.840000  2.180000e+01   \n",
       "perimeter_mean               75.170000      86.240000  1.041000e+02   \n",
       "area_mean                   420.300000     551.100000  7.827000e+02   \n",
       "smoothness_mean               0.086370       0.095870  1.053000e-01   \n",
       "compactness_mean              0.064920       0.092630  1.304000e-01   \n",
       "concavity_mean                0.029560       0.061540  1.307000e-01   \n",
       "concave points_mean           0.020310       0.033500  7.400000e-02   \n",
       "symmetry_mean                 0.161900       0.179200  1.957000e-01   \n",
       "fractal_dimension_mean        0.057700       0.061540  6.612000e-02   \n",
       "radius_se                     0.232400       0.324200  4.789000e-01   \n",
       "texture_se                    0.833900       1.108000  1.474000e+00   \n",
       "perimeter_se                  1.606000       2.287000  3.357000e+00   \n",
       "area_se                      17.850000      24.530000  4.519000e+01   \n",
       "smoothness_se                 0.005169       0.006380  8.146000e-03   \n",
       "compactness_se                0.013080       0.020450  3.245000e-02   \n",
       "concavity_se                  0.015090       0.025890  4.205000e-02   \n",
       "concave points_se             0.007638       0.010930  1.471000e-02   \n",
       "symmetry_se                   0.015160       0.018730  2.348000e-02   \n",
       "fractal_dimension_se          0.002248       0.003187  4.558000e-03   \n",
       "radius_worst                 13.010000      14.970000  1.879000e+01   \n",
       "texture_worst                21.080000      25.410000  2.972000e+01   \n",
       "perimeter_worst              84.110000      97.660000  1.254000e+02   \n",
       "area_worst                  515.300000     686.500000  1.084000e+03   \n",
       "smoothness_worst              0.116600       0.131300  1.460000e-01   \n",
       "compactness_worst             0.147200       0.211900  3.391000e-01   \n",
       "concavity_worst               0.114500       0.226700  3.829000e-01   \n",
       "concave points_worst          0.064930       0.099930  1.614000e-01   \n",
       "symmetry_worst                0.250400       0.282200  3.179000e-01   \n",
       "fractal_dimension_worst       0.071460       0.080040  9.208000e-02   \n",
       "Unnamed: 32                        NaN            NaN           NaN   \n",
       "\n",
       "                                  max  \n",
       "id                       9.113205e+08  \n",
       "radius_mean              2.811000e+01  \n",
       "texture_mean             3.928000e+01  \n",
       "perimeter_mean           1.885000e+02  \n",
       "area_mean                2.501000e+03  \n",
       "smoothness_mean          1.634000e-01  \n",
       "compactness_mean         3.454000e-01  \n",
       "concavity_mean           4.268000e-01  \n",
       "concave points_mean      2.012000e-01  \n",
       "symmetry_mean            3.040000e-01  \n",
       "fractal_dimension_mean   9.744000e-02  \n",
       "radius_se                2.873000e+00  \n",
       "texture_se               4.885000e+00  \n",
       "perimeter_se             2.198000e+01  \n",
       "area_se                  5.422000e+02  \n",
       "smoothness_se            3.113000e-02  \n",
       "compactness_se           1.354000e-01  \n",
       "concavity_se             3.960000e-01  \n",
       "concave points_se        5.279000e-02  \n",
       "symmetry_se              7.895000e-02  \n",
       "fractal_dimension_se     2.984000e-02  \n",
       "radius_worst             3.604000e+01  \n",
       "texture_worst            4.954000e+01  \n",
       "perimeter_worst          2.512000e+02  \n",
       "area_worst               4.254000e+03  \n",
       "smoothness_worst         2.226000e-01  \n",
       "compactness_worst        1.058000e+00  \n",
       "concavity_worst          1.252000e+00  \n",
       "concave points_worst     2.910000e-01  \n",
       "symmetry_worst           6.638000e-01  \n",
       "fractal_dimension_worst  2.075000e-01  \n",
       "Unnamed: 32                       NaN  "
      ]
     },
     "execution_count": 9,
     "metadata": {},
     "output_type": "execute_result"
    }
   ],
   "source": [
    "data.describe().T"
   ]
  },
  {
   "cell_type": "code",
   "execution_count": 10,
   "metadata": {},
   "outputs": [],
   "source": [
    "data['result'] = list(map(lambda x: 1 if x == \"M\" else 0,data['diagnosis']))"
   ]
  },
  {
   "cell_type": "code",
   "execution_count": 11,
   "metadata": {},
   "outputs": [
    {
     "data": {
      "text/plain": [
       "array([1, 0], dtype=int64)"
      ]
     },
     "execution_count": 11,
     "metadata": {},
     "output_type": "execute_result"
    }
   ],
   "source": [
    "data['result'].unique()"
   ]
  },
  {
   "cell_type": "code",
   "execution_count": 13,
   "metadata": {},
   "outputs": [
    {
     "data": {
      "text/plain": [
       "0      1\n",
       "1      1\n",
       "2      1\n",
       "3      1\n",
       "4      1\n",
       "      ..\n",
       "564    1\n",
       "565    1\n",
       "566    1\n",
       "567    1\n",
       "568    0\n",
       "Name: result, Length: 569, dtype: int64"
      ]
     },
     "execution_count": 13,
     "metadata": {},
     "output_type": "execute_result"
    }
   ],
   "source": [
    "data['result']"
   ]
  },
  {
   "cell_type": "code",
   "execution_count": 14,
   "metadata": {},
   "outputs": [
    {
     "data": {
      "text/html": [
       "<div>\n",
       "<style scoped>\n",
       "    .dataframe tbody tr th:only-of-type {\n",
       "        vertical-align: middle;\n",
       "    }\n",
       "\n",
       "    .dataframe tbody tr th {\n",
       "        vertical-align: top;\n",
       "    }\n",
       "\n",
       "    .dataframe thead th {\n",
       "        text-align: right;\n",
       "    }\n",
       "</style>\n",
       "<table border=\"1\" class=\"dataframe\">\n",
       "  <thead>\n",
       "    <tr style=\"text-align: right;\">\n",
       "      <th></th>\n",
       "      <th>radius_mean</th>\n",
       "      <th>texture_mean</th>\n",
       "      <th>perimeter_mean</th>\n",
       "      <th>area_mean</th>\n",
       "      <th>smoothness_mean</th>\n",
       "      <th>compactness_mean</th>\n",
       "      <th>concavity_mean</th>\n",
       "      <th>concave points_mean</th>\n",
       "      <th>symmetry_mean</th>\n",
       "      <th>fractal_dimension_mean</th>\n",
       "      <th>...</th>\n",
       "      <th>texture_worst</th>\n",
       "      <th>perimeter_worst</th>\n",
       "      <th>area_worst</th>\n",
       "      <th>smoothness_worst</th>\n",
       "      <th>compactness_worst</th>\n",
       "      <th>concavity_worst</th>\n",
       "      <th>concave points_worst</th>\n",
       "      <th>symmetry_worst</th>\n",
       "      <th>fractal_dimension_worst</th>\n",
       "      <th>result</th>\n",
       "    </tr>\n",
       "  </thead>\n",
       "  <tbody>\n",
       "    <tr>\n",
       "      <th>0</th>\n",
       "      <td>17.99</td>\n",
       "      <td>10.38</td>\n",
       "      <td>122.80</td>\n",
       "      <td>1001.0</td>\n",
       "      <td>0.11840</td>\n",
       "      <td>0.27760</td>\n",
       "      <td>0.3001</td>\n",
       "      <td>0.14710</td>\n",
       "      <td>0.2419</td>\n",
       "      <td>0.07871</td>\n",
       "      <td>...</td>\n",
       "      <td>17.33</td>\n",
       "      <td>184.60</td>\n",
       "      <td>2019.0</td>\n",
       "      <td>0.1622</td>\n",
       "      <td>0.6656</td>\n",
       "      <td>0.7119</td>\n",
       "      <td>0.2654</td>\n",
       "      <td>0.4601</td>\n",
       "      <td>0.11890</td>\n",
       "      <td>1</td>\n",
       "    </tr>\n",
       "    <tr>\n",
       "      <th>1</th>\n",
       "      <td>20.57</td>\n",
       "      <td>17.77</td>\n",
       "      <td>132.90</td>\n",
       "      <td>1326.0</td>\n",
       "      <td>0.08474</td>\n",
       "      <td>0.07864</td>\n",
       "      <td>0.0869</td>\n",
       "      <td>0.07017</td>\n",
       "      <td>0.1812</td>\n",
       "      <td>0.05667</td>\n",
       "      <td>...</td>\n",
       "      <td>23.41</td>\n",
       "      <td>158.80</td>\n",
       "      <td>1956.0</td>\n",
       "      <td>0.1238</td>\n",
       "      <td>0.1866</td>\n",
       "      <td>0.2416</td>\n",
       "      <td>0.1860</td>\n",
       "      <td>0.2750</td>\n",
       "      <td>0.08902</td>\n",
       "      <td>1</td>\n",
       "    </tr>\n",
       "    <tr>\n",
       "      <th>2</th>\n",
       "      <td>19.69</td>\n",
       "      <td>21.25</td>\n",
       "      <td>130.00</td>\n",
       "      <td>1203.0</td>\n",
       "      <td>0.10960</td>\n",
       "      <td>0.15990</td>\n",
       "      <td>0.1974</td>\n",
       "      <td>0.12790</td>\n",
       "      <td>0.2069</td>\n",
       "      <td>0.05999</td>\n",
       "      <td>...</td>\n",
       "      <td>25.53</td>\n",
       "      <td>152.50</td>\n",
       "      <td>1709.0</td>\n",
       "      <td>0.1444</td>\n",
       "      <td>0.4245</td>\n",
       "      <td>0.4504</td>\n",
       "      <td>0.2430</td>\n",
       "      <td>0.3613</td>\n",
       "      <td>0.08758</td>\n",
       "      <td>1</td>\n",
       "    </tr>\n",
       "    <tr>\n",
       "      <th>3</th>\n",
       "      <td>11.42</td>\n",
       "      <td>20.38</td>\n",
       "      <td>77.58</td>\n",
       "      <td>386.1</td>\n",
       "      <td>0.14250</td>\n",
       "      <td>0.28390</td>\n",
       "      <td>0.2414</td>\n",
       "      <td>0.10520</td>\n",
       "      <td>0.2597</td>\n",
       "      <td>0.09744</td>\n",
       "      <td>...</td>\n",
       "      <td>26.50</td>\n",
       "      <td>98.87</td>\n",
       "      <td>567.7</td>\n",
       "      <td>0.2098</td>\n",
       "      <td>0.8663</td>\n",
       "      <td>0.6869</td>\n",
       "      <td>0.2575</td>\n",
       "      <td>0.6638</td>\n",
       "      <td>0.17300</td>\n",
       "      <td>1</td>\n",
       "    </tr>\n",
       "    <tr>\n",
       "      <th>4</th>\n",
       "      <td>20.29</td>\n",
       "      <td>14.34</td>\n",
       "      <td>135.10</td>\n",
       "      <td>1297.0</td>\n",
       "      <td>0.10030</td>\n",
       "      <td>0.13280</td>\n",
       "      <td>0.1980</td>\n",
       "      <td>0.10430</td>\n",
       "      <td>0.1809</td>\n",
       "      <td>0.05883</td>\n",
       "      <td>...</td>\n",
       "      <td>16.67</td>\n",
       "      <td>152.20</td>\n",
       "      <td>1575.0</td>\n",
       "      <td>0.1374</td>\n",
       "      <td>0.2050</td>\n",
       "      <td>0.4000</td>\n",
       "      <td>0.1625</td>\n",
       "      <td>0.2364</td>\n",
       "      <td>0.07678</td>\n",
       "      <td>1</td>\n",
       "    </tr>\n",
       "  </tbody>\n",
       "</table>\n",
       "<p>5 rows × 31 columns</p>\n",
       "</div>"
      ],
      "text/plain": [
       "   radius_mean  texture_mean  perimeter_mean  area_mean  smoothness_mean  \\\n",
       "0        17.99         10.38          122.80     1001.0          0.11840   \n",
       "1        20.57         17.77          132.90     1326.0          0.08474   \n",
       "2        19.69         21.25          130.00     1203.0          0.10960   \n",
       "3        11.42         20.38           77.58      386.1          0.14250   \n",
       "4        20.29         14.34          135.10     1297.0          0.10030   \n",
       "\n",
       "   compactness_mean  concavity_mean  concave points_mean  symmetry_mean  \\\n",
       "0           0.27760          0.3001              0.14710         0.2419   \n",
       "1           0.07864          0.0869              0.07017         0.1812   \n",
       "2           0.15990          0.1974              0.12790         0.2069   \n",
       "3           0.28390          0.2414              0.10520         0.2597   \n",
       "4           0.13280          0.1980              0.10430         0.1809   \n",
       "\n",
       "   fractal_dimension_mean  ...  texture_worst  perimeter_worst  area_worst  \\\n",
       "0                 0.07871  ...          17.33           184.60      2019.0   \n",
       "1                 0.05667  ...          23.41           158.80      1956.0   \n",
       "2                 0.05999  ...          25.53           152.50      1709.0   \n",
       "3                 0.09744  ...          26.50            98.87       567.7   \n",
       "4                 0.05883  ...          16.67           152.20      1575.0   \n",
       "\n",
       "   smoothness_worst  compactness_worst  concavity_worst  concave points_worst  \\\n",
       "0            0.1622             0.6656           0.7119                0.2654   \n",
       "1            0.1238             0.1866           0.2416                0.1860   \n",
       "2            0.1444             0.4245           0.4504                0.2430   \n",
       "3            0.2098             0.8663           0.6869                0.2575   \n",
       "4            0.1374             0.2050           0.4000                0.1625   \n",
       "\n",
       "   symmetry_worst  fractal_dimension_worst  result  \n",
       "0          0.4601                  0.11890       1  \n",
       "1          0.2750                  0.08902       1  \n",
       "2          0.3613                  0.08758       1  \n",
       "3          0.6638                  0.17300       1  \n",
       "4          0.2364                  0.07678       1  \n",
       "\n",
       "[5 rows x 31 columns]"
      ]
     },
     "execution_count": 14,
     "metadata": {},
     "output_type": "execute_result"
    }
   ],
   "source": [
    "data.drop(['id','diagnosis','Unnamed: 32'],inplace = True, axis = 1)\n",
    "data.head()"
   ]
  },
  {
   "cell_type": "code",
   "execution_count": 15,
   "metadata": {
    "colab": {
     "base_uri": "https://localhost:8080/",
     "height": 697
    },
    "colab_type": "code",
    "executionInfo": {
     "elapsed": 987,
     "status": "error",
     "timestamp": 1584257691509,
     "user": {
      "displayName": "Niharika Gupta",
      "photoUrl": "https://lh3.googleusercontent.com/a-/AOh14GiowaRtD9tAtZ04bgEThKoO-uPfYDdLG_W9xmgekg=s64",
      "userId": "13230985279441823383"
     },
     "user_tz": -330
    },
    "id": "vktHxhw7GUMP",
    "outputId": "28b3bb38-8d57-4825-b669-02e8bb00a5bf"
   },
   "outputs": [
    {
     "data": {
      "text/plain": [
       "Counter({1: 212, 0: 357})"
      ]
     },
     "execution_count": 15,
     "metadata": {},
     "output_type": "execute_result"
    }
   ],
   "source": [
    "from collections import Counter\n",
    "Counter(data['result'])"
   ]
  },
  {
   "cell_type": "code",
   "execution_count": 27,
   "metadata": {},
   "outputs": [],
   "source": [
    "Y = data['result'].values\n",
    "X = data.drop(['result'],axis=1).values"
   ]
  },
  {
   "cell_type": "code",
   "execution_count": 28,
   "metadata": {
    "colab": {
     "base_uri": "https://localhost:8080/",
     "height": 697
    },
    "colab_type": "code",
    "executionInfo": {
     "elapsed": 998,
     "status": "error",
     "timestamp": 1584257765666,
     "user": {
      "displayName": "Niharika Gupta",
      "photoUrl": "https://lh3.googleusercontent.com/a-/AOh14GiowaRtD9tAtZ04bgEThKoO-uPfYDdLG_W9xmgekg=s64",
      "userId": "13230985279441823383"
     },
     "user_tz": -330
    },
    "id": "ub2Kw5NdGP_s",
    "outputId": "3aba38c8-f3a3-46ec-f71b-5d634962558d"
   },
   "outputs": [],
   "source": [
    "from sklearn.model_selection import train_test_split\n",
    "X_train, X_test, y_train, y_test = train_test_split(X, Y, random_state=66)"
   ]
  },
  {
   "cell_type": "code",
   "execution_count": 29,
   "metadata": {},
   "outputs": [
    {
     "data": {
      "text/plain": [
       "((426, 1, 30), (143, 1, 30))"
      ]
     },
     "execution_count": 29,
     "metadata": {},
     "output_type": "execute_result"
    }
   ],
   "source": [
    "x_train = X_train.reshape(X_train.shape[0],1,X_train.shape[1])\n",
    "x_test = X_test.reshape(X_test.shape[0],1,X_test.shape[1])\n",
    "x_train.shape,x_test.shape"
   ]
  },
  {
   "cell_type": "markdown",
   "metadata": {
    "colab_type": "text",
    "id": "gqJjI2sjIc8R"
   },
   "source": [
    "LSTM"
   ]
  },
  {
   "cell_type": "code",
   "execution_count": 30,
   "metadata": {
    "colab": {},
    "colab_type": "code",
    "id": "Ha5TznUt3grc"
   },
   "outputs": [],
   "source": [
    "model = Sequential()\n",
    "model.add(LSTM(200,input_shape=(1,30),activation='relu',return_sequences=True))\n",
    "model.add(Dropout(0.3))\n",
    "model.add(LSTM(128, activation='relu'))\n",
    "model.add(Dropout(0.2))\n",
    "\n",
    "model.add(Dense(32, activation='relu'))\n",
    "model.add(Dropout(0.2))\n",
    "\n",
    "model.add(Dense(1, activation='sigmoid'))"
   ]
  },
  {
   "cell_type": "code",
   "execution_count": 31,
   "metadata": {
    "colab": {},
    "colab_type": "code",
    "id": "SJcmpi7pFimG"
   },
   "outputs": [],
   "source": [
    "lr = 1e-3"
   ]
  },
  {
   "cell_type": "code",
   "execution_count": 32,
   "metadata": {
    "colab": {},
    "colab_type": "code",
    "id": "X5UdJDNwFnxk"
   },
   "outputs": [],
   "source": [
    "opt = tf.keras.optimizers.Adam(lr=lr, decay=1e-5)"
   ]
  },
  {
   "cell_type": "code",
   "execution_count": 33,
   "metadata": {
    "colab": {},
    "colab_type": "code",
    "id": "kvAgSh-QFqae"
   },
   "outputs": [],
   "source": [
    "model.compile(loss='binary_crossentropy', optimizer=opt,\n",
    "             metrics=['accuracy'])"
   ]
  },
  {
   "cell_type": "code",
   "execution_count": 35,
   "metadata": {
    "colab": {
     "base_uri": "https://localhost:8080/",
     "height": 183
    },
    "colab_type": "code",
    "executionInfo": {
     "elapsed": 1207,
     "status": "error",
     "timestamp": 1584257238543,
     "user": {
      "displayName": "Niharika Gupta",
      "photoUrl": "https://lh3.googleusercontent.com/a-/AOh14GiowaRtD9tAtZ04bgEThKoO-uPfYDdLG_W9xmgekg=s64",
      "userId": "13230985279441823383"
     },
     "user_tz": -330
    },
    "id": "nyVw7sZiFtUm",
    "outputId": "cf6449c3-4c23-47a2-8c6c-ad53ef759614"
   },
   "outputs": [
    {
     "name": "stdout",
     "output_type": "stream",
     "text": [
      "Train on 426 samples, validate on 143 samples\n",
      "Epoch 1/5\n",
      "426/426 [==============================] - 10s 24ms/sample - loss: 3.4136 - accuracy: 0.5282 - val_loss: 1.7756 - val_accuracy: 0.3566\n",
      "Epoch 2/5\n",
      "426/426 [==============================] - 1s 1ms/sample - loss: 1.0599 - accuracy: 0.7160 - val_loss: 0.3968 - val_accuracy: 0.9021\n",
      "Epoch 3/5\n",
      "426/426 [==============================] - 1s 1ms/sample - loss: 0.7332 - accuracy: 0.7723 - val_loss: 0.5110 - val_accuracy: 0.8182\n",
      "Epoch 4/5\n",
      "426/426 [==============================] - 0s 1ms/sample - loss: 0.6537 - accuracy: 0.8310 - val_loss: 0.4357 - val_accuracy: 0.9091\n",
      "Epoch 5/5\n",
      "426/426 [==============================] - 0s 1ms/sample - loss: 0.7522 - accuracy: 0.7629 - val_loss: 0.4716 - val_accuracy: 0.8881\n"
     ]
    }
   ],
   "source": [
    "history = model.fit(x_train, y_train, epochs=5, validation_data=(x_test, y_test))"
   ]
  },
  {
   "cell_type": "code",
   "execution_count": 36,
   "metadata": {
    "colab": {
     "base_uri": "https://localhost:8080/",
     "height": 231
    },
    "colab_type": "code",
    "executionInfo": {
     "elapsed": 806,
     "status": "error",
     "timestamp": 1584257988793,
     "user": {
      "displayName": "Niharika Gupta",
      "photoUrl": "https://lh3.googleusercontent.com/a-/AOh14GiowaRtD9tAtZ04bgEThKoO-uPfYDdLG_W9xmgekg=s64",
      "userId": "13230985279441823383"
     },
     "user_tz": -330
    },
    "id": "VPlMCqRwFwD3",
    "outputId": "21d688bf-c08f-49b7-e115-f715d693a816"
   },
   "outputs": [
    {
     "data": {
      "text/plain": [
       "<matplotlib.legend.Legend at 0x20774542748>"
      ]
     },
     "execution_count": 36,
     "metadata": {},
     "output_type": "execute_result"
    },
    {
     "data": {
      "image/png": "[encoded data removed]",
      "text/plain": [
       "<Figure size 432x288 with 1 Axes>"
      ]
     },
     "metadata": {
      "needs_background": "light"
     },
     "output_type": "display_data"
    }
   ],
   "source": [
    "plt.plot(history.history['accuracy'], label='accuracy')\n",
    "plt.plot(history.history['val_accuracy'], label = 'val_accuracy')\n",
    "plt.xlabel('Epoch')\n",
    "plt.ylabel('Accuracy')\n",
    "plt.ylim([0.5, 1])\n",
    "plt.legend(loc='lower right')"
   ]
  },
  {
   "cell_type": "code",
   "execution_count": null,
   "metadata": {
    "colab": {},
    "colab_type": "code",
    "id": "mGUjVmnoInSX"
   },
   "outputs": [],
   "source": []
  },
  {
   "cell_type": "code",
   "execution_count": null,
   "metadata": {
    "colab": {
     "base_uri": "https://localhost:8080/",
     "height": 231
    },
    "colab_type": "code",
    "executionInfo": {
     "elapsed": 957,
     "status": "error",
     "timestamp": 1584258053055,
     "user": {
      "displayName": "Niharika Gupta",
      "photoUrl": "https://lh3.googleusercontent.com/a-/AOh14GiowaRtD9tAtZ04bgEThKoO-uPfYDdLG_W9xmgekg=s64",
      "userId": "13230985279441823383"
     },
     "user_tz": -330
    },
    "id": "kOSYMg2lIx40",
    "outputId": "ab08c387-cd4e-41f5-edd0-51bd13a19f58"
   },
   "outputs": [],
   "source": []
  },
  {
   "cell_type": "markdown",
   "metadata": {
    "colab_type": "text",
    "id": "LLCMjLPQJUMZ"
   },
   "source": [
    "ANN"
   ]
  },
  {
   "cell_type": "code",
   "execution_count": 37,
   "metadata": {
    "colab": {},
    "colab_type": "code",
    "id": "kyJAUp_pI2-d"
   },
   "outputs": [
    {
     "data": {
      "text/plain": [
       "(426, 30)"
      ]
     },
     "execution_count": 37,
     "metadata": {},
     "output_type": "execute_result"
    }
   ],
   "source": [
    "X_train.shape"
   ]
  },
  {
   "cell_type": "code",
   "execution_count": 42,
   "metadata": {
    "colab": {},
    "colab_type": "code",
    "id": "iVK0_-EPJaeq"
   },
   "outputs": [],
   "source": [
    "model = Sequential()\n",
    "model.add(Dense(128,input_dim=30,activation='relu'))\n",
    "model.add(Dense(256,activation='relu'))\n",
    "model.add(Dense(1,activation='sigmoid'))"
   ]
  },
  {
   "cell_type": "code",
   "execution_count": 43,
   "metadata": {
    "colab": {},
    "colab_type": "code",
    "id": "E9qMOvbHJdxQ"
   },
   "outputs": [],
   "source": [
    "model.compile(optimizer='adam',loss='binary_crossentropy',metrics=['accuracy'])"
   ]
  },
  {
   "cell_type": "code",
   "execution_count": 44,
   "metadata": {
    "colab": {},
    "colab_type": "code",
    "id": "aV8clg-wJhGc"
   },
   "outputs": [
    {
     "name": "stdout",
     "output_type": "stream",
     "text": [
      "Train on 426 samples, validate on 143 samples\n",
      "Epoch 1/5\n",
      "426/426 [==============================] - 1s 3ms/sample - loss: 12.0957 - accuracy: 0.4319 - val_loss: 4.1672 - val_accuracy: 0.7273\n",
      "Epoch 2/5\n",
      "426/426 [==============================] - 0s 370us/sample - loss: 1.7017 - accuracy: 0.7817 - val_loss: 0.7255 - val_accuracy: 0.8881\n",
      "Epoch 3/5\n",
      "426/426 [==============================] - 0s 615us/sample - loss: 0.5784 - accuracy: 0.8897 - val_loss: 0.4553 - val_accuracy: 0.9091\n",
      "Epoch 4/5\n",
      "426/426 [==============================] - 0s 595us/sample - loss: 0.7634 - accuracy: 0.8756 - val_loss: 1.6735 - val_accuracy: 0.8462\n",
      "Epoch 5/5\n",
      "426/426 [==============================] - 0s 579us/sample - loss: 0.6579 - accuracy: 0.8897 - val_loss: 0.5783 - val_accuracy: 0.8322\n"
     ]
    }
   ],
   "source": [
    "history = model.fit(X_train,y_train,epochs=5,validation_data=(X_test,y_test))"
   ]
  },
  {
   "cell_type": "code",
   "execution_count": 45,
   "metadata": {
    "colab": {},
    "colab_type": "code",
    "id": "_7SmdRfZJjVp"
   },
   "outputs": [
    {
     "data": {
      "text/plain": [
       "<matplotlib.legend.Legend at 0x20774f1af88>"
      ]
     },
     "execution_count": 45,
     "metadata": {},
     "output_type": "execute_result"
    },
    {
     "data": {
      "image/png": "[encoded data removed]",
      "text/plain": [
       "<Figure size 432x288 with 1 Axes>"
      ]
     },
     "metadata": {
      "needs_background": "light"
     },
     "output_type": "display_data"
    }
   ],
   "source": [
    "plt.plot(history.history['accuracy'], label='accuracy')\n",
    "plt.plot(history.history['val_accuracy'], label = 'val_accuracy')\n",
    "plt.xlabel('Epoch')\n",
    "plt.ylabel('Accuracy')\n",
    "plt.ylim([0.5, 1])\n",
    "plt.legend(loc='lower right')"
   ]
  },
  {
   "cell_type": "markdown",
   "metadata": {
    "colab_type": "text",
    "id": "0jkWJ10RJlZc"
   },
   "source": [
    "RNN"
   ]
  },
  {
   "cell_type": "code",
   "execution_count": 46,
   "metadata": {
    "colab": {},
    "colab_type": "code",
    "id": "iyhNJlQlJmkT"
   },
   "outputs": [],
   "source": [
    "model_rnn = Sequential()\n",
    "model_rnn.add(SimpleRNN(200,input_shape=(1,30),activation='relu'))\n",
    "model_rnn.add(Dropout(0.3))\n",
    "\n",
    "model_rnn.add(Dense(32, activation='relu'))\n",
    "model_rnn.add(Dropout(0.2))\n",
    "\n",
    "model_rnn.add(Dense(1, activation='sigmoid'))"
   ]
  },
  {
   "cell_type": "code",
   "execution_count": 47,
   "metadata": {
    "colab": {},
    "colab_type": "code",
    "id": "15YqddfIJp2Q"
   },
   "outputs": [],
   "source": [
    "model_rnn.compile(optimizer=keras.optimizers.Adam(learning_rate=lr),loss='binary_crossentropy',metrics=['accuracy'])"
   ]
  },
  {
   "cell_type": "code",
   "execution_count": 49,
   "metadata": {
    "colab": {},
    "colab_type": "code",
    "id": "c9o7Wyx-JsFC"
   },
   "outputs": [
    {
     "name": "stdout",
     "output_type": "stream",
     "text": [
      "Train on 426 samples, validate on 143 samples\n",
      "Epoch 1/5\n",
      "426/426 [==============================] - 3s 7ms/sample - loss: 37.0082 - accuracy: 0.4225 - val_loss: 1.5260 - val_accuracy: 0.7692\n",
      "Epoch 2/5\n",
      "426/426 [==============================] - 0s 773us/sample - loss: 15.8372 - accuracy: 0.6221 - val_loss: 2.3604 - val_accuracy: 0.6434\n",
      "Epoch 3/5\n",
      "426/426 [==============================] - 0s 747us/sample - loss: 13.1819 - accuracy: 0.5845 - val_loss: 0.6992 - val_accuracy: 0.8951\n",
      "Epoch 4/5\n",
      "426/426 [==============================] - 0s 763us/sample - loss: 7.3540 - accuracy: 0.6009 - val_loss: 0.4433 - val_accuracy: 0.8811\n",
      "Epoch 5/5\n",
      "426/426 [==============================] - 0s 779us/sample - loss: 4.9973 - accuracy: 0.6338 - val_loss: 0.3099 - val_accuracy: 0.8811\n"
     ]
    }
   ],
   "source": [
    "history = model_rnn.fit(x_train,y_train,epochs=5,validation_data=(x_test,y_test))"
   ]
  },
  {
   "cell_type": "code",
   "execution_count": 50,
   "metadata": {
    "colab": {},
    "colab_type": "code",
    "id": "zueTVzY9Jvg-"
   },
   "outputs": [
    {
     "data": {
      "text/plain": [
       "<matplotlib.legend.Legend at 0x2076bbb8fc8>"
      ]
     },
     "execution_count": 50,
     "metadata": {},
     "output_type": "execute_result"
    },
    {
     "data": {
      "image/png": "[encoded data removed]",
      "text/plain": [
       "<Figure size 432x288 with 1 Axes>"
      ]
     },
     "metadata": {
      "needs_background": "light"
     },
     "output_type": "display_data"
    }
   ],
   "source": [
    "plt.plot(history.history['accuracy'], label='accuracy')\n",
    "plt.plot(history.history['val_accuracy'], label = 'val_accuracy')\n",
    "plt.xlabel('Epoch')\n",
    "plt.ylabel('Accuracy')\n",
    "plt.ylim([0.5, 1])\n",
    "plt.legend(loc='lower right')"
   ]
  },
  {
   "cell_type": "code",
   "execution_count": null,
   "metadata": {},
   "outputs": [],
   "source": []
  }
 ],
 "metadata": {
  "colab": {
   "authorship_tag": "ABX9TyMbTxr/GE743yT8j2Fjtz4d",
   "collapsed_sections": [],
   "name": "Breastcancer.ipynb",
   "provenance": [
    {
     "file_id": "1nMftcMiW-tyo59nhJqxOOiNrtJzxTkQh",
     "timestamp": 1584258314930
    }
   ]
  },
  "kernelspec": {
   "display_name": "Python 3",
   "language": "python",
   "name": "python3"
  },
  "language_info": {
   "codemirror_mode": {
    "name": "ipython",
    "version": 3
   },
   "file_extension": ".py",
   "mimetype": "text/x-python",
   "name": "python",
   "nbconvert_exporter": "python",
   "pygments_lexer": "ipython3",
   "version": "3.7.6"
  }
 },
 "nbformat": 4,
 "nbformat_minor": 1
}
