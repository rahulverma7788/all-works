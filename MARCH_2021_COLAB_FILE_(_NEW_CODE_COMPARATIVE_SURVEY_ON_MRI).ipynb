{
  "nbformat": 4,
  "nbformat_minor": 0,
  "metadata": {
    "colab": {
      "name": "MARCH  2021  COLAB FILE ( NEW CODE  COMPARATIVE SURVEY ON MRI)",
      "provenance": [],
      "collapsed_sections": []
    },
    "kernelspec": {
      "name": "python3",
      "display_name": "Python 3"
    },
    "accelerator": "GPU"
  },
  "cells": [
    {
      "cell_type": "code",
      "metadata": {
        "id": "UabKrcjrP5-H",
        "colab": {
          "base_uri": "https://localhost:8080/"
        },
        "outputId": "7f02a5fd-1520-4b65-d3b5-478558c92d2e"
      },
      "source": [
        "!pip install tensorflow==2.0.0"
      ],
      "execution_count": null,
      "outputs": [
        {
          "output_type": "stream",
          "text": [
            "Collecting tensorflow==2.0.0\n",
            "\u001b[?25l  Downloading https://files.pythonhosted.org/packages/2a/5c/f1d66de5dde6f3ff528f6ea1fd0757a0e594d17debb3ec7f82daa967ea9a/tensorflow-2.0.0-cp37-cp37m-manylinux2010_x86_64.whl (86.3MB)\n",
            "\u001b[K     |████████████████████████████████| 86.3MB 51kB/s \n",
            "\u001b[?25hRequirement already satisfied: numpy<2.0,>=1.16.0 in /usr/local/lib/python3.7/dist-packages (from tensorflow==2.0.0) (1.19.5)\n",
            "Collecting keras-applications>=1.0.8\n",
            "\u001b[?25l  Downloading https://files.pythonhosted.org/packages/71/e3/19762fdfc62877ae9102edf6342d71b28fbfd9dea3d2f96a882ce099b03f/Keras_Applications-1.0.8-py3-none-any.whl (50kB)\n",
            "\u001b[K     |████████████████████████████████| 51kB 6.4MB/s \n",
            "\u001b[?25hRequirement already satisfied: six>=1.10.0 in /usr/local/lib/python3.7/dist-packages (from tensorflow==2.0.0) (1.15.0)\n",
            "Requirement already satisfied: astor>=0.6.0 in /usr/local/lib/python3.7/dist-packages (from tensorflow==2.0.0) (0.8.1)\n",
            "Requirement already satisfied: keras-preprocessing>=1.0.5 in /usr/local/lib/python3.7/dist-packages (from tensorflow==2.0.0) (1.1.2)\n",
            "Collecting tensorboard<2.1.0,>=2.0.0\n",
            "\u001b[?25l  Downloading https://files.pythonhosted.org/packages/76/54/99b9d5d52d5cb732f099baaaf7740403e83fe6b0cedde940fabd2b13d75a/tensorboard-2.0.2-py3-none-any.whl (3.8MB)\n",
            "\u001b[K     |████████████████████████████████| 3.8MB 38.8MB/s \n",
            "\u001b[?25hRequirement already satisfied: termcolor>=1.1.0 in /usr/local/lib/python3.7/dist-packages (from tensorflow==2.0.0) (1.1.0)\n",
            "Requirement already satisfied: wrapt>=1.11.1 in /usr/local/lib/python3.7/dist-packages (from tensorflow==2.0.0) (1.12.1)\n",
            "Requirement already satisfied: protobuf>=3.6.1 in /usr/local/lib/python3.7/dist-packages (from tensorflow==2.0.0) (3.12.4)\n",
            "Collecting tensorflow-estimator<2.1.0,>=2.0.0\n",
            "\u001b[?25l  Downloading https://files.pythonhosted.org/packages/fc/08/8b927337b7019c374719145d1dceba21a8bb909b93b1ad6f8fb7d22c1ca1/tensorflow_estimator-2.0.1-py2.py3-none-any.whl (449kB)\n",
            "\u001b[K     |████████████████████████████████| 450kB 37.1MB/s \n",
            "\u001b[?25hRequirement already satisfied: grpcio>=1.8.6 in /usr/local/lib/python3.7/dist-packages (from tensorflow==2.0.0) (1.32.0)\n",
            "Collecting gast==0.2.2\n",
            "  Downloading https://files.pythonhosted.org/packages/4e/35/11749bf99b2d4e3cceb4d55ca22590b0d7c2c62b9de38ac4a4a7f4687421/gast-0.2.2.tar.gz\n",
            "Requirement already satisfied: google-pasta>=0.1.6 in /usr/local/lib/python3.7/dist-packages (from tensorflow==2.0.0) (0.2.0)\n",
            "Requirement already satisfied: absl-py>=0.7.0 in /usr/local/lib/python3.7/dist-packages (from tensorflow==2.0.0) (0.12.0)\n",
            "Requirement already satisfied: opt-einsum>=2.3.2 in /usr/local/lib/python3.7/dist-packages (from tensorflow==2.0.0) (3.3.0)\n",
            "Requirement already satisfied: wheel>=0.26 in /usr/local/lib/python3.7/dist-packages (from tensorflow==2.0.0) (0.36.2)\n",
            "Requirement already satisfied: h5py in /usr/local/lib/python3.7/dist-packages (from keras-applications>=1.0.8->tensorflow==2.0.0) (2.10.0)\n",
            "Requirement already satisfied: werkzeug>=0.11.15 in /usr/local/lib/python3.7/dist-packages (from tensorboard<2.1.0,>=2.0.0->tensorflow==2.0.0) (1.0.1)\n",
            "Requirement already satisfied: setuptools>=41.0.0 in /usr/local/lib/python3.7/dist-packages (from tensorboard<2.1.0,>=2.0.0->tensorflow==2.0.0) (54.2.0)\n",
            "Requirement already satisfied: google-auth<2,>=1.6.3 in /usr/local/lib/python3.7/dist-packages (from tensorboard<2.1.0,>=2.0.0->tensorflow==2.0.0) (1.28.0)\n",
            "Requirement already satisfied: markdown>=2.6.8 in /usr/local/lib/python3.7/dist-packages (from tensorboard<2.1.0,>=2.0.0->tensorflow==2.0.0) (3.3.4)\n",
            "Requirement already satisfied: google-auth-oauthlib<0.5,>=0.4.1 in /usr/local/lib/python3.7/dist-packages (from tensorboard<2.1.0,>=2.0.0->tensorflow==2.0.0) (0.4.3)\n",
            "Requirement already satisfied: requests<3,>=2.21.0 in /usr/local/lib/python3.7/dist-packages (from tensorboard<2.1.0,>=2.0.0->tensorflow==2.0.0) (2.23.0)\n",
            "Requirement already satisfied: cachetools<5.0,>=2.0.0 in /usr/local/lib/python3.7/dist-packages (from google-auth<2,>=1.6.3->tensorboard<2.1.0,>=2.0.0->tensorflow==2.0.0) (4.2.1)\n",
            "Requirement already satisfied: pyasn1-modules>=0.2.1 in /usr/local/lib/python3.7/dist-packages (from google-auth<2,>=1.6.3->tensorboard<2.1.0,>=2.0.0->tensorflow==2.0.0) (0.2.8)\n",
            "Requirement already satisfied: rsa<5,>=3.1.4; python_version >= \"3.6\" in /usr/local/lib/python3.7/dist-packages (from google-auth<2,>=1.6.3->tensorboard<2.1.0,>=2.0.0->tensorflow==2.0.0) (4.7.2)\n",
            "Requirement already satisfied: importlib-metadata; python_version < \"3.8\" in /usr/local/lib/python3.7/dist-packages (from markdown>=2.6.8->tensorboard<2.1.0,>=2.0.0->tensorflow==2.0.0) (3.8.1)\n",
            "Requirement already satisfied: requests-oauthlib>=0.7.0 in /usr/local/lib/python3.7/dist-packages (from google-auth-oauthlib<0.5,>=0.4.1->tensorboard<2.1.0,>=2.0.0->tensorflow==2.0.0) (1.3.0)\n",
            "Requirement already satisfied: chardet<4,>=3.0.2 in /usr/local/lib/python3.7/dist-packages (from requests<3,>=2.21.0->tensorboard<2.1.0,>=2.0.0->tensorflow==2.0.0) (3.0.4)\n",
            "Requirement already satisfied: certifi>=2017.4.17 in /usr/local/lib/python3.7/dist-packages (from requests<3,>=2.21.0->tensorboard<2.1.0,>=2.0.0->tensorflow==2.0.0) (2020.12.5)\n",
            "Requirement already satisfied: idna<3,>=2.5 in /usr/local/lib/python3.7/dist-packages (from requests<3,>=2.21.0->tensorboard<2.1.0,>=2.0.0->tensorflow==2.0.0) (2.10)\n",
            "Requirement already satisfied: urllib3!=1.25.0,!=1.25.1,<1.26,>=1.21.1 in /usr/local/lib/python3.7/dist-packages (from requests<3,>=2.21.0->tensorboard<2.1.0,>=2.0.0->tensorflow==2.0.0) (1.24.3)\n",
            "Requirement already satisfied: pyasn1<0.5.0,>=0.4.6 in /usr/local/lib/python3.7/dist-packages (from pyasn1-modules>=0.2.1->google-auth<2,>=1.6.3->tensorboard<2.1.0,>=2.0.0->tensorflow==2.0.0) (0.4.8)\n",
            "Requirement already satisfied: typing-extensions>=3.6.4; python_version < \"3.8\" in /usr/local/lib/python3.7/dist-packages (from importlib-metadata; python_version < \"3.8\"->markdown>=2.6.8->tensorboard<2.1.0,>=2.0.0->tensorflow==2.0.0) (3.7.4.3)\n",
            "Requirement already satisfied: zipp>=0.5 in /usr/local/lib/python3.7/dist-packages (from importlib-metadata; python_version < \"3.8\"->markdown>=2.6.8->tensorboard<2.1.0,>=2.0.0->tensorflow==2.0.0) (3.4.1)\n",
            "Requirement already satisfied: oauthlib>=3.0.0 in /usr/local/lib/python3.7/dist-packages (from requests-oauthlib>=0.7.0->google-auth-oauthlib<0.5,>=0.4.1->tensorboard<2.1.0,>=2.0.0->tensorflow==2.0.0) (3.1.0)\n",
            "Building wheels for collected packages: gast\n",
            "  Building wheel for gast (setup.py) ... \u001b[?25l\u001b[?25hdone\n",
            "  Created wheel for gast: filename=gast-0.2.2-cp37-none-any.whl size=7540 sha256=6809153ee57a86182b51987ca4a167fc851e3e09d2606deaf1788a6729feabad\n",
            "  Stored in directory: /root/.cache/pip/wheels/5c/2e/7e/a1d4d4fcebe6c381f378ce7743a3ced3699feb89bcfbdadadd\n",
            "Successfully built gast\n",
            "\u001b[31mERROR: tensorflow-probability 0.12.1 has requirement gast>=0.3.2, but you'll have gast 0.2.2 which is incompatible.\u001b[0m\n",
            "Installing collected packages: keras-applications, tensorboard, tensorflow-estimator, gast, tensorflow\n",
            "  Found existing installation: tensorboard 2.4.1\n",
            "    Uninstalling tensorboard-2.4.1:\n",
            "      Successfully uninstalled tensorboard-2.4.1\n",
            "  Found existing installation: tensorflow-estimator 2.4.0\n",
            "    Uninstalling tensorflow-estimator-2.4.0:\n",
            "      Successfully uninstalled tensorflow-estimator-2.4.0\n",
            "  Found existing installation: gast 0.3.3\n",
            "    Uninstalling gast-0.3.3:\n",
            "      Successfully uninstalled gast-0.3.3\n",
            "  Found existing installation: tensorflow 2.4.1\n",
            "    Uninstalling tensorflow-2.4.1:\n",
            "      Successfully uninstalled tensorflow-2.4.1\n",
            "Successfully installed gast-0.2.2 keras-applications-1.0.8 tensorboard-2.0.2 tensorflow-2.0.0 tensorflow-estimator-2.0.1\n"
          ],
          "name": "stdout"
        }
      ]
    },
    {
      "cell_type": "code",
      "metadata": {
        "id": "eWov6oK42prT",
        "colab": {
          "base_uri": "https://localhost:8080/"
        },
        "outputId": "d0d0ad96-d1b8-458f-da80-c67f037f7ac2"
      },
      "source": [
        "!pip install tensorflow-gpu==2.0.0"
      ],
      "execution_count": null,
      "outputs": [
        {
          "output_type": "stream",
          "text": [
            "Collecting tensorflow-gpu==2.0.0\n",
            "\u001b[?25l  Downloading https://files.pythonhosted.org/packages/a1/eb/bc0784af18f612838f90419cf4805c37c20ddb957f5ffe0c42144562dcfa/tensorflow_gpu-2.0.0-cp37-cp37m-manylinux2010_x86_64.whl (380.8MB)\n",
            "\u001b[K     |████████████████████████████████| 380.8MB 43kB/s \n",
            "\u001b[?25hRequirement already satisfied: tensorflow-estimator<2.1.0,>=2.0.0 in /usr/local/lib/python3.7/dist-packages (from tensorflow-gpu==2.0.0) (2.0.1)\n",
            "Requirement already satisfied: grpcio>=1.8.6 in /usr/local/lib/python3.7/dist-packages (from tensorflow-gpu==2.0.0) (1.32.0)\n",
            "Requirement already satisfied: keras-preprocessing>=1.0.5 in /usr/local/lib/python3.7/dist-packages (from tensorflow-gpu==2.0.0) (1.1.2)\n",
            "Requirement already satisfied: opt-einsum>=2.3.2 in /usr/local/lib/python3.7/dist-packages (from tensorflow-gpu==2.0.0) (3.3.0)\n",
            "Requirement already satisfied: wrapt>=1.11.1 in /usr/local/lib/python3.7/dist-packages (from tensorflow-gpu==2.0.0) (1.12.1)\n",
            "Requirement already satisfied: numpy<2.0,>=1.16.0 in /usr/local/lib/python3.7/dist-packages (from tensorflow-gpu==2.0.0) (1.19.5)\n",
            "Requirement already satisfied: termcolor>=1.1.0 in /usr/local/lib/python3.7/dist-packages (from tensorflow-gpu==2.0.0) (1.1.0)\n",
            "Requirement already satisfied: six>=1.10.0 in /usr/local/lib/python3.7/dist-packages (from tensorflow-gpu==2.0.0) (1.15.0)\n",
            "Requirement already satisfied: gast==0.2.2 in /usr/local/lib/python3.7/dist-packages (from tensorflow-gpu==2.0.0) (0.2.2)\n",
            "Requirement already satisfied: absl-py>=0.7.0 in /usr/local/lib/python3.7/dist-packages (from tensorflow-gpu==2.0.0) (0.12.0)\n",
            "Requirement already satisfied: astor>=0.6.0 in /usr/local/lib/python3.7/dist-packages (from tensorflow-gpu==2.0.0) (0.8.1)\n",
            "Requirement already satisfied: wheel>=0.26 in /usr/local/lib/python3.7/dist-packages (from tensorflow-gpu==2.0.0) (0.36.2)\n",
            "Requirement already satisfied: tensorboard<2.1.0,>=2.0.0 in /usr/local/lib/python3.7/dist-packages (from tensorflow-gpu==2.0.0) (2.0.2)\n",
            "Requirement already satisfied: protobuf>=3.6.1 in /usr/local/lib/python3.7/dist-packages (from tensorflow-gpu==2.0.0) (3.12.4)\n",
            "Requirement already satisfied: google-pasta>=0.1.6 in /usr/local/lib/python3.7/dist-packages (from tensorflow-gpu==2.0.0) (0.2.0)\n",
            "Requirement already satisfied: keras-applications>=1.0.8 in /usr/local/lib/python3.7/dist-packages (from tensorflow-gpu==2.0.0) (1.0.8)\n",
            "Requirement already satisfied: google-auth<2,>=1.6.3 in /usr/local/lib/python3.7/dist-packages (from tensorboard<2.1.0,>=2.0.0->tensorflow-gpu==2.0.0) (1.28.0)\n",
            "Requirement already satisfied: google-auth-oauthlib<0.5,>=0.4.1 in /usr/local/lib/python3.7/dist-packages (from tensorboard<2.1.0,>=2.0.0->tensorflow-gpu==2.0.0) (0.4.3)\n",
            "Requirement already satisfied: markdown>=2.6.8 in /usr/local/lib/python3.7/dist-packages (from tensorboard<2.1.0,>=2.0.0->tensorflow-gpu==2.0.0) (3.3.4)\n",
            "Requirement already satisfied: setuptools>=41.0.0 in /usr/local/lib/python3.7/dist-packages (from tensorboard<2.1.0,>=2.0.0->tensorflow-gpu==2.0.0) (54.2.0)\n",
            "Requirement already satisfied: werkzeug>=0.11.15 in /usr/local/lib/python3.7/dist-packages (from tensorboard<2.1.0,>=2.0.0->tensorflow-gpu==2.0.0) (1.0.1)\n",
            "Requirement already satisfied: requests<3,>=2.21.0 in /usr/local/lib/python3.7/dist-packages (from tensorboard<2.1.0,>=2.0.0->tensorflow-gpu==2.0.0) (2.23.0)\n",
            "Requirement already satisfied: h5py in /usr/local/lib/python3.7/dist-packages (from keras-applications>=1.0.8->tensorflow-gpu==2.0.0) (2.10.0)\n",
            "Requirement already satisfied: pyasn1-modules>=0.2.1 in /usr/local/lib/python3.7/dist-packages (from google-auth<2,>=1.6.3->tensorboard<2.1.0,>=2.0.0->tensorflow-gpu==2.0.0) (0.2.8)\n",
            "Requirement already satisfied: rsa<5,>=3.1.4; python_version >= \"3.6\" in /usr/local/lib/python3.7/dist-packages (from google-auth<2,>=1.6.3->tensorboard<2.1.0,>=2.0.0->tensorflow-gpu==2.0.0) (4.7.2)\n",
            "Requirement already satisfied: cachetools<5.0,>=2.0.0 in /usr/local/lib/python3.7/dist-packages (from google-auth<2,>=1.6.3->tensorboard<2.1.0,>=2.0.0->tensorflow-gpu==2.0.0) (4.2.1)\n",
            "Requirement already satisfied: requests-oauthlib>=0.7.0 in /usr/local/lib/python3.7/dist-packages (from google-auth-oauthlib<0.5,>=0.4.1->tensorboard<2.1.0,>=2.0.0->tensorflow-gpu==2.0.0) (1.3.0)\n",
            "Requirement already satisfied: importlib-metadata; python_version < \"3.8\" in /usr/local/lib/python3.7/dist-packages (from markdown>=2.6.8->tensorboard<2.1.0,>=2.0.0->tensorflow-gpu==2.0.0) (3.8.1)\n",
            "Requirement already satisfied: idna<3,>=2.5 in /usr/local/lib/python3.7/dist-packages (from requests<3,>=2.21.0->tensorboard<2.1.0,>=2.0.0->tensorflow-gpu==2.0.0) (2.10)\n",
            "Requirement already satisfied: chardet<4,>=3.0.2 in /usr/local/lib/python3.7/dist-packages (from requests<3,>=2.21.0->tensorboard<2.1.0,>=2.0.0->tensorflow-gpu==2.0.0) (3.0.4)\n",
            "Requirement already satisfied: certifi>=2017.4.17 in /usr/local/lib/python3.7/dist-packages (from requests<3,>=2.21.0->tensorboard<2.1.0,>=2.0.0->tensorflow-gpu==2.0.0) (2020.12.5)\n",
            "Requirement already satisfied: urllib3!=1.25.0,!=1.25.1,<1.26,>=1.21.1 in /usr/local/lib/python3.7/dist-packages (from requests<3,>=2.21.0->tensorboard<2.1.0,>=2.0.0->tensorflow-gpu==2.0.0) (1.24.3)\n",
            "Requirement already satisfied: pyasn1<0.5.0,>=0.4.6 in /usr/local/lib/python3.7/dist-packages (from pyasn1-modules>=0.2.1->google-auth<2,>=1.6.3->tensorboard<2.1.0,>=2.0.0->tensorflow-gpu==2.0.0) (0.4.8)\n",
            "Requirement already satisfied: oauthlib>=3.0.0 in /usr/local/lib/python3.7/dist-packages (from requests-oauthlib>=0.7.0->google-auth-oauthlib<0.5,>=0.4.1->tensorboard<2.1.0,>=2.0.0->tensorflow-gpu==2.0.0) (3.1.0)\n",
            "Requirement already satisfied: typing-extensions>=3.6.4; python_version < \"3.8\" in /usr/local/lib/python3.7/dist-packages (from importlib-metadata; python_version < \"3.8\"->markdown>=2.6.8->tensorboard<2.1.0,>=2.0.0->tensorflow-gpu==2.0.0) (3.7.4.3)\n",
            "Requirement already satisfied: zipp>=0.5 in /usr/local/lib/python3.7/dist-packages (from importlib-metadata; python_version < \"3.8\"->markdown>=2.6.8->tensorboard<2.1.0,>=2.0.0->tensorflow-gpu==2.0.0) (3.4.1)\n",
            "Installing collected packages: tensorflow-gpu\n",
            "Successfully installed tensorflow-gpu-2.0.0\n"
          ],
          "name": "stdout"
        }
      ]
    },
    {
      "cell_type": "code",
      "metadata": {
        "id": "08mcMPdl3JTi",
        "colab": {
          "base_uri": "https://localhost:8080/"
        },
        "outputId": "5213a39c-2485-45f9-9208-7dd7d4c5f03e"
      },
      "source": [
        "import tensorflow as tf\n",
        "print(tf.__version__)\n",
        "tf.test.is_gpu_available()"
      ],
      "execution_count": null,
      "outputs": [
        {
          "output_type": "stream",
          "text": [
            "2.0.0\n"
          ],
          "name": "stdout"
        },
        {
          "output_type": "execute_result",
          "data": {
            "text/plain": [
              "True"
            ]
          },
          "metadata": {
            "tags": []
          },
          "execution_count": 4
        }
      ]
    },
    {
      "cell_type": "code",
      "metadata": {
        "colab": {
          "base_uri": "https://localhost:8080/"
        },
        "id": "xPGlteHoou_q",
        "outputId": "fdcfce3c-37d4-4c79-a243-0dc02be4fe21"
      },
      "source": [
        "from google.colab import drive\n",
        "drive.mount('/content/drive')"
      ],
      "execution_count": null,
      "outputs": [
        {
          "output_type": "stream",
          "text": [
            "Mounted at /content/drive\n"
          ],
          "name": "stdout"
        }
      ]
    },
    {
      "cell_type": "code",
      "metadata": {
        "id": "uX4HoWBT4hXd",
        "colab": {
          "base_uri": "https://localhost:8080/"
        },
        "outputId": "5e4e564d-cca6-4850-f325-f2f277fa08b5"
      },
      "source": [
        "%cd \"/content/gdrive/My Drive/PHD DATA/Data set and implemented code 2020 /CODE IMPLEMENTED (COMPARATIVE ANALYSIS)/Axial Image Data\""
      ],
      "execution_count": null,
      "outputs": [
        {
          "output_type": "stream",
          "text": [
            "[Errno 2] No such file or directory: '/content/gdrive/My Drive/PHD DATA/Data set and implemented code 2020 /CODE IMPLEMENTED (COMPARATIVE ANALYSIS)/Axial Image Data'\n",
            "/content\n"
          ],
          "name": "stdout"
        }
      ]
    },
    {
      "cell_type": "code",
      "metadata": {
        "id": "FugJCpU-qnJc"
      },
      "source": [
        "import numpy as np\n",
        "import pandas as pd\n",
        "import matplotlib.pyplot as plt\n",
        "import tensorflow as tf\n",
        "from tensorflow import keras\n",
        "import os\n",
        "# for doc commands like directory and all \n",
        "from tensorflow.keras.preprocessing.image import ImageDataGenerator\n",
        "%matplotlib inline\n"
      ],
      "execution_count": null,
      "outputs": []
    },
    {
      "cell_type": "code",
      "metadata": {
        "id": "T_O58cJNqxhP",
        "colab": {
          "base_uri": "https://localhost:8080/",
          "height": 35
        },
        "outputId": "6002d4bd-e0be-443d-9139-c292f5f7dd74"
      },
      "source": [
        "path=os.getcwd()\n",
        "path"
      ],
      "execution_count": null,
      "outputs": [
        {
          "output_type": "execute_result",
          "data": {
            "application/vnd.google.colaboratory.intrinsic+json": {
              "type": "string"
            },
            "text/plain": [
              "'/content'"
            ]
          },
          "metadata": {
            "tags": []
          },
          "execution_count": 7
        }
      ]
    },
    {
      "cell_type": "code",
      "metadata": {
        "id": "-Z_zVGIUtV3W",
        "colab": {
          "base_uri": "https://localhost:8080/"
        },
        "outputId": "629ae756-070f-4d7f-e4e9-3807a6d47f38"
      },
      "source": [
        "!ls PHD DATA"
      ],
      "execution_count": null,
      "outputs": [
        {
          "output_type": "stream",
          "text": [
            "ls: cannot access 'PHD': No such file or directory\n",
            "ls: cannot access 'DATA': No such file or directory\n"
          ],
          "name": "stdout"
        }
      ]
    },
    {
      "cell_type": "code",
      "metadata": {
        "id": "PmztDFaGuuhz",
        "colab": {
          "base_uri": "https://localhost:8080/"
        },
        "outputId": "67ea2fa6-f39b-45ee-f57c-79fac4a3c81a"
      },
      "source": [
        "!ls drive"
      ],
      "execution_count": null,
      "outputs": [
        {
          "output_type": "stream",
          "text": [
            "MyDrive\n"
          ],
          "name": "stdout"
        }
      ]
    },
    {
      "cell_type": "code",
      "metadata": {
        "id": "kE2tVibfup5Q",
        "colab": {
          "base_uri": "https://localhost:8080/"
        },
        "outputId": "cde41d30-bba8-41c4-c63a-3ede52ac85fa"
      },
      "source": [
        "from google.colab import drive\n",
        "drive.mount('/content/drive')"
      ],
      "execution_count": null,
      "outputs": [
        {
          "output_type": "stream",
          "text": [
            "Drive already mounted at /content/drive; to attempt to forcibly remount, call drive.mount(\"/content/drive\", force_remount=True).\n"
          ],
          "name": "stdout"
        }
      ]
    },
    {
      "cell_type": "code",
      "metadata": {
        "id": "_nXXju1Eu0mz",
        "colab": {
          "base_uri": "https://localhost:8080/"
        },
        "outputId": "040d254a-3b54-4d68-a0fd-52564b5d1035"
      },
      "source": [
        "drive.mount(\"/content/drive\", force_remount=True)"
      ],
      "execution_count": null,
      "outputs": [
        {
          "output_type": "stream",
          "text": [
            "Mounted at /content/drive\n"
          ],
          "name": "stdout"
        }
      ]
    },
    {
      "cell_type": "code",
      "metadata": {
        "id": "7JPAkhWqvB1J"
      },
      "source": [
        "import os\n",
        "os.chdir(\"/content/drive/MyDrive\")"
      ],
      "execution_count": null,
      "outputs": []
    },
    {
      "cell_type": "code",
      "metadata": {
        "id": "N912NAJywT31",
        "colab": {
          "base_uri": "https://localhost:8080/"
        },
        "outputId": "287fa858-8024-4e64-a013-44df2083e956"
      },
      "source": [
        "# Change this path where your dataset is located\n",
        "%cd \"/content/drive/My Drive/PHD DATA/Data set and implemented code 2020 /CODE IMPLEMENTED (COMPARATIVE ANALYSIS)/Axial Image Data\""
      ],
      "execution_count": null,
      "outputs": [
        {
          "output_type": "stream",
          "text": [
            "/content/drive/My Drive/PHD DATA/Data set and implemented code 2020 /CODE IMPLEMENTED (COMPARATIVE ANALYSIS)/Axial Image Data\n"
          ],
          "name": "stdout"
        }
      ]
    },
    {
      "cell_type": "code",
      "metadata": {
        "id": "LZVutn-YxHKG",
        "colab": {
          "base_uri": "https://localhost:8080/"
        },
        "outputId": "1161b1d0-b6e9-4cd7-abf5-98fcd76525f2"
      },
      "source": [
        "!ls"
      ],
      "execution_count": null,
      "outputs": [
        {
          "output_type": "stream",
          "text": [
            "ADtrain  CNtrain  main_data.csv  MCItrain  PCA_data.csv\n"
          ],
          "name": "stdout"
        }
      ]
    },
    {
      "cell_type": "code",
      "metadata": {
        "id": "JVER6JA-xKqr",
        "colab": {
          "base_uri": "https://localhost:8080/"
        },
        "outputId": "8f6716e3-780b-471a-d30e-fc137add7694"
      },
      "source": [
        "!pip install pydicom\n",
        "import pydicom\n",
        "import os\n",
        "import numpy as np\n",
        "import pandas as pd\n",
        "from matplotlib import pyplot as plt\n",
        "from tqdm import tqdm\n",
        "import imageio"
      ],
      "execution_count": null,
      "outputs": [
        {
          "output_type": "stream",
          "text": [
            "Collecting pydicom\n",
            "\u001b[?25l  Downloading https://files.pythonhosted.org/packages/f4/15/df16546bc59bfca390cf072d473fb2c8acd4231636f64356593a63137e55/pydicom-2.1.2-py3-none-any.whl (1.9MB)\n",
            "\u001b[K     |████████████████████████████████| 1.9MB 18.3MB/s \n",
            "\u001b[?25hInstalling collected packages: pydicom\n",
            "Successfully installed pydicom-2.1.2\n"
          ],
          "name": "stdout"
        }
      ]
    },
    {
      "cell_type": "code",
      "metadata": {
        "id": "7me0qddOydwX"
      },
      "source": [
        "file_path = \"/content/drive/MyDrive/PHD DATA/Data set and implemented code 2020 /CODE IMPLEMENTED (COMPARATIVE ANALYSIS)/Axial Image Data\""
      ],
      "execution_count": null,
      "outputs": []
    },
    {
      "cell_type": "code",
      "metadata": {
        "id": "ajgP_rMDzHSE",
        "colab": {
          "base_uri": "https://localhost:8080/"
        },
        "outputId": "f1931f37-194c-471b-f220-409cc76a9613"
      },
      "source": [
        "######### Using relative path instead of absolute path\n",
        "%cd '/CODE IMPLEMENTED (COMPARATIVE ANALYSIS)/Axial Image Data/'"
      ],
      "execution_count": null,
      "outputs": [
        {
          "output_type": "stream",
          "text": [
            "[Errno 2] No such file or directory: '/CODE IMPLEMENTED (COMPARATIVE ANALYSIS)/Axial Image Data/'\n",
            "/content/drive/My Drive/PHD DATA/Data set and implemented code 2020 /CODE IMPLEMENTED (COMPARATIVE ANALYSIS)/Axial Image Data\n"
          ],
          "name": "stdout"
        }
      ]
    },
    {
      "cell_type": "code",
      "metadata": {
        "id": "2ekxpwEYzm39",
        "colab": {
          "base_uri": "https://localhost:8080/"
        },
        "outputId": "e5d2575f-4bac-4f01-ec6b-67683e0a562d"
      },
      "source": [
        "!ls"
      ],
      "execution_count": null,
      "outputs": [
        {
          "output_type": "stream",
          "text": [
            "ADtrain  CNtrain  main_data.csv  MCItrain  PCA_data.csv\n"
          ],
          "name": "stdout"
        }
      ]
    },
    {
      "cell_type": "code",
      "metadata": {
        "id": "nFUwDQolz9cV"
      },
      "source": [
        "file_path = \"C:/Users/SMVDU/Desktop/code 11 Dec 2919/Axial Image Data/ADtrain/\""
      ],
      "execution_count": null,
      "outputs": []
    },
    {
      "cell_type": "code",
      "metadata": {
        "id": "YQsdiqIxyea4",
        "colab": {
          "base_uri": "https://localhost:8080/",
          "height": 34
        },
        "outputId": "35b13565-a837-4025-b36b-e2617811c012"
      },
      "source": [
        "path = os.getcwd()\n",
        "path"
      ],
      "execution_count": null,
      "outputs": [
        {
          "output_type": "execute_result",
          "data": {
            "application/vnd.google.colaboratory.intrinsic+json": {
              "type": "string"
            },
            "text/plain": [
              "'/content/drive/My Drive/PHD DATA/Data set and implemented code 2020 /CODE IMPLEMENTED (COMPARATIVE ANALYSIS)/Axial Image Data'"
            ]
          },
          "metadata": {
            "tags": []
          },
          "execution_count": 25
        }
      ]
    },
    {
      "cell_type": "code",
      "metadata": {
        "id": "liUmmdME0S8u"
      },
      "source": [
        "ad = imageio.imread('/content/drive/My Drive/PHD DATA/Data set and implemented code 2020 /CODE IMPLEMENTED (COMPARATIVE ANALYSIS)/Axial Image Data/ADtrain/ADNI_003_S_4136_MR_Axial_FLAIR__br_raw_20130702110545204_25_S185978_I365544.dcm')\n",
        "cn = imageio.imread('/content/drive/My Drive/PHD DATA/Data set and implemented code 2020 /CODE IMPLEMENTED (COMPARATIVE ANALYSIS)/Axial Image Data/CNtrain/ADNI_003_S_4119_MR_Axial_FLAIR__br_raw_20120913094515130_13_S167339_I333867.dcm')\n",
        "mci = imageio.imread('/content/drive/My Drive/PHD DATA/Data set and implemented code 2020 /CODE IMPLEMENTED (COMPARATIVE ANALYSIS)/Axial Image Data/MCItrain/ADNI_005_S_0546_MR_Axial_PD_T2_FSE__br_raw_20121106133157925_72_S173434_I344197.dcm')"
      ],
      "execution_count": null,
      "outputs": []
    },
    {
      "cell_type": "code",
      "metadata": {
        "id": "vC7FXwyx05jp",
        "colab": {
          "base_uri": "https://localhost:8080/"
        },
        "outputId": "f1d5fb66-14a2-4c85-d0ba-844c0a461a6e"
      },
      "source": [
        "ad.meta"
      ],
      "execution_count": null,
      "outputs": [
        {
          "output_type": "execute_result",
          "data": {
            "text/plain": [
              "Dict([('TransferSyntaxUID', '1.2.840.10008.1.2.1'),\n",
              "      ('SOPClassUID', '1.2.840.10008.5.1.4.1.1.4'),\n",
              "      ('SOPInstanceUID', '2.16.124.113543.6006.99.1230709706204629422'),\n",
              "      ('StudyDate', '20120918'),\n",
              "      ('SeriesDate', '20120918'),\n",
              "      ('AcquisitionDate', '20120918'),\n",
              "      ('ContentDate', '20120918'),\n",
              "      ('StudyTime', '154348'),\n",
              "      ('SeriesTime', '160134'),\n",
              "      ('AcquisitionTime', '160135'),\n",
              "      ('ContentTime', '160135'),\n",
              "      ('Modality', 'MR'),\n",
              "      ('Manufacturer', 'GE MEDICAL SYSTEMS'),\n",
              "      ('InstitutionName', 'USC Department of Radiology'),\n",
              "      ('StudyDescription', 'MRI Brain w/o Contrast'),\n",
              "      ('SeriesDescription', 'Axial FLAIR'),\n",
              "      ('PatientName', '003_S_4136'),\n",
              "      ('PatientID', '003_S_4136'),\n",
              "      ('PatientBirthDate', '19441121'),\n",
              "      ('PatientSex', 'M '),\n",
              "      ('PatientAge', '067Y'),\n",
              "      ('PatientWeight', 90.718),\n",
              "      ('SliceSpacing', 5.0),\n",
              "      ('StudyInstanceUID', '2.16.124.113543.6006.99.4714142411505793887'),\n",
              "      ('SeriesInstanceUID', '2.16.124.113543.6006.99.07899610812086794212'),\n",
              "      ('SeriesNumber', 5),\n",
              "      ('AcquisitionNumber', 1),\n",
              "      ('InstanceNumber', 25),\n",
              "      ('ImagePositionPatient', (-109.57, -149.792, 80.2819)),\n",
              "      ('ImageOrientationPatient', (1.0, -0.0, 0.0, -0.0, 1.0, 0.0)),\n",
              "      ('SamplesPerPixel', 1),\n",
              "      ('Rows', 256),\n",
              "      ('Columns', 256),\n",
              "      ('PixelSpacing', (0.8594, 0.8594)),\n",
              "      ('BitsAllocated', 16),\n",
              "      ('BitsStored', 16),\n",
              "      ('HighBit', 15),\n",
              "      ('PixelRepresentation', 1),\n",
              "      ('PixelData',\n",
              "       b'Data converted to numpy array, raw data removed to preserve memory'),\n",
              "      ('shape', (256, 256)),\n",
              "      ('sampling', (0.8594, 0.8594))])"
            ]
          },
          "metadata": {
            "tags": []
          },
          "execution_count": 28
        }
      ]
    },
    {
      "cell_type": "code",
      "metadata": {
        "id": "LxE_ILxT1D3B"
      },
      "source": [
        "data_ad = ad.meta\n",
        "data_cn = cn.meta\n",
        "data_mci = mci.meta"
      ],
      "execution_count": null,
      "outputs": []
    },
    {
      "cell_type": "code",
      "metadata": {
        "id": "zjQSmjVk1Vmr",
        "colab": {
          "base_uri": "https://localhost:8080/"
        },
        "outputId": "a5644a5e-a6a5-4c04-c675-3e1897cbfbb0"
      },
      "source": [
        "ad = pd.DataFrame()   \n",
        "for file_name in tqdm(os.listdir('/content/drive/My Drive/PHD DATA/Data set and implemented code 2020 /CODE IMPLEMENTED (COMPARATIVE ANALYSIS)/Axial Image Data/ADtrain')):\n",
        "    file_path = os.path.join('/content/drive/My Drive/PHD DATA/Data set and implemented code 2020 /CODE IMPLEMENTED (COMPARATIVE ANALYSIS)/Axial Image Data/ADtrain/', file_name)\n",
        "    a = imageio.imread(file_path)\n",
        "    a = np.array(a).flatten()\n",
        "    a = pd.DataFrame(a)\n",
        "    ad = pd.concat([ad, a], axis = 1)    \n",
        "ad1 = ad.T\n",
        "ad1['Label'] = 0"
      ],
      "execution_count": null,
      "outputs": [
        {
          "output_type": "stream",
          "text": [
            "100%|██████████| 975/975 [04:51<00:00,  3.34it/s]\n"
          ],
          "name": "stderr"
        }
      ]
    },
    {
      "cell_type": "code",
      "metadata": {
        "id": "FgXI6SqL1pdR",
        "colab": {
          "base_uri": "https://localhost:8080/"
        },
        "outputId": "fb45ed49-fa48-4fd2-fa91-833f81d8f21c"
      },
      "source": [
        "cn = pd.DataFrame()   \n",
        "for file_name in tqdm(os.listdir('/content/drive/My Drive/PHD DATA/Data set and implemented code 2020 /CODE IMPLEMENTED (COMPARATIVE ANALYSIS)/Axial Image Data/CNtrain')):\n",
        "    file_path = os.path.join('/content/drive/My Drive/PHD DATA/Data set and implemented code 2020 /CODE IMPLEMENTED (COMPARATIVE ANALYSIS)/Axial Image Data/CNtrain', file_name)\n",
        "    a = imageio.imread(file_path)\n",
        "    a = np.array(a).flatten()\n",
        "    a = pd.DataFrame(a)\n",
        "    cn = pd.concat([cn, a], axis = 1)    \n",
        "cn1 = cn.T\n",
        "cn1['Label'] = 1"
      ],
      "execution_count": null,
      "outputs": [
        {
          "output_type": "stream",
          "text": [
            "100%|██████████| 612/612 [02:46<00:00,  3.67it/s]\n"
          ],
          "name": "stderr"
        }
      ]
    },
    {
      "cell_type": "code",
      "metadata": {
        "id": "nRPcqZrY3QLk",
        "colab": {
          "base_uri": "https://localhost:8080/"
        },
        "outputId": "ad252a7e-ffef-4ae2-e2c8-d739db4fb18a"
      },
      "source": [
        "mci = pd.DataFrame()   \n",
        "for file_name in tqdm(os.listdir('/content/drive/My Drive/PHD DATA/Data set and implemented code 2020 /CODE IMPLEMENTED (COMPARATIVE ANALYSIS)/Axial Image Data/MCItrain')):\n",
        "    file_path = os.path.join('/content/drive/My Drive/PHD DATA/Data set and implemented code 2020 /CODE IMPLEMENTED (COMPARATIVE ANALYSIS)/Axial Image Data/MCItrain', file_name)\n",
        "    a = imageio.imread(file_path)\n",
        "    a = np.array(a).flatten()\n",
        "    a = pd.DataFrame(a)\n",
        "    mci = pd.concat([mci, a], axis = 1)    \n",
        "mci1 = mci.T\n",
        "mci1['Label'] = 2"
      ],
      "execution_count": null,
      "outputs": [
        {
          "output_type": "stream",
          "text": [
            "100%|██████████| 538/538 [02:22<00:00,  3.77it/s]\n"
          ],
          "name": "stderr"
        }
      ]
    },
    {
      "cell_type": "markdown",
      "metadata": {
        "id": "01kDzm4Q2g9S"
      },
      "source": [
        ""
      ]
    },
    {
      "cell_type": "code",
      "metadata": {
        "id": "4tTXJ_-b4Fgw",
        "colab": {
          "base_uri": "https://localhost:8080/",
          "height": 252
        },
        "outputId": "c46318a4-a8c5-4fe3-8641-efa22dfaed49"
      },
      "source": [
        "main_data = pd.concat([ad1, cn1, mci1], axis = 0, ignore_index = False)\n",
        "main_data = main_data.reset_index()\n",
        "main_data = main_data.iloc[:, 1:]\n",
        "main_data.head()"
      ],
      "execution_count": null,
      "outputs": [
        {
          "output_type": "execute_result",
          "data": {
            "text/html": [
              "<div>\n",
              "<style scoped>\n",
              "    .dataframe tbody tr th:only-of-type {\n",
              "        vertical-align: middle;\n",
              "    }\n",
              "\n",
              "    .dataframe tbody tr th {\n",
              "        vertical-align: top;\n",
              "    }\n",
              "\n",
              "    .dataframe thead th {\n",
              "        text-align: right;\n",
              "    }\n",
              "</style>\n",
              "<table border=\"1\" class=\"dataframe\">\n",
              "  <thead>\n",
              "    <tr style=\"text-align: right;\">\n",
              "      <th></th>\n",
              "      <th>0</th>\n",
              "      <th>1</th>\n",
              "      <th>2</th>\n",
              "      <th>3</th>\n",
              "      <th>4</th>\n",
              "      <th>5</th>\n",
              "      <th>6</th>\n",
              "      <th>7</th>\n",
              "      <th>8</th>\n",
              "      <th>9</th>\n",
              "      <th>10</th>\n",
              "      <th>11</th>\n",
              "      <th>12</th>\n",
              "      <th>13</th>\n",
              "      <th>14</th>\n",
              "      <th>15</th>\n",
              "      <th>16</th>\n",
              "      <th>17</th>\n",
              "      <th>18</th>\n",
              "      <th>19</th>\n",
              "      <th>20</th>\n",
              "      <th>21</th>\n",
              "      <th>22</th>\n",
              "      <th>23</th>\n",
              "      <th>24</th>\n",
              "      <th>25</th>\n",
              "      <th>26</th>\n",
              "      <th>27</th>\n",
              "      <th>28</th>\n",
              "      <th>29</th>\n",
              "      <th>30</th>\n",
              "      <th>31</th>\n",
              "      <th>32</th>\n",
              "      <th>33</th>\n",
              "      <th>34</th>\n",
              "      <th>35</th>\n",
              "      <th>36</th>\n",
              "      <th>37</th>\n",
              "      <th>38</th>\n",
              "      <th>39</th>\n",
              "      <th>...</th>\n",
              "      <th>65497</th>\n",
              "      <th>65498</th>\n",
              "      <th>65499</th>\n",
              "      <th>65500</th>\n",
              "      <th>65501</th>\n",
              "      <th>65502</th>\n",
              "      <th>65503</th>\n",
              "      <th>65504</th>\n",
              "      <th>65505</th>\n",
              "      <th>65506</th>\n",
              "      <th>65507</th>\n",
              "      <th>65508</th>\n",
              "      <th>65509</th>\n",
              "      <th>65510</th>\n",
              "      <th>65511</th>\n",
              "      <th>65512</th>\n",
              "      <th>65513</th>\n",
              "      <th>65514</th>\n",
              "      <th>65515</th>\n",
              "      <th>65516</th>\n",
              "      <th>65517</th>\n",
              "      <th>65518</th>\n",
              "      <th>65519</th>\n",
              "      <th>65520</th>\n",
              "      <th>65521</th>\n",
              "      <th>65522</th>\n",
              "      <th>65523</th>\n",
              "      <th>65524</th>\n",
              "      <th>65525</th>\n",
              "      <th>65526</th>\n",
              "      <th>65527</th>\n",
              "      <th>65528</th>\n",
              "      <th>65529</th>\n",
              "      <th>65530</th>\n",
              "      <th>65531</th>\n",
              "      <th>65532</th>\n",
              "      <th>65533</th>\n",
              "      <th>65534</th>\n",
              "      <th>65535</th>\n",
              "      <th>Label</th>\n",
              "    </tr>\n",
              "  </thead>\n",
              "  <tbody>\n",
              "    <tr>\n",
              "      <th>0</th>\n",
              "      <td>0</td>\n",
              "      <td>0</td>\n",
              "      <td>0</td>\n",
              "      <td>0</td>\n",
              "      <td>0</td>\n",
              "      <td>0</td>\n",
              "      <td>0</td>\n",
              "      <td>0</td>\n",
              "      <td>0</td>\n",
              "      <td>0</td>\n",
              "      <td>0</td>\n",
              "      <td>0</td>\n",
              "      <td>0</td>\n",
              "      <td>0</td>\n",
              "      <td>0</td>\n",
              "      <td>0</td>\n",
              "      <td>0</td>\n",
              "      <td>0</td>\n",
              "      <td>0</td>\n",
              "      <td>0</td>\n",
              "      <td>0</td>\n",
              "      <td>0</td>\n",
              "      <td>0</td>\n",
              "      <td>0</td>\n",
              "      <td>0</td>\n",
              "      <td>0</td>\n",
              "      <td>0</td>\n",
              "      <td>0</td>\n",
              "      <td>1</td>\n",
              "      <td>1</td>\n",
              "      <td>3</td>\n",
              "      <td>3</td>\n",
              "      <td>5</td>\n",
              "      <td>3</td>\n",
              "      <td>5</td>\n",
              "      <td>6</td>\n",
              "      <td>7</td>\n",
              "      <td>13</td>\n",
              "      <td>13</td>\n",
              "      <td>7</td>\n",
              "      <td>...</td>\n",
              "      <td>22</td>\n",
              "      <td>25</td>\n",
              "      <td>22</td>\n",
              "      <td>23</td>\n",
              "      <td>33</td>\n",
              "      <td>26</td>\n",
              "      <td>27</td>\n",
              "      <td>18</td>\n",
              "      <td>20</td>\n",
              "      <td>22</td>\n",
              "      <td>26</td>\n",
              "      <td>24</td>\n",
              "      <td>21</td>\n",
              "      <td>39</td>\n",
              "      <td>41</td>\n",
              "      <td>31</td>\n",
              "      <td>16</td>\n",
              "      <td>24</td>\n",
              "      <td>23</td>\n",
              "      <td>26</td>\n",
              "      <td>22</td>\n",
              "      <td>23</td>\n",
              "      <td>32</td>\n",
              "      <td>18</td>\n",
              "      <td>30</td>\n",
              "      <td>25</td>\n",
              "      <td>46</td>\n",
              "      <td>31</td>\n",
              "      <td>20</td>\n",
              "      <td>26</td>\n",
              "      <td>44</td>\n",
              "      <td>23</td>\n",
              "      <td>16</td>\n",
              "      <td>24</td>\n",
              "      <td>24</td>\n",
              "      <td>25</td>\n",
              "      <td>23</td>\n",
              "      <td>21</td>\n",
              "      <td>24</td>\n",
              "      <td>0</td>\n",
              "    </tr>\n",
              "    <tr>\n",
              "      <th>1</th>\n",
              "      <td>0</td>\n",
              "      <td>0</td>\n",
              "      <td>0</td>\n",
              "      <td>0</td>\n",
              "      <td>0</td>\n",
              "      <td>0</td>\n",
              "      <td>0</td>\n",
              "      <td>0</td>\n",
              "      <td>0</td>\n",
              "      <td>0</td>\n",
              "      <td>0</td>\n",
              "      <td>0</td>\n",
              "      <td>0</td>\n",
              "      <td>0</td>\n",
              "      <td>0</td>\n",
              "      <td>0</td>\n",
              "      <td>0</td>\n",
              "      <td>0</td>\n",
              "      <td>0</td>\n",
              "      <td>0</td>\n",
              "      <td>0</td>\n",
              "      <td>0</td>\n",
              "      <td>0</td>\n",
              "      <td>0</td>\n",
              "      <td>0</td>\n",
              "      <td>0</td>\n",
              "      <td>0</td>\n",
              "      <td>0</td>\n",
              "      <td>0</td>\n",
              "      <td>0</td>\n",
              "      <td>0</td>\n",
              "      <td>0</td>\n",
              "      <td>0</td>\n",
              "      <td>0</td>\n",
              "      <td>0</td>\n",
              "      <td>0</td>\n",
              "      <td>0</td>\n",
              "      <td>0</td>\n",
              "      <td>0</td>\n",
              "      <td>0</td>\n",
              "      <td>...</td>\n",
              "      <td>0</td>\n",
              "      <td>0</td>\n",
              "      <td>0</td>\n",
              "      <td>0</td>\n",
              "      <td>0</td>\n",
              "      <td>0</td>\n",
              "      <td>0</td>\n",
              "      <td>0</td>\n",
              "      <td>0</td>\n",
              "      <td>0</td>\n",
              "      <td>0</td>\n",
              "      <td>0</td>\n",
              "      <td>0</td>\n",
              "      <td>0</td>\n",
              "      <td>0</td>\n",
              "      <td>0</td>\n",
              "      <td>0</td>\n",
              "      <td>0</td>\n",
              "      <td>0</td>\n",
              "      <td>0</td>\n",
              "      <td>0</td>\n",
              "      <td>0</td>\n",
              "      <td>0</td>\n",
              "      <td>0</td>\n",
              "      <td>0</td>\n",
              "      <td>0</td>\n",
              "      <td>0</td>\n",
              "      <td>0</td>\n",
              "      <td>0</td>\n",
              "      <td>0</td>\n",
              "      <td>0</td>\n",
              "      <td>0</td>\n",
              "      <td>0</td>\n",
              "      <td>0</td>\n",
              "      <td>0</td>\n",
              "      <td>0</td>\n",
              "      <td>0</td>\n",
              "      <td>0</td>\n",
              "      <td>0</td>\n",
              "      <td>0</td>\n",
              "    </tr>\n",
              "    <tr>\n",
              "      <th>2</th>\n",
              "      <td>0</td>\n",
              "      <td>0</td>\n",
              "      <td>0</td>\n",
              "      <td>0</td>\n",
              "      <td>0</td>\n",
              "      <td>0</td>\n",
              "      <td>0</td>\n",
              "      <td>0</td>\n",
              "      <td>0</td>\n",
              "      <td>0</td>\n",
              "      <td>0</td>\n",
              "      <td>0</td>\n",
              "      <td>0</td>\n",
              "      <td>0</td>\n",
              "      <td>0</td>\n",
              "      <td>0</td>\n",
              "      <td>0</td>\n",
              "      <td>0</td>\n",
              "      <td>0</td>\n",
              "      <td>0</td>\n",
              "      <td>0</td>\n",
              "      <td>0</td>\n",
              "      <td>0</td>\n",
              "      <td>0</td>\n",
              "      <td>0</td>\n",
              "      <td>0</td>\n",
              "      <td>0</td>\n",
              "      <td>0</td>\n",
              "      <td>0</td>\n",
              "      <td>0</td>\n",
              "      <td>0</td>\n",
              "      <td>0</td>\n",
              "      <td>0</td>\n",
              "      <td>0</td>\n",
              "      <td>0</td>\n",
              "      <td>0</td>\n",
              "      <td>0</td>\n",
              "      <td>0</td>\n",
              "      <td>0</td>\n",
              "      <td>0</td>\n",
              "      <td>...</td>\n",
              "      <td>27</td>\n",
              "      <td>12</td>\n",
              "      <td>22</td>\n",
              "      <td>18</td>\n",
              "      <td>24</td>\n",
              "      <td>36</td>\n",
              "      <td>9</td>\n",
              "      <td>14</td>\n",
              "      <td>17</td>\n",
              "      <td>18</td>\n",
              "      <td>25</td>\n",
              "      <td>16</td>\n",
              "      <td>18</td>\n",
              "      <td>16</td>\n",
              "      <td>13</td>\n",
              "      <td>21</td>\n",
              "      <td>19</td>\n",
              "      <td>20</td>\n",
              "      <td>17</td>\n",
              "      <td>18</td>\n",
              "      <td>15</td>\n",
              "      <td>18</td>\n",
              "      <td>13</td>\n",
              "      <td>13</td>\n",
              "      <td>11</td>\n",
              "      <td>9</td>\n",
              "      <td>8</td>\n",
              "      <td>2</td>\n",
              "      <td>4</td>\n",
              "      <td>10</td>\n",
              "      <td>8</td>\n",
              "      <td>7</td>\n",
              "      <td>9</td>\n",
              "      <td>8</td>\n",
              "      <td>10</td>\n",
              "      <td>6</td>\n",
              "      <td>6</td>\n",
              "      <td>6</td>\n",
              "      <td>8</td>\n",
              "      <td>0</td>\n",
              "    </tr>\n",
              "    <tr>\n",
              "      <th>3</th>\n",
              "      <td>0</td>\n",
              "      <td>0</td>\n",
              "      <td>0</td>\n",
              "      <td>0</td>\n",
              "      <td>0</td>\n",
              "      <td>0</td>\n",
              "      <td>0</td>\n",
              "      <td>0</td>\n",
              "      <td>0</td>\n",
              "      <td>0</td>\n",
              "      <td>0</td>\n",
              "      <td>0</td>\n",
              "      <td>0</td>\n",
              "      <td>0</td>\n",
              "      <td>0</td>\n",
              "      <td>0</td>\n",
              "      <td>0</td>\n",
              "      <td>0</td>\n",
              "      <td>0</td>\n",
              "      <td>0</td>\n",
              "      <td>0</td>\n",
              "      <td>0</td>\n",
              "      <td>0</td>\n",
              "      <td>0</td>\n",
              "      <td>0</td>\n",
              "      <td>0</td>\n",
              "      <td>0</td>\n",
              "      <td>0</td>\n",
              "      <td>0</td>\n",
              "      <td>0</td>\n",
              "      <td>0</td>\n",
              "      <td>0</td>\n",
              "      <td>0</td>\n",
              "      <td>0</td>\n",
              "      <td>0</td>\n",
              "      <td>0</td>\n",
              "      <td>0</td>\n",
              "      <td>0</td>\n",
              "      <td>0</td>\n",
              "      <td>0</td>\n",
              "      <td>...</td>\n",
              "      <td>0</td>\n",
              "      <td>0</td>\n",
              "      <td>0</td>\n",
              "      <td>0</td>\n",
              "      <td>0</td>\n",
              "      <td>0</td>\n",
              "      <td>0</td>\n",
              "      <td>0</td>\n",
              "      <td>0</td>\n",
              "      <td>0</td>\n",
              "      <td>0</td>\n",
              "      <td>0</td>\n",
              "      <td>0</td>\n",
              "      <td>0</td>\n",
              "      <td>0</td>\n",
              "      <td>0</td>\n",
              "      <td>0</td>\n",
              "      <td>0</td>\n",
              "      <td>0</td>\n",
              "      <td>0</td>\n",
              "      <td>0</td>\n",
              "      <td>0</td>\n",
              "      <td>0</td>\n",
              "      <td>0</td>\n",
              "      <td>0</td>\n",
              "      <td>0</td>\n",
              "      <td>0</td>\n",
              "      <td>0</td>\n",
              "      <td>0</td>\n",
              "      <td>0</td>\n",
              "      <td>0</td>\n",
              "      <td>0</td>\n",
              "      <td>0</td>\n",
              "      <td>0</td>\n",
              "      <td>0</td>\n",
              "      <td>0</td>\n",
              "      <td>0</td>\n",
              "      <td>0</td>\n",
              "      <td>0</td>\n",
              "      <td>0</td>\n",
              "    </tr>\n",
              "    <tr>\n",
              "      <th>4</th>\n",
              "      <td>0</td>\n",
              "      <td>0</td>\n",
              "      <td>0</td>\n",
              "      <td>0</td>\n",
              "      <td>0</td>\n",
              "      <td>0</td>\n",
              "      <td>0</td>\n",
              "      <td>0</td>\n",
              "      <td>0</td>\n",
              "      <td>0</td>\n",
              "      <td>0</td>\n",
              "      <td>0</td>\n",
              "      <td>0</td>\n",
              "      <td>0</td>\n",
              "      <td>0</td>\n",
              "      <td>0</td>\n",
              "      <td>0</td>\n",
              "      <td>0</td>\n",
              "      <td>0</td>\n",
              "      <td>0</td>\n",
              "      <td>0</td>\n",
              "      <td>0</td>\n",
              "      <td>0</td>\n",
              "      <td>0</td>\n",
              "      <td>0</td>\n",
              "      <td>0</td>\n",
              "      <td>0</td>\n",
              "      <td>0</td>\n",
              "      <td>0</td>\n",
              "      <td>0</td>\n",
              "      <td>0</td>\n",
              "      <td>0</td>\n",
              "      <td>0</td>\n",
              "      <td>0</td>\n",
              "      <td>0</td>\n",
              "      <td>0</td>\n",
              "      <td>0</td>\n",
              "      <td>0</td>\n",
              "      <td>0</td>\n",
              "      <td>0</td>\n",
              "      <td>...</td>\n",
              "      <td>24</td>\n",
              "      <td>33</td>\n",
              "      <td>20</td>\n",
              "      <td>17</td>\n",
              "      <td>17</td>\n",
              "      <td>24</td>\n",
              "      <td>32</td>\n",
              "      <td>13</td>\n",
              "      <td>32</td>\n",
              "      <td>27</td>\n",
              "      <td>31</td>\n",
              "      <td>24</td>\n",
              "      <td>15</td>\n",
              "      <td>18</td>\n",
              "      <td>13</td>\n",
              "      <td>19</td>\n",
              "      <td>24</td>\n",
              "      <td>27</td>\n",
              "      <td>25</td>\n",
              "      <td>25</td>\n",
              "      <td>32</td>\n",
              "      <td>16</td>\n",
              "      <td>16</td>\n",
              "      <td>17</td>\n",
              "      <td>21</td>\n",
              "      <td>21</td>\n",
              "      <td>20</td>\n",
              "      <td>29</td>\n",
              "      <td>28</td>\n",
              "      <td>15</td>\n",
              "      <td>13</td>\n",
              "      <td>24</td>\n",
              "      <td>32</td>\n",
              "      <td>18</td>\n",
              "      <td>20</td>\n",
              "      <td>11</td>\n",
              "      <td>20</td>\n",
              "      <td>14</td>\n",
              "      <td>12</td>\n",
              "      <td>0</td>\n",
              "    </tr>\n",
              "  </tbody>\n",
              "</table>\n",
              "<p>5 rows × 65537 columns</p>\n",
              "</div>"
            ],
            "text/plain": [
              "   0  1  2  3  4  5  6  ...  65530  65531  65532  65533  65534  65535  Label\n",
              "0  0  0  0  0  0  0  0  ...     24     24     25     23     21     24      0\n",
              "1  0  0  0  0  0  0  0  ...      0      0      0      0      0      0      0\n",
              "2  0  0  0  0  0  0  0  ...      8     10      6      6      6      8      0\n",
              "3  0  0  0  0  0  0  0  ...      0      0      0      0      0      0      0\n",
              "4  0  0  0  0  0  0  0  ...     18     20     11     20     14     12      0\n",
              "\n",
              "[5 rows x 65537 columns]"
            ]
          },
          "metadata": {
            "tags": []
          },
          "execution_count": 33
        }
      ]
    },
    {
      "cell_type": "code",
      "metadata": {
        "id": "6AAlQRAZ45Br"
      },
      "source": [
        "X = main_data.iloc[:, :-1].values\n",
        "y = main_data.iloc[:, -1]\n",
        "\n",
        "from sklearn.model_selection import train_test_split\n",
        "X_train, X_test, y_train, y_test = train_test_split(X, y, test_size = 0.25, random_state = 21)"
      ],
      "execution_count": null,
      "outputs": []
    },
    {
      "cell_type": "code",
      "metadata": {
        "id": "4EqkST2l5t5-"
      },
      "source": [
        "# Scaling X for PCA\n",
        "\n",
        "from sklearn.preprocessing import StandardScaler\n",
        "scaler = StandardScaler()\n",
        "X = scaler.fit_transform(X)"
      ],
      "execution_count": null,
      "outputs": []
    },
    {
      "cell_type": "code",
      "metadata": {
        "id": "f0ZcQd3O5BZi"
      },
      "source": [
        "################# PCA Analysis\n",
        "from sklearn.decomposition import PCA\n",
        "pca = PCA(n_components=2000)\n",
        "X_pca = pca.fit_transform(X)"
      ],
      "execution_count": null,
      "outputs": []
    },
    {
      "cell_type": "code",
      "metadata": {
        "id": "Ld21LfDC5E6I",
        "colab": {
          "base_uri": "https://localhost:8080/",
          "height": 298
        },
        "outputId": "1d4cf41f-23b9-43d0-d1bb-cff095286e34"
      },
      "source": [
        "plt.plot(range(2000), pca.explained_variance_ratio_)\n",
        "plt.plot(range(2000), np.cumsum(pca.explained_variance_ratio_))\n",
        "plt.title(\"Component-wise and Cumulative Explained Variance\")\n"
      ],
      "execution_count": null,
      "outputs": [
        {
          "output_type": "execute_result",
          "data": {
            "text/plain": [
              "Text(0.5, 1.0, 'Component-wise and Cumulative Explained Variance')"
            ]
          },
          "metadata": {
            "tags": []
          },
          "execution_count": 38
        },
        {
          "output_type": "display_data",
          "data": {
            "image/png": "[encoded data removed]",
            "text/plain": [
              "<Figure size 432x288 with 1 Axes>"
            ]
          },
          "metadata": {
            "tags": [],
            "needs_background": "light"
          }
        }
      ]
    },
    {
      "cell_type": "code",
      "metadata": {
        "id": "_eIUnBTw5oEu"
      },
      "source": [
        "pca_data = pd.concat([pd.DataFrame(X_pca), y], axis = 1)"
      ],
      "execution_count": null,
      "outputs": []
    },
    {
      "cell_type": "code",
      "metadata": {
        "id": "6JpVIJc55sNY"
      },
      "source": [
        "X = pca_data.iloc[:, :-1]\n",
        "y = pca_data.iloc[:, -1]"
      ],
      "execution_count": null,
      "outputs": []
    },
    {
      "cell_type": "code",
      "metadata": {
        "id": "G5F-w3OE5u06"
      },
      "source": [
        "################# Data Creation\n",
        "\n",
        "main_data.to_csv('main_data.csv')\n",
        "\n",
        "pd.DataFrame(pca_data).to_csv('PCA_data.csv')"
      ],
      "execution_count": null,
      "outputs": []
    },
    {
      "cell_type": "code",
      "metadata": {
        "id": "E-DsDiN05x9R"
      },
      "source": [
        "################# Data importing\n"
      ],
      "execution_count": null,
      "outputs": []
    },
    {
      "cell_type": "code",
      "metadata": {
        "id": "Djw_ATop64_a"
      },
      "source": [
        "###Normal Data\n",
        "\n",
        "data = pd.read_csv('main_data.csv')\n",
        "\n",
        "X = data.iloc[:, 1:-1].values\n",
        "y = data.iloc[:, -1]\n",
        "\n",
        "from sklearn.model_selection import train_test_split\n",
        "X_train, X_test, y_train, y_test = train_test_split(X, y, test_size = 0.25, random_state = 21)"
      ],
      "execution_count": null,
      "outputs": []
    },
    {
      "cell_type": "code",
      "metadata": {
        "id": "-n_L_rUo65yB"
      },
      "source": [
        "###PCA Data\n",
        "\n",
        "data = pd.read_csv('PCA_data.csv')\n",
        "X = data.iloc[:, 1:-1]\n",
        "y = data.iloc[:, -1]"
      ],
      "execution_count": null,
      "outputs": []
    },
    {
      "cell_type": "code",
      "metadata": {
        "id": "oumS_lc48Dbi"
      },
      "source": [
        "######################### ROC AUC Curve and Confusion matrix\n",
        "\n",
        "from sklearn.metrics import roc_curve, auc, confusion_matrix\n",
        "def roc_auc_curve(y_pred, y_test):\n",
        "    n_classes = 3\n",
        "    fpr = dict()\n",
        "    tpr = dict()\n",
        "    roc_auc = dict()\n",
        "    for i in range(n_classes):\n",
        "        fpr[i], tpr[i], _ = roc_curve(y_test[:, i], y_pred[:, i])\n",
        "        roc_auc[i] = auc(fpr[i], tpr[i])\n",
        "    \n",
        "    for i in range(n_classes):\n",
        "        fpr[i], tpr[i], _ = roc_curve(y_test[:, i], y_pred[:, i])\n",
        "        plt.plot(fpr[i], tpr[i], lw=2, label='class {}'.format(i))\n",
        "    \n",
        "    plt.xlabel(\"false positive rate\")\n",
        "    plt.ylabel(\"true positive rate\")\n",
        "    plt.legend(loc=\"best\")\n",
        "    plt.title(\"ROC curve\")\n",
        "    plt.show()\n",
        "\n",
        "def confusion_mat(y_true, y_pred):\n",
        "  print(\"Confusion Matrix: \")\n",
        "  print(confusion_matrix(y_true.argmax(axis=1), y_pred.argmax(axis=1)))\n",
        "\n",
        " "
      ],
      "execution_count": null,
      "outputs": []
    },
    {
      "cell_type": "code",
      "metadata": {
        "id": "Poi4dG2Q8KBW"
      },
      "source": [
        "############################################### Algorithms"
      ],
      "execution_count": null,
      "outputs": []
    },
    {
      "cell_type": "code",
      "metadata": {
        "id": "yx99b0eHGWXk",
        "colab": {
          "base_uri": "https://localhost:8080/",
          "height": 661
        },
        "outputId": "e680ebc4-06fc-4774-da8e-b329b2393b7e"
      },
      "source": [
        "############### Random Forest\n",
        "    \n",
        "from sklearn.preprocessing import label_binarize\n",
        "y = label_binarize(y, classes=[0,1,2])\n",
        "n_classes = 3\n",
        "\n",
        "from sklearn.model_selection import train_test_split\n",
        "X_train, X_test, y_train, y_test = train_test_split(X, y, test_size = 0.25, random_state = 21)\n",
        "\n",
        "from sklearn.ensemble import RandomForestClassifier\n",
        "\n",
        "classifier = RandomForestClassifier(n_estimators=100, random_state=42)\n",
        "classifier.fit(X_train, y_train)\n",
        "\n",
        "y_pred = classifier.predict(X_test)\n",
        "    \n",
        "from sklearn.metrics import classification_report, accuracy_score\n",
        "cr = classification_report(y_pred, y_test)\n",
        "print(cr)\n",
        "accuracy_score(y_pred, y_test)\n",
        "\n",
        "roc_auc_curve(y_pred, y_test)\n",
        "confusion_mat(y_test, y_pred)\n",
        "\n",
        "\n",
        "#### sensitivity and specificity for one class\n",
        "\n",
        "cm = confusion_matrix(y_test.argmax(axis=1), y_pred.argmax(axis=1))\n",
        "\n",
        "sensitivity1 = cm[0,0]/(cm[0,0]+cm[0,1]+cm[0,2])\n",
        "specificity1 = (cm[1,1]+cm[2,2])/(cm[1,0]+cm[2,0]+cm[1,1]+cm[2,2])\n",
        "\n",
        "sensitivity2 = cm[1,1]/(cm[1,0]+cm[1,1]+cm[1,2])\n",
        "specificity2 = (cm[0,0]+cm[2,2])/(cm[0,1]+cm[2,1]+cm[0,0]+cm[2,2])\n",
        "\n",
        "sensitivity3 = cm[2,2]/(cm[2,0]+cm[2,1]+cm[2,2])\n",
        "specificity3 = (cm[1,1]+cm[0,0])/(cm[0,2]+cm[1,2]+cm[1,1]+cm[0,0])\n",
        "\n",
        "print(\"class 0 [AD]:\",\"sensitivity =\",sensitivity1,\"and specificity=\",specificity1)\n",
        "print(\"class 1 [CN]:\",\"sensitivity =\",sensitivity2,\"and specificity =\",specificity2)\n",
        "print(\"class 2 [MCI]:\",\"sensitivity =\",sensitivity3,\"and specificity =\",specificity3)\n",
        "\n",
        "### save Model\n",
        "\n"
      ],
      "execution_count": null,
      "outputs": [
        {
          "output_type": "stream",
          "text": [
            "              precision    recall  f1-score   support\n",
            "\n",
            "           0       0.63      0.78      0.70       198\n",
            "           1       0.05      1.00      0.09         7\n",
            "           2       0.55      0.95      0.70        83\n",
            "\n",
            "   micro avg       0.45      0.84      0.59       288\n",
            "   macro avg       0.41      0.91      0.50       288\n",
            "weighted avg       0.59      0.84      0.68       288\n",
            " samples avg       0.45      0.45      0.45       288\n",
            "\n"
          ],
          "name": "stdout"
        },
        {
          "output_type": "stream",
          "text": [
            "/usr/local/lib/python3.7/dist-packages/sklearn/metrics/_classification.py:1272: UndefinedMetricWarning: Recall and F-score are ill-defined and being set to 0.0 in samples with no true labels. Use `zero_division` parameter to control this behavior.\n",
            "  _warn_prf(average, modifier, msg_start, len(result))\n"
          ],
          "name": "stderr"
        },
        {
          "output_type": "display_data",
          "data": {
            "image/png": "[encoded data removed]",
            "text/plain": [
              "<Figure size 432x288 with 1 Axes>"
            ]
          },
          "metadata": {
            "tags": [],
            "needs_background": "light"
          }
        },
        {
          "output_type": "stream",
          "text": [
            "Confusion Matrix: \n",
            "[[246   0   0]\n",
            " [132   7   4]\n",
            " [ 64   0  79]]\n",
            "class 0 [AD]: sensitivity = 1.0 and specificity= 0.3049645390070922\n",
            "class 1 [CN]: sensitivity = 0.04895104895104895 and specificity = 1.0\n",
            "class 2 [MCI]: sensitivity = 0.5524475524475524 and specificity = 0.9844357976653697\n"
          ],
          "name": "stdout"
        }
      ]
    },
    {
      "cell_type": "code",
      "metadata": {
        "id": "LINHZ2uT8Twj",
        "colab": {
          "base_uri": "https://localhost:8080/",
          "height": 601
        },
        "outputId": "76fcb294-6627-4e43-fdd6-6ac08204bc07"
      },
      "source": [
        "\n",
        "############### Support Vector rbf kernel\n",
        "\n",
        "X = data.iloc[:, 1:-1]\n",
        "y = data.iloc[:, -1]\n",
        "\n",
        "from sklearn.model_selection import train_test_split\n",
        "X_train, X_test, y_train, y_test = train_test_split(X, y, test_size = 0.25, random_state = 21)\n",
        "\n",
        "from sklearn.svm import SVC\n",
        "regressor = SVC(kernel = 'rbf', random_state = 10)\n",
        "\n",
        "regressor.fit(X_train, y_train)\n",
        "y_pred = regressor.predict(X_test)\n",
        "\n",
        "from sklearn.metrics import classification_report, accuracy_score\n",
        "cr = classification_report(y_pred, y_test)\n",
        "accuracy_score(y_pred, y_test)\n",
        "\n",
        "y_pred = label_binarize(y_pred, classes=[0,1,2])\n",
        "y_test = label_binarize(y_test, classes=[0,1,2])\n",
        "roc_auc_curve(y_pred, y_test)\n",
        "print(cr)\n",
        "confusion_mat(y_test,y_pred)\n",
        "\n",
        "\n",
        "### sensitivity and specificity for one class\n",
        "\n",
        "cm = confusion_matrix(y_test.argmax(axis=1), y_pred.argmax(axis=1))\n",
        "sensitivity1 = cm[0,0]/(cm[0,0]+cm[0,1]+cm[0,2])\n",
        "specificity1 = (cm[1,1]+cm[2,2])/(cm[1,0]+cm[2,0]+cm[1,1]+cm[2,2])\n",
        "\n",
        "sensitivity2 = cm[1,1]/(cm[1,0]+cm[1,1]+cm[1,2])\n",
        "specificity2 = (cm[0,0]+cm[2,2])/(cm[0,1]+cm[2,1]+cm[0,0]+cm[2,2])\n",
        "\n",
        "sensitivity3 = cm[2,2]/(cm[2,0]+cm[2,1]+cm[2,2])\n",
        "specificity3 = (cm[1,1]+cm[0,0])/(cm[0,2]+cm[1,2]+cm[1,1]+cm[0,0])\n",
        "\n",
        "print(\"class 0 [AD]:\",\"sensitivity =\",sensitivity1,\"and specificity=\",specificity1)\n",
        "print(\"class 1 [CN]:\",\"sensitivity =\",sensitivity2,\"and specificity =\",specificity2)\n",
        "print(\"class 2 [MCI]:\",\"sensitivity =\",sensitivity3,\"and specificity =\",specificity3)"
      ],
      "execution_count": null,
      "outputs": [
        {
          "output_type": "display_data",
          "data": {
            "image/png": "[encoded data removed]",
            "text/plain": [
              "<Figure size 432x288 with 1 Axes>"
            ]
          },
          "metadata": {
            "tags": [],
            "needs_background": "light"
          }
        },
        {
          "output_type": "stream",
          "text": [
            "              precision    recall  f1-score   support\n",
            "\n",
            "           0       0.99      0.85      0.91       287\n",
            "           1       0.62      0.97      0.75        91\n",
            "           2       1.00      0.93      0.96       154\n",
            "\n",
            "    accuracy                           0.89       532\n",
            "   macro avg       0.87      0.91      0.88       532\n",
            "weighted avg       0.93      0.89      0.90       532\n",
            "\n",
            "Confusion Matrix: \n",
            "[[243   3   0]\n",
            " [ 44  88  11]\n",
            " [  0   0 143]]\n",
            "class 0 [AD]: sensitivity = 0.9878048780487805 and specificity= 0.84\n",
            "class 1 [CN]: sensitivity = 0.6153846153846154 and specificity = 0.9922879177377892\n",
            "class 2 [MCI]: sensitivity = 1.0 and specificity = 0.9678362573099415\n"
          ],
          "name": "stdout"
        }
      ]
    },
    {
      "cell_type": "code",
      "metadata": {
        "id": "zF2Azawq8d78",
        "colab": {
          "base_uri": "https://localhost:8080/",
          "height": 601
        },
        "outputId": "2e086713-edcc-4b05-87b0-a2e4ba6b6093"
      },
      "source": [
        "############### Support Vector polynomial kernel\n",
        "\n",
        "X = data.iloc[:, 1:-1]\n",
        "y = data.iloc[:, -1]\n",
        "\n",
        "from sklearn.model_selection import train_test_split\n",
        "X_train, X_test, y_train, y_test = train_test_split(X, y, test_size = 0.25, random_state = 21)\n",
        "\n",
        "from sklearn.svm import SVC\n",
        "regressor = SVC(kernel = 'poly', degree = 3,\n",
        "                random_state = 10)\n",
        "\n",
        "regressor.fit(X_train, y_train)\n",
        "y_pred = regressor.predict(X_test)\n",
        "\n",
        "from sklearn.metrics import classification_report, accuracy_score\n",
        "cr = classification_report(y_pred, y_test)\n",
        "accuracy_score(y_pred, y_test)\n",
        "\n",
        "y_pred = label_binarize(y_pred, classes=[0,1,2])\n",
        "y_test = label_binarize(y_test, classes=[0,1,2])\n",
        "roc_auc_curve(y_pred, y_test)\n",
        "print(cr)\n",
        "confusion_mat(y_test,y_pred)\n",
        "\n",
        "### sensitivity and specificity for one class\n",
        "\n",
        "cm = confusion_matrix(y_test.argmax(axis=1), y_pred.argmax(axis=1))\n",
        "\n",
        "\n",
        "sensitivity1 = cm[0,0]/(cm[0,0]+cm[0,1]+cm[0,2])\n",
        "specificity1 = (cm[1,1]+cm[2,2])/(cm[1,0]+cm[2,0]+cm[1,1]+cm[2,2])\n",
        "\n",
        "sensitivity2 = cm[1,1]/(cm[1,0]+cm[1,1]+cm[1,2])\n",
        "specificity2 = (cm[0,0]+cm[2,2])/(cm[0,1]+cm[2,1]+cm[0,0]+cm[2,2])\n",
        "\n",
        "sensitivity3 = cm[2,2]/(cm[2,0]+cm[2,1]+cm[2,2])\n",
        "specificity3 = (cm[1,1]+cm[0,0])/(cm[0,2]+cm[1,2]+cm[1,1]+cm[0,0])\n",
        "\n",
        "print(\"class 0 [AD]:\",\"sensitivity =\",sensitivity1,\"and specificity=\",specificity1)\n",
        "print(\"class 1 [CN]:\",\"sensitivity =\",sensitivity2,\"and specificity =\",specificity2)\n",
        "print(\"class 2 [MCI]:\",\"sensitivity =\",sensitivity3,\"and specificity =\",specificity3)"
      ],
      "execution_count": null,
      "outputs": [
        {
          "output_type": "display_data",
          "data": {
            "image/png": "[encoded data removed]",
            "text/plain": [
              "<Figure size 432x288 with 1 Axes>"
            ]
          },
          "metadata": {
            "tags": [],
            "needs_background": "light"
          }
        },
        {
          "output_type": "stream",
          "text": [
            "              precision    recall  f1-score   support\n",
            "\n",
            "           0       1.00      0.81      0.89       304\n",
            "           1       0.50      0.99      0.67        73\n",
            "           2       1.00      0.92      0.96       155\n",
            "\n",
            "    accuracy                           0.86       532\n",
            "   macro avg       0.83      0.90      0.84       532\n",
            "weighted avg       0.93      0.86      0.88       532\n",
            "\n",
            "Confusion Matrix: \n",
            "[[245   1   0]\n",
            " [ 59  72  12]\n",
            " [  0   0 143]]\n",
            "class 0 [AD]: sensitivity = 0.9959349593495935 and specificity= 0.7846715328467153\n",
            "class 1 [CN]: sensitivity = 0.5034965034965035 and specificity = 0.9974293059125964\n",
            "class 2 [MCI]: sensitivity = 1.0 and specificity = 0.9635258358662614\n"
          ],
          "name": "stdout"
        }
      ]
    },
    {
      "cell_type": "code",
      "metadata": {
        "id": "NUmmlRVv8s2K",
        "colab": {
          "base_uri": "https://localhost:8080/",
          "height": 601
        },
        "outputId": "061fcb4b-ec0a-4a53-f23d-7784c01926a3"
      },
      "source": [
        "############### Support Vector sigmoid kernel\n",
        "\n",
        "X = data.iloc[:, 1:-1]\n",
        "y = data.iloc[:, -1]\n",
        "\n",
        "from sklearn.model_selection import train_test_split\n",
        "X_train, X_test, y_train, y_test = train_test_split(X, y, test_size = 0.25, random_state = 21)\n",
        "\n",
        "from sklearn.svm import SVC\n",
        "regressor = SVC(kernel = 'sigmoid',\n",
        "                random_state = 10)\n",
        "\n",
        "regressor.fit(X_train, y_train)\n",
        "\n",
        "y_pred = regressor.predict(X_test)\n",
        "\n",
        "from sklearn.metrics import classification_report, accuracy_score\n",
        "cr = classification_report(y_pred, y_test)\n",
        "accuracy_score(y_pred, y_test)\n",
        "\n",
        "y_pred = label_binarize(y_pred, classes=[0,1,2])\n",
        "y_test = label_binarize(y_test, classes=[0,1,2])\n",
        "roc_auc_curve(y_pred, y_test)\n",
        "print(cr)\n",
        "confusion_mat(y_test,y_pred)\n",
        "\n",
        "### sensitivity and specificity for one class\n",
        "\n",
        "cm = confusion_matrix(y_test.argmax(axis=1), y_pred.argmax(axis=1))\n",
        "\n",
        "\n",
        "sensitivity1 = cm[0,0]/(cm[0,0]+cm[0,1]+cm[0,2])\n",
        "specificity1 = (cm[1,1]+cm[2,2])/(cm[1,0]+cm[2,0]+cm[1,1]+cm[2,2])\n",
        "\n",
        "sensitivity2 = cm[1,1]/(cm[1,0]+cm[1,1]+cm[1,2])\n",
        "specificity2 = (cm[0,0]+cm[2,2])/(cm[0,1]+cm[2,1]+cm[0,0]+cm[2,2])\n",
        "\n",
        "sensitivity3 = cm[2,2]/(cm[2,0]+cm[2,1]+cm[2,2])\n",
        "specificity3 = (cm[1,1]+cm[0,0])/(cm[0,2]+cm[1,2]+cm[1,1]+cm[0,0])\n",
        "\n",
        "print(\"class 0 [AD]:\",\"sensitivity =\",sensitivity1,\"and specificity=\",specificity1)\n",
        "print(\"class 1 [CN]:\",\"sensitivity =\",sensitivity2,\"and specificity =\",specificity2)\n",
        "print(\"class 2 [MCI]:\",\"sensitivity =\",sensitivity3,\"and specificity =\",specificity3)\n",
        "\n",
        "\n",
        "\n"
      ],
      "execution_count": null,
      "outputs": [
        {
          "output_type": "display_data",
          "data": {
            "image/png": "[encoded data removed]",
            "text/plain": [
              "<Figure size 432x288 with 1 Axes>"
            ]
          },
          "metadata": {
            "tags": [],
            "needs_background": "light"
          }
        },
        {
          "output_type": "stream",
          "text": [
            "              precision    recall  f1-score   support\n",
            "\n",
            "           0       0.71      0.78      0.74       225\n",
            "           1       0.52      0.51      0.52       146\n",
            "           2       1.00      0.89      0.94       161\n",
            "\n",
            "    accuracy                           0.74       532\n",
            "   macro avg       0.75      0.73      0.73       532\n",
            "weighted avg       0.75      0.74      0.74       532\n",
            "\n",
            "Confusion Matrix: \n",
            "[[175  71   0]\n",
            " [ 50  75  18]\n",
            " [  0   0 143]]\n",
            "class 0 [AD]: sensitivity = 0.7113821138211383 and specificity= 0.8134328358208955\n",
            "class 1 [CN]: sensitivity = 0.5244755244755245 and specificity = 0.8174807197943444\n",
            "class 2 [MCI]: sensitivity = 1.0 and specificity = 0.9328358208955224\n"
          ],
          "name": "stdout"
        }
      ]
    },
    {
      "cell_type": "code",
      "metadata": {
        "id": "ZdHzpLgK82wp",
        "colab": {
          "base_uri": "https://localhost:8080/",
          "height": 601
        },
        "outputId": "2299b675-ae7b-4a15-b292-69934dbbfe16"
      },
      "source": [
        "############### Decision Tree\n",
        "\n",
        "X = data.iloc[:, 1:-1]\n",
        "y = data.iloc[:, -1]\n",
        "\n",
        "from sklearn.model_selection import train_test_split\n",
        "X_train, X_test, y_train, y_test = train_test_split(X, y, test_size = 0.25, random_state = 21)\n",
        "\n",
        "from sklearn.tree import DecisionTreeClassifier\n",
        "regressor = DecisionTreeClassifier( criterion = \"entropy\", random_state = 42,)\n",
        "\n",
        "regressor.fit(X_train, y_train)\n",
        "y_pred = regressor.predict(X_test)\n",
        "\n",
        "from sklearn.metrics import classification_report, accuracy_score\n",
        "cr = classification_report(y_pred, y_test)\n",
        "accuracy_score(y_pred, y_test)\n",
        "\n",
        "y_pred = label_binarize(y_pred, classes=[0,1,2])\n",
        "y_test = label_binarize(y_test, classes=[0,1,2])\n",
        "roc_auc_curve(y_pred, y_test)\n",
        "print(cr)\n",
        "confusion_mat(y_test,y_pred)\n",
        "\n",
        "\n",
        "### sensitivity and specificity for one class\n",
        "\n",
        "cm = confusion_matrix(y_test.argmax(axis=1), y_pred.argmax(axis=1))\n",
        "\n",
        "\n",
        "sensitivity1 = cm[0,0]/(cm[0,0]+cm[0,1]+cm[0,2])\n",
        "specificity1 = (cm[1,1]+cm[2,2])/(cm[1,0]+cm[2,0]+cm[1,1]+cm[2,2])\n",
        "\n",
        "sensitivity2 = cm[1,1]/(cm[1,0]+cm[1,1]+cm[1,2])\n",
        "specificity2 = (cm[0,0]+cm[2,2])/(cm[0,1]+cm[2,1]+cm[0,0]+cm[2,2])\n",
        "\n",
        "sensitivity3 = cm[2,2]/(cm[2,0]+cm[2,1]+cm[2,2])\n",
        "specificity3 = (cm[1,1]+cm[0,0])/(cm[0,2]+cm[1,2]+cm[1,1]+cm[0,0])\n",
        "\n",
        "print(\"class 0 [AD]:\",\"sensitivity =\",sensitivity1,\"and specificity=\",specificity1)\n",
        "print(\"class 1 [CN]:\",\"sensitivity =\",sensitivity2,\"and specificity =\",specificity2)\n",
        "print(\"class 2 [MCI]:\",\"sensitivity =\",sensitivity3,\"and specificity =\",specificity3)"
      ],
      "execution_count": null,
      "outputs": [
        {
          "output_type": "display_data",
          "data": {
            "image/png": "[encoded data removed]",
            "text/plain": [
              "<Figure size 432x288 with 1 Axes>"
            ]
          },
          "metadata": {
            "tags": [],
            "needs_background": "light"
          }
        },
        {
          "output_type": "stream",
          "text": [
            "              precision    recall  f1-score   support\n",
            "\n",
            "           0       0.73      0.77      0.75       235\n",
            "           1       0.53      0.51      0.52       149\n",
            "           2       0.87      0.84      0.86       148\n",
            "\n",
            "    accuracy                           0.72       532\n",
            "   macro avg       0.71      0.71      0.71       532\n",
            "weighted avg       0.72      0.72      0.72       532\n",
            "\n",
            "Confusion Matrix: \n",
            "[[180  60   6]\n",
            " [ 50  76  17]\n",
            " [  5  13 125]]\n",
            "class 0 [AD]: sensitivity = 0.7317073170731707 and specificity= 0.78515625\n",
            "class 1 [CN]: sensitivity = 0.5314685314685315 and specificity = 0.8068783068783069\n",
            "class 2 [MCI]: sensitivity = 0.8741258741258742 and specificity = 0.9175627240143369\n"
          ],
          "name": "stdout"
        }
      ]
    },
    {
      "cell_type": "code",
      "metadata": {
        "id": "RC1ywRMV88PP",
        "colab": {
          "base_uri": "https://localhost:8080/",
          "height": 601
        },
        "outputId": "44032202-fbc0-4fca-9f78-a96a602b3cc0"
      },
      "source": [
        "############## KNN\n",
        "\n",
        "X = data.iloc[:, 1:-1]\n",
        "y = data.iloc[:, -1]\n",
        "\n",
        "from sklearn.model_selection import train_test_split\n",
        "X_train, X_test, y_train, y_test = train_test_split(X, y, test_size = 0.25, random_state = 21)\n",
        "\n",
        "from sklearn.neighbors import KNeighborsClassifier\n",
        "regressor = KNeighborsClassifier(n_neighbors = 5, p=2, metric='minkowski')\n",
        "\n",
        "from sklearn.preprocessing import MinMaxScaler\n",
        "mms = MinMaxScaler((0,1))\n",
        "X_train = mms.fit_transform(X_train)\n",
        "X_test = mms.fit_transform(X_test)\n",
        "\n",
        "regressor.fit(X_train, y_train)\n",
        "y_pred = regressor.predict(X_test)\n",
        "\n",
        "from sklearn.metrics import classification_report, accuracy_score\n",
        "cr = classification_report(y_pred, y_test)\n",
        "accuracy_score(y_pred, y_test)\n",
        "\n",
        "y_pred = label_binarize(y_pred, classes=[0,1,2])\n",
        "y_test = label_binarize(y_test, classes=[0,1,2])\n",
        "roc_auc_curve(y_pred, y_test)\n",
        "print(cr)\n",
        "confusion_mat(y_test,y_pred)\n",
        "\n",
        "### sensitivity and specificity for one class\n",
        "\n",
        "cm = confusion_matrix(y_test.argmax(axis=1), y_pred.argmax(axis=1))\n",
        "\n",
        "\n",
        "sensitivity1 = cm[0,0]/(cm[0,0]+cm[0,1]+cm[0,2])\n",
        "specificity1 = (cm[1,1]+cm[2,2])/(cm[1,0]+cm[2,0]+cm[1,1]+cm[2,2])\n",
        "\n",
        "sensitivity2 = cm[1,1]/(cm[1,0]+cm[1,1]+cm[1,2])\n",
        "specificity2 = (cm[0,0]+cm[2,2])/(cm[0,1]+cm[2,1]+cm[0,0]+cm[2,2])\n",
        "\n",
        "sensitivity3 = cm[2,2]/(cm[2,0]+cm[2,1]+cm[2,2])\n",
        "specificity3 = (cm[1,1]+cm[0,0])/(cm[0,2]+cm[1,2]+cm[1,1]+cm[0,0])\n",
        "\n",
        "print(\"class 0 [AD]:\",\"sensitivity =\",sensitivity1,\"and specificity=\",specificity1)\n",
        "print(\"class 1 [CN]:\",\"sensitivity =\",sensitivity2,\"and specificity =\",specificity2)\n",
        "print(\"class 2 [MCI]:\",\"sensitivity =\",sensitivity3,\"and specificity =\",specificity3)"
      ],
      "execution_count": null,
      "outputs": [
        {
          "output_type": "display_data",
          "data": {
            "image/png": "[encoded data removed]",
            "text/plain": [
              "<Figure size 432x288 with 1 Axes>"
            ]
          },
          "metadata": {
            "tags": [],
            "needs_background": "light"
          }
        },
        {
          "output_type": "stream",
          "text": [
            "              precision    recall  f1-score   support\n",
            "\n",
            "           0       1.00      0.47      0.64       522\n",
            "           1       0.00      0.00      0.00         1\n",
            "           2       0.06      1.00      0.12         9\n",
            "\n",
            "    accuracy                           0.48       532\n",
            "   macro avg       0.35      0.49      0.25       532\n",
            "weighted avg       0.98      0.48      0.63       532\n",
            "\n",
            "Confusion Matrix: \n",
            "[[245   1   0]\n",
            " [143   0   0]\n",
            " [134   0   9]]\n",
            "class 0 [AD]: sensitivity = 0.9959349593495935 and specificity= 0.03146853146853147\n",
            "class 1 [CN]: sensitivity = 0.0 and specificity = 0.996078431372549\n",
            "class 2 [MCI]: sensitivity = 0.06293706293706294 and specificity = 1.0\n"
          ],
          "name": "stdout"
        }
      ]
    },
    {
      "cell_type": "code",
      "metadata": {
        "id": "Lyd1yF489D48",
        "colab": {
          "base_uri": "https://localhost:8080/",
          "height": 675
        },
        "outputId": "2fca999c-646e-4f88-bbdc-a363e89ae4aa"
      },
      "source": [
        "############## Naive Bayes\n",
        "\n",
        "X = data.iloc[:, 1:-1]\n",
        "y = data.iloc[:, -1]\n",
        "\n",
        "from sklearn.model_selection import train_test_split\n",
        "X_train, X_test, y_train, y_test = train_test_split(X, y, test_size = 0.25, random_state = 21)\n",
        "\n",
        "from sklearn.naive_bayes import MultinomialNB\n",
        "regressor = MultinomialNB( )\n",
        "\n",
        "from sklearn.preprocessing import MinMaxScaler\n",
        "mms = MinMaxScaler((0,1))\n",
        "X_train = mms.fit_transform(X_train)\n",
        "X_test = mms.fit_transform(X_test)\n",
        "\n",
        "regressor.fit(X_train, y_train)\n",
        "y_pred = regressor.predict(X_test)\n",
        "\n",
        "from sklearn.metrics import classification_report, accuracy_score\n",
        "cr = classification_report(y_pred, y_test)\n",
        "accuracy_score(y_pred, y_test)\n",
        "\n",
        "y_pred = label_binarize(y_pred, classes=[0,1,2])\n",
        "y_test = label_binarize(y_test, classes=[0,1,2])\n",
        "roc_auc_curve(y_pred, y_test)\n",
        "print(cr)\n",
        "confusion_mat(y_test,y_pred)\n",
        "\n",
        "from sklearn.metrics import log_loss\n",
        "ll = log_loss(y_test, y_pred)\n",
        "print(\"Log Loss: {}\".format(ll))\n",
        "\n",
        "\n",
        "### sensitivity and specificity for one class\n",
        "\n",
        "cm = confusion_matrix(y_test.argmax(axis=1), y_pred.argmax(axis=1))\n",
        "\n",
        "\n",
        "sensitivity1 = cm[0,0]/(cm[0,0]+cm[0,1]+cm[0,2])\n",
        "specificity1 = (cm[1,1]+cm[2,2])/(cm[1,0]+cm[2,0]+cm[1,1]+cm[2,2])\n",
        "\n",
        "sensitivity2 = cm[1,1]/(cm[1,0]+cm[1,1]+cm[1,2])\n",
        "specificity2 = (cm[0,0]+cm[2,2])/(cm[0,1]+cm[2,1]+cm[0,0]+cm[2,2])\n",
        "\n",
        "sensitivity3 = cm[2,2]/(cm[2,0]+cm[2,1]+cm[2,2])\n",
        "specificity3 = (cm[1,1]+cm[0,0])/(cm[0,2]+cm[1,2]+cm[1,1]+cm[0,0])\n",
        "\n",
        "print(\"class 0 [AD]:\",\"sensitivity =\",sensitivity1,\"and specificity=\",specificity1)\n",
        "print(\"class 1 [CN]:\",\"sensitivity =\",sensitivity2,\"and specificity =\",specificity2)\n",
        "print(\"class 2 [MCI]:\",\"sensitivity =\",sensitivity3,\"and specificity =\",specificity3)"
      ],
      "execution_count": null,
      "outputs": [
        {
          "output_type": "stream",
          "text": [
            "/usr/local/lib/python3.6/dist-packages/sklearn/metrics/_classification.py:1272: UndefinedMetricWarning: Recall and F-score are ill-defined and being set to 0.0 in labels with no true samples. Use `zero_division` parameter to control this behavior.\n",
            "  _warn_prf(average, modifier, msg_start, len(result))\n"
          ],
          "name": "stderr"
        },
        {
          "output_type": "display_data",
          "data": {
            "image/png": "[encoded data removed]",
            "text/plain": [
              "<Figure size 432x288 with 1 Axes>"
            ]
          },
          "metadata": {
            "tags": [],
            "needs_background": "light"
          }
        },
        {
          "output_type": "stream",
          "text": [
            "              precision    recall  f1-score   support\n",
            "\n",
            "           0       1.00      0.46      0.63       532\n",
            "           1       0.00      0.00      0.00         0\n",
            "           2       0.00      0.00      0.00         0\n",
            "\n",
            "    accuracy                           0.46       532\n",
            "   macro avg       0.33      0.15      0.21       532\n",
            "weighted avg       1.00      0.46      0.63       532\n",
            "\n",
            "Confusion Matrix: \n",
            "[[246   0   0]\n",
            " [143   0   0]\n",
            " [143   0   0]]\n",
            "Log Loss: 18.567838437865518\n",
            "class 0 [AD]: sensitivity = 1.0 and specificity= 0.0\n",
            "class 1 [CN]: sensitivity = 0.0 and specificity = 1.0\n",
            "class 2 [MCI]: sensitivity = 0.0 and specificity = 1.0\n"
          ],
          "name": "stdout"
        }
      ]
    },
    {
      "cell_type": "code",
      "metadata": {
        "id": "brfuDhGV9Jd0",
        "colab": {
          "base_uri": "https://localhost:8080/",
          "height": 601
        },
        "outputId": "1f4930aa-a318-4a8d-ecc2-78509c9d5389"
      },
      "source": [
        "########### XGB\n",
        "    \n",
        "X = data.iloc[:, 1:-1]\n",
        "y = data.iloc[:, -1]\n",
        "\n",
        "from sklearn.model_selection import train_test_split\n",
        "X_train, X_test, y_train, y_test = train_test_split(X, y, test_size = 0.25, random_state = 21)\n",
        "\n",
        "from xgboost.sklearn import XGBClassifier  \n",
        "xclas1 = XGBClassifier(random_state = 42) \n",
        "xclas1.fit(X_train, y_train)\n",
        "y_pred1 = xclas1.predict(X_test)\n",
        "\n",
        "from sklearn.metrics import classification_report, accuracy_score\n",
        "cr = classification_report(y_pred1, y_test)\n",
        "accuracy_score(y_pred1, y_test)\n",
        "\n",
        "y_pred1 = label_binarize(y_pred1, classes=[0,1,2])\n",
        "y_test = label_binarize(y_test, classes=[0,1,2])\n",
        "roc_auc_curve(y_pred1, y_test)\n",
        "print(cr)\n",
        "confusion_mat(y_test,y_pred)\n",
        "\n",
        "### sensitivity and specificity for one class\n",
        "\n",
        "cm = confusion_matrix(y_test.argmax(axis=1), y_pred.argmax(axis=1))\n",
        "\n",
        "\n",
        "sensitivity1 = cm[0,0]/(cm[0,0]+cm[0,1]+cm[0,2])\n",
        "specificity1 = (cm[1,1]+cm[2,2])/(cm[1,0]+cm[2,0]+cm[1,1]+cm[2,2])\n",
        "\n",
        "sensitivity2 = cm[1,1]/(cm[1,0]+cm[1,1]+cm[1,2])\n",
        "specificity2 = (cm[0,0]+cm[2,2])/(cm[0,1]+cm[2,1]+cm[0,0]+cm[2,2])\n",
        "\n",
        "sensitivity3 = cm[2,2]/(cm[2,0]+cm[2,1]+cm[2,2])\n",
        "specificity3 = (cm[1,1]+cm[0,0])/(cm[0,2]+cm[1,2]+cm[1,1]+cm[0,0])\n",
        "\n",
        "print(\"class 0 [AD]:\",\"sensitivity =\",sensitivity1,\"and specificity=\",specificity1)\n",
        "print(\"class 1 [CN]:\",\"sensitivity =\",sensitivity2,\"and specificity =\",specificity2)\n",
        "print(\"class 2 [MCI]:\",\"sensitivity =\",sensitivity3,\"and specificity =\",specificity3)"
      ],
      "execution_count": null,
      "outputs": [
        {
          "output_type": "display_data",
          "data": {
            "image/png": "[encoded data removed]",
            "text/plain": [
              "<Figure size 432x288 with 1 Axes>"
            ]
          },
          "metadata": {
            "tags": [],
            "needs_background": "light"
          }
        },
        {
          "output_type": "stream",
          "text": [
            "              precision    recall  f1-score   support\n",
            "\n",
            "           0       0.97      0.84      0.90       286\n",
            "           1       0.62      0.92      0.74        96\n",
            "           2       0.98      0.93      0.96       150\n",
            "\n",
            "    accuracy                           0.88       532\n",
            "   macro avg       0.86      0.90      0.86       532\n",
            "weighted avg       0.91      0.88      0.89       532\n",
            "\n",
            "Confusion Matrix: \n",
            "[[246   0   0]\n",
            " [143   0   0]\n",
            " [143   0   0]]\n",
            "class 0 [AD]: sensitivity = 1.0 and specificity= 0.0\n",
            "class 1 [CN]: sensitivity = 0.0 and specificity = 1.0\n",
            "class 2 [MCI]: sensitivity = 0.0 and specificity = 1.0\n"
          ],
          "name": "stdout"
        }
      ]
    },
    {
      "cell_type": "code",
      "metadata": {
        "id": "cMICbzuz9PDH",
        "colab": {
          "base_uri": "https://localhost:8080/",
          "height": 619
        },
        "outputId": "4da3ca70-b3dd-44e5-bc3f-5919b6206e80"
      },
      "source": [
        "############ GBC\n",
        "\n",
        "X = data.iloc[:, 1:-1]\n",
        "y = data.iloc[:, -1]\n",
        "\n",
        "from sklearn.model_selection import train_test_split\n",
        "X_train, X_test, y_train, y_test = train_test_split(X, y, test_size = 0.25, random_state = 21)\n",
        "\n",
        "from sklearn.ensemble import GradientBoostingClassifier\n",
        "gbrt2 = GradientBoostingClassifier(max_depth=None, n_estimators=100, learning_rate=1, random_state=30)\n",
        "gbrt2.fit(X_train, y_train)\n",
        "\n",
        "y_pred2 = gbrt2.predict(X_test)\n",
        "\n",
        "from sklearn.metrics import accuracy_score\n",
        "print('GradientBoostingClassifier 2 - ' + str(accuracy_score(y_test, y_pred2)))\n",
        "\n",
        "y_pred2 = label_binarize(y_pred2, classes=[0,1,2])\n",
        "y_test = label_binarize(y_test, classes=[0,1,2])\n",
        "roc_auc_curve(y_pred2, y_test)\n",
        "print(cr)\n",
        "confusion_mat(y_test,y_pred)\n",
        "\n",
        "### sensitivity and specificity for one class\n",
        "\n",
        "cm = confusion_matrix(y_test.argmax(axis=1), y_pred.argmax(axis=1))\n",
        "\n",
        "\n",
        "sensitivity1 = cm[0,0]/(cm[0,0]+cm[0,1]+cm[0,2])\n",
        "specificity1 = (cm[1,1]+cm[2,2])/(cm[1,0]+cm[2,0]+cm[1,1]+cm[2,2])\n",
        "\n",
        "sensitivity2 = cm[1,1]/(cm[1,0]+cm[1,1]+cm[1,2])\n",
        "specificity2 = (cm[0,0]+cm[2,2])/(cm[0,1]+cm[2,1]+cm[0,0]+cm[2,2])\n",
        "\n",
        "sensitivity3 = cm[2,2]/(cm[2,0]+cm[2,1]+cm[2,2])\n",
        "specificity3 = (cm[1,1]+cm[0,0])/(cm[0,2]+cm[1,2]+cm[1,1]+cm[0,0])\n",
        "\n",
        "print(\"class 0 [AD]:\",\"sensitivity =\",sensitivity1,\"and specificity=\",specificity1)\n",
        "print(\"class 1 [CN]:\",\"sensitivity =\",sensitivity2,\"and specificity =\",specificity2)\n",
        "print(\"class 2 [MCI]:\",\"sensitivity =\",sensitivity3,\"and specificity =\",specificity3)"
      ],
      "execution_count": null,
      "outputs": [
        {
          "output_type": "stream",
          "text": [
            "GradientBoostingClassifier 2 - 0.7857142857142857\n"
          ],
          "name": "stdout"
        },
        {
          "output_type": "display_data",
          "data": {
            "image/png": "[encoded data removed]",
            "text/plain": [
              "<Figure size 432x288 with 1 Axes>"
            ]
          },
          "metadata": {
            "tags": [],
            "needs_background": "light"
          }
        },
        {
          "output_type": "stream",
          "text": [
            "              precision    recall  f1-score   support\n",
            "\n",
            "           0       0.97      0.84      0.90       286\n",
            "           1       0.62      0.92      0.74        96\n",
            "           2       0.98      0.93      0.96       150\n",
            "\n",
            "    accuracy                           0.88       532\n",
            "   macro avg       0.86      0.90      0.86       532\n",
            "weighted avg       0.91      0.88      0.89       532\n",
            "\n",
            "Confusion Matrix: \n",
            "[[246   0   0]\n",
            " [143   0   0]\n",
            " [143   0   0]]\n",
            "class 0 [AD]: sensitivity = 1.0 and specificity= 0.0\n",
            "class 1 [CN]: sensitivity = 0.0 and specificity = 1.0\n",
            "class 2 [MCI]: sensitivity = 0.0 and specificity = 1.0\n"
          ],
          "name": "stdout"
        }
      ]
    },
    {
      "cell_type": "code",
      "metadata": {
        "id": "bw9hhcGd9gft",
        "colab": {
          "base_uri": "https://localhost:8080/",
          "height": 673
        },
        "outputId": "ce7fdf68-52d8-4403-9ca9-c75f227a7c6e"
      },
      "source": [
        "############### ensemble Voting\n",
        "\n",
        "X = data.iloc[:, 1:-1]\n",
        "y = data.iloc[:, -1]\n",
        "\n",
        "from sklearn.model_selection import train_test_split\n",
        "X_train, X_test, y_train, y_test = train_test_split(X, y, test_size = 0.25, random_state = 21)\n",
        "\n",
        "from sklearn.ensemble import RandomForestClassifier\n",
        "from sklearn.ensemble import VotingClassifier\n",
        "from sklearn.ensemble import GradientBoostingClassifier\n",
        "from xgboost.sklearn import XGBClassifier  \n",
        "\n",
        "xgb_clf = XGBClassifier(random_state=42)\n",
        "rnd_clf = RandomForestClassifier(n_estimators=100, random_state=42)\n",
        "gbc_clf = GradientBoostingClassifier(n_estimators=100, learning_rate=1, random_state=30)\n",
        "\n",
        "voting_clf = VotingClassifier(\n",
        "    estimators=[('xgb_clf', xgb_clf), ('rnd_clf', rnd_clf), ('gbc_clf', gbc_clf)],\n",
        "    voting='soft', weights = [3,2,2])\n",
        "\n",
        "from sklearn.preprocessing import MinMaxScaler\n",
        "mm = MinMaxScaler(feature_range = (0, 1))\n",
        "X_train_mm = mm.fit_transform(X_train)\n",
        "X_test_mm = mm.fit_transform(X_test)\n",
        "\n",
        "voting_clf.fit(X_train_mm, y_train)\n",
        "y_pred = voting_clf.predict(X_test_mm)\n",
        "\n",
        "from sklearn.metrics import accuracy_score\n",
        "ac = []\n",
        "for clf in (xgb_clf, rnd_clf, gbc_clf, voting_clf):\n",
        "    clf.fit(X_train_mm, y_train)\n",
        "    y_pred = clf.predict(X_test_mm)\n",
        "    print(accuracy_score(y_pred, y_test))   \n",
        "\n",
        "y_pred = label_binarize(y_pred, classes=[0,1,2])\n",
        "y_test = label_binarize(y_test, classes=[0,1,2])\n",
        "roc_auc_curve(y_pred, y_test)   \n",
        "print(cr)\n",
        "confusion_mat(y_test,y_pred)\n",
        "\n",
        "\n",
        "### sensitivity and specificity for one class\n",
        "\n",
        "cm = confusion_matrix(y_test.argmax(axis=1), y_pred.argmax(axis=1))\n",
        "\n",
        "\n",
        "sensitivity1 = cm[0,0]/(cm[0,0]+cm[0,1]+cm[0,2])\n",
        "specificity1 = (cm[1,1]+cm[2,2])/(cm[1,0]+cm[2,0]+cm[1,1]+cm[2,2])\n",
        "\n",
        "sensitivity2 = cm[1,1]/(cm[1,0]+cm[1,1]+cm[1,2])\n",
        "specificity2 = (cm[0,0]+cm[2,2])/(cm[0,1]+cm[2,1]+cm[0,0]+cm[2,2])\n",
        "\n",
        "sensitivity3 = cm[2,2]/(cm[2,0]+cm[2,1]+cm[2,2])\n",
        "specificity3 = (cm[1,1]+cm[0,0])/(cm[0,2]+cm[1,2]+cm[1,1]+cm[0,0])\n",
        "\n",
        "print(\"class 0 [AD]:\",\"sensitivity =\",sensitivity1,\"and specificity=\",specificity1)\n",
        "print(\"class 1 [CN]:\",\"sensitivity =\",sensitivity2,\"and specificity =\",specificity2)\n",
        "print(\"class 2 [MCI]:\",\"sensitivity =\",sensitivity3,\"and specificity =\",specificity3)"
      ],
      "execution_count": null,
      "outputs": [
        {
          "output_type": "stream",
          "text": [
            "0.6390977443609023\n",
            "0.5018796992481203\n",
            "0.5695488721804511\n",
            "0.6484962406015038\n"
          ],
          "name": "stdout"
        },
        {
          "output_type": "display_data",
          "data": {
            "image/png": "[encoded data removed]",
            "text/plain": [
              "<Figure size 432x288 with 1 Axes>"
            ]
          },
          "metadata": {
            "tags": [],
            "needs_background": "light"
          }
        },
        {
          "output_type": "stream",
          "text": [
            "              precision    recall  f1-score   support\n",
            "\n",
            "           0       0.97      0.84      0.90       286\n",
            "           1       0.62      0.92      0.74        96\n",
            "           2       0.98      0.93      0.96       150\n",
            "\n",
            "    accuracy                           0.88       532\n",
            "   macro avg       0.86      0.90      0.86       532\n",
            "weighted avg       0.91      0.88      0.89       532\n",
            "\n",
            "Confusion Matrix: \n",
            "[[232  14   0]\n",
            " [ 66  73   4]\n",
            " [ 54  49  40]]\n",
            "class 0 [AD]: sensitivity = 0.943089430894309 and specificity= 0.48497854077253216\n",
            "class 1 [CN]: sensitivity = 0.5104895104895105 and specificity = 0.8119402985074626\n",
            "class 2 [MCI]: sensitivity = 0.27972027972027974 and specificity = 0.9870550161812298\n"
          ],
          "name": "stdout"
        }
      ]
    },
    {
      "cell_type": "code",
      "metadata": {
        "id": "MhM_KJkM9uLk",
        "colab": {
          "base_uri": "https://localhost:8080/",
          "height": 1000
        },
        "outputId": "7178cbf3-7cf6-4054-d5b5-40487309d22c"
      },
      "source": [
        "############## ANN\n",
        "    \n",
        "X = data.iloc[:, 1:-1]\n",
        "y = data.iloc[:, -1]\n",
        "\n",
        "from sklearn.model_selection import train_test_split\n",
        "X_train, X_test, y_train, y_test = train_test_split(X, y, test_size = 0.25, random_state = 21)\n",
        "\n",
        "from tensorflow.keras.models import Sequential\n",
        "from tensorflow.keras.layers import Dense, Activation\n",
        "from tensorflow.keras.optimizers import SGD\n",
        "from tensorflow.keras.utils import to_categorical\n",
        "\n",
        "y_train_hat = to_categorical(y_train)\n",
        "y_test_hat = to_categorical(y_test)\n",
        "\n",
        "model = Sequential()\n",
        "model.add(Dense(32, input_dim=2000))\n",
        "model.add(Activation('relu'))\n",
        "\n",
        "model.add(Dense(32, activation='relu'))\n",
        "\n",
        "model.add(Dense(3, activation='softmax'))\n",
        "    \n",
        "model.compile(optimizer='rmsprop',\n",
        "              loss='categorical_crossentropy',\n",
        "              metrics=['accuracy'])\n",
        "\n",
        "model.fit(X_train, y_train_hat,\n",
        "          epochs=10,\n",
        "          batch_size=20)\n",
        "\n",
        "y_pred = model.predict(X_test)\n",
        "roc_auc_curve(y_pred, y_test_hat)\n",
        "print(cr)\n",
        "confusion_mat(y_test_hat,y_pred)\n",
        "\n",
        "### sensitivity and specificity for each class\n",
        "\n",
        "cm = confusion_matrix(y_test.argmax(axis=1), y_pred.argmax(axis=1))\n",
        "\n",
        "\n",
        "\n",
        "sensitivity1 = cm[0,0]/(cm[0,0]+cm[0,1]+cm[0,2])\n",
        "specificity1 = (cm[1,1]+cm[2,2])/(cm[1,0]+cm[2,0]+cm[1,1]+cm[2,2])\n",
        "\n",
        "sensitivity2 = cm[1,1]/(cm[1,0]+cm[1,1]+cm[1,2])\n",
        "specificity2 = (cm[0,0]+cm[2,2])/(cm[0,1]+cm[2,1]+cm[0,0]+cm[2,2])\n",
        "\n",
        "sensitivity3 = cm[2,2]/(cm[2,0]+cm[2,1]+cm[2,2])\n",
        "specificity3 = (cm[1,1]+cm[0,0])/(cm[0,2]+cm[1,2]+cm[1,1]+cm[0,0])\n",
        "\n",
        "print(\"class 0 [AD]:\",\"sensitivity =\",sensitivity1,\"and specificity=\",specificity1)\n",
        "print(\"class 1 [CN]:\",\"sensitivity =\",sensitivity2,\"and specificity =\",specificity2)\n",
        "print(\"class 2 [MCI]:\",\"sensitivity =\",sensitivity3,\"and specificity =\",specificity3)"
      ],
      "execution_count": null,
      "outputs": [
        {
          "output_type": "stream",
          "text": [
            "WARNING:tensorflow:Falling back from v2 loop because of error: Failed to find data adapter that can handle input: <class 'pandas.core.frame.DataFrame'>, <class 'NoneType'>\n",
            "Train on 1593 samples\n",
            "Epoch 1/10\n",
            "1593/1593 [==============================] - 2s 1ms/sample - loss: 0.9961 - accuracy: 0.6968\n",
            "Epoch 2/10\n",
            "1593/1593 [==============================] - 0s 208us/sample - loss: 0.0958 - accuracy: 0.9699\n",
            "Epoch 3/10\n",
            "1593/1593 [==============================] - 0s 219us/sample - loss: 0.0284 - accuracy: 0.9900\n",
            "Epoch 4/10\n",
            "1593/1593 [==============================] - 0s 207us/sample - loss: 0.0136 - accuracy: 0.9950\n",
            "Epoch 5/10\n",
            "1593/1593 [==============================] - 0s 208us/sample - loss: 0.0135 - accuracy: 0.9962\n",
            "Epoch 6/10\n",
            "1593/1593 [==============================] - 0s 215us/sample - loss: 0.0044 - accuracy: 0.9975\n",
            "Epoch 7/10\n",
            "1593/1593 [==============================] - 0s 226us/sample - loss: 0.0032 - accuracy: 0.9994\n",
            "Epoch 8/10\n",
            "1593/1593 [==============================] - 0s 212us/sample - loss: 0.0037 - accuracy: 0.9994\n",
            "Epoch 9/10\n",
            "1593/1593 [==============================] - 0s 225us/sample - loss: 6.9655e-05 - accuracy: 1.0000\n",
            "Epoch 10/10\n",
            "1593/1593 [==============================] - 0s 214us/sample - loss: 6.3556e-04 - accuracy: 0.9994\n",
            "WARNING:tensorflow:Falling back from v2 loop because of error: Failed to find data adapter that can handle input: <class 'pandas.core.frame.DataFrame'>, <class 'NoneType'>\n"
          ],
          "name": "stdout"
        },
        {
          "output_type": "display_data",
          "data": {
            "image/png": "[encoded data removed]",
            "text/plain": [
              "<Figure size 432x288 with 1 Axes>"
            ]
          },
          "metadata": {
            "tags": [],
            "needs_background": "light"
          }
        },
        {
          "output_type": "stream",
          "text": [
            "              precision    recall  f1-score   support\n",
            "\n",
            "           0       0.97      0.84      0.90       286\n",
            "           1       0.62      0.92      0.74        96\n",
            "           2       0.98      0.93      0.96       150\n",
            "\n",
            "    accuracy                           0.88       532\n",
            "   macro avg       0.86      0.90      0.86       532\n",
            "weighted avg       0.91      0.88      0.89       532\n",
            "\n",
            "Confusion Matrix: \n",
            "[[217  29   0]\n",
            " [ 30 102  11]\n",
            " [  0   4 139]]\n"
          ],
          "name": "stdout"
        },
        {
          "output_type": "error",
          "ename": "ValueError",
          "evalue": "ignored",
          "traceback": [
            "\u001b[0;31m---------------------------------------------------------------------------\u001b[0m",
            "\u001b[0;31mValueError\u001b[0m                                Traceback (most recent call last)",
            "\u001b[0;32m<ipython-input-37-6a247e807546>\u001b[0m in \u001b[0;36m<module>\u001b[0;34m()\u001b[0m\n\u001b[1;32m     38\u001b[0m \u001b[0;31m### sensitivity and specificity for each class\u001b[0m\u001b[0;34m\u001b[0m\u001b[0;34m\u001b[0m\u001b[0;34m\u001b[0m\u001b[0m\n\u001b[1;32m     39\u001b[0m \u001b[0;34m\u001b[0m\u001b[0m\n\u001b[0;32m---> 40\u001b[0;31m \u001b[0mcm\u001b[0m \u001b[0;34m=\u001b[0m \u001b[0mconfusion_matrix\u001b[0m\u001b[0;34m(\u001b[0m\u001b[0my_test\u001b[0m\u001b[0;34m.\u001b[0m\u001b[0margmax\u001b[0m\u001b[0;34m(\u001b[0m\u001b[0maxis\u001b[0m\u001b[0;34m=\u001b[0m\u001b[0;36m1\u001b[0m\u001b[0;34m)\u001b[0m\u001b[0;34m,\u001b[0m \u001b[0my_pred\u001b[0m\u001b[0;34m.\u001b[0m\u001b[0margmax\u001b[0m\u001b[0;34m(\u001b[0m\u001b[0maxis\u001b[0m\u001b[0;34m=\u001b[0m\u001b[0;36m1\u001b[0m\u001b[0;34m)\u001b[0m\u001b[0;34m)\u001b[0m\u001b[0;34m\u001b[0m\u001b[0;34m\u001b[0m\u001b[0m\n\u001b[0m\u001b[1;32m     41\u001b[0m \u001b[0;34m\u001b[0m\u001b[0m\n\u001b[1;32m     42\u001b[0m \u001b[0;34m\u001b[0m\u001b[0m\n",
            "\u001b[0;32m/usr/local/lib/python3.6/dist-packages/pandas/core/base.py\u001b[0m in \u001b[0;36margmax\u001b[0;34m(self, axis, skipna, *args, **kwargs)\u001b[0m\n\u001b[1;32m    932\u001b[0m         \u001b[0mnumpy\u001b[0m\u001b[0;34m.\u001b[0m\u001b[0mndarray\u001b[0m\u001b[0;34m.\u001b[0m\u001b[0margmax\u001b[0m\u001b[0;34m\u001b[0m\u001b[0;34m\u001b[0m\u001b[0m\n\u001b[1;32m    933\u001b[0m         \"\"\"\n\u001b[0;32m--> 934\u001b[0;31m         \u001b[0mnv\u001b[0m\u001b[0;34m.\u001b[0m\u001b[0mvalidate_minmax_axis\u001b[0m\u001b[0;34m(\u001b[0m\u001b[0maxis\u001b[0m\u001b[0;34m)\u001b[0m\u001b[0;34m\u001b[0m\u001b[0;34m\u001b[0m\u001b[0m\n\u001b[0m\u001b[1;32m    935\u001b[0m         \u001b[0mnv\u001b[0m\u001b[0;34m.\u001b[0m\u001b[0mvalidate_argmax_with_skipna\u001b[0m\u001b[0;34m(\u001b[0m\u001b[0mskipna\u001b[0m\u001b[0;34m,\u001b[0m \u001b[0margs\u001b[0m\u001b[0;34m,\u001b[0m \u001b[0mkwargs\u001b[0m\u001b[0;34m)\u001b[0m\u001b[0;34m\u001b[0m\u001b[0;34m\u001b[0m\u001b[0m\n\u001b[1;32m    936\u001b[0m         \u001b[0;32mreturn\u001b[0m \u001b[0mnanops\u001b[0m\u001b[0;34m.\u001b[0m\u001b[0mnanargmax\u001b[0m\u001b[0;34m(\u001b[0m\u001b[0mself\u001b[0m\u001b[0;34m.\u001b[0m\u001b[0m_values\u001b[0m\u001b[0;34m,\u001b[0m \u001b[0mskipna\u001b[0m\u001b[0;34m=\u001b[0m\u001b[0mskipna\u001b[0m\u001b[0;34m)\u001b[0m\u001b[0;34m\u001b[0m\u001b[0;34m\u001b[0m\u001b[0m\n",
            "\u001b[0;32m/usr/local/lib/python3.6/dist-packages/pandas/compat/numpy/function.py\u001b[0m in \u001b[0;36mvalidate_minmax_axis\u001b[0;34m(axis)\u001b[0m\n\u001b[1;32m    403\u001b[0m         \u001b[0;32mreturn\u001b[0m\u001b[0;34m\u001b[0m\u001b[0;34m\u001b[0m\u001b[0m\n\u001b[1;32m    404\u001b[0m     \u001b[0;32mif\u001b[0m \u001b[0maxis\u001b[0m \u001b[0;34m>=\u001b[0m \u001b[0mndim\u001b[0m \u001b[0;32mor\u001b[0m \u001b[0;34m(\u001b[0m\u001b[0maxis\u001b[0m \u001b[0;34m<\u001b[0m \u001b[0;36m0\u001b[0m \u001b[0;32mand\u001b[0m \u001b[0mndim\u001b[0m \u001b[0;34m+\u001b[0m \u001b[0maxis\u001b[0m \u001b[0;34m<\u001b[0m \u001b[0;36m0\u001b[0m\u001b[0;34m)\u001b[0m\u001b[0;34m:\u001b[0m\u001b[0;34m\u001b[0m\u001b[0;34m\u001b[0m\u001b[0m\n\u001b[0;32m--> 405\u001b[0;31m         \u001b[0;32mraise\u001b[0m \u001b[0mValueError\u001b[0m\u001b[0;34m(\u001b[0m\u001b[0;34mf\"`axis` must be fewer than the number of dimensions ({ndim})\"\u001b[0m\u001b[0;34m)\u001b[0m\u001b[0;34m\u001b[0m\u001b[0;34m\u001b[0m\u001b[0m\n\u001b[0m",
            "\u001b[0;31mValueError\u001b[0m: `axis` must be fewer than the number of dimensions (1)"
          ]
        }
      ]
    },
    {
      "cell_type": "code",
      "metadata": {
        "id": "2dhyglrHCkPy",
        "colab": {
          "base_uri": "https://localhost:8080/",
          "height": 1000
        },
        "outputId": "4f13a9ba-11eb-4793-dd27-cf336129daaf"
      },
      "source": [
        "############## Deep Boltzman Machine  \n",
        "X = data.iloc[:, 1:-1]\n",
        "y = data.iloc[:, -1]\n",
        "\n",
        "from sklearn.model_selection import train_test_split\n",
        "X_train, X_test, y_train, y_test = train_test_split(X, y, test_size = 0.25, random_state = 21)\n",
        "\n",
        "from sklearn.neural_network import BernoulliRBM\n",
        "from sklearn.pipeline import Pipeline\n",
        "from sklearn.base import clone\n",
        "from sklearn import linear_model\n",
        "from sklearn import metrics\n",
        "\n",
        "logistic = linear_model.LogisticRegression(solver='newton-cg', tol=1)\n",
        "rbm = BernoulliRBM(random_state=0, verbose=True)\n",
        "\n",
        "rbm_features_classifier = Pipeline(\n",
        "    steps=[('rbm', rbm), ('logistic', logistic)])\n",
        "\n",
        "rbm.learning_rate = 0.06\n",
        "rbm.n_iter = 10\n",
        "\n",
        "rbm.n_components = 100\n",
        "logistic.C = 6000\n",
        "\n",
        "rbm_features_classifier.fit(X_train, y_train)\n",
        "\n",
        "raw_pixel_classifier = clone(logistic)\n",
        "raw_pixel_classifier.C = 100.\n",
        "raw_pixel_classifier.fit(X_train, y_train)\n",
        "\n",
        "Y_pred = rbm_features_classifier.predict(X_test)\n",
        "print(\"Logistic regression using RBM features:\\n%s\\n\" % (\n",
        "    metrics.classification_report(y_test, Y_pred)))\n",
        "from sklearn.preprocessing import label_binarize\n",
        "y_pred = label_binarize(Y_pred, classes=[0,1,2])\n",
        "y_test_hat = label_binarize(y_test, classes=[0,1,2])\n",
        "roc_auc_curve(y_pred, y_test_hat)\n",
        "confusion_mat(y_test_hat,y_pred)\n",
        "\n",
        "Y_pred = raw_pixel_classifier.predict(X_test)\n",
        "print(\"Logistic regression using raw pixel features:\\n%s\\n\" % (\n",
        "    metrics.classification_report(y_test, Y_pred)))\n",
        "metrics.accuracy_score(Y_pred, y_test)\n",
        "\n",
        "\n",
        "y_pred = label_binarize(Y_pred, classes=[0,1,2])\n",
        "y_test = label_binarize(y_test, classes=[0,1,2])\n",
        "roc_auc_curve(y_pred, y_test)\n",
        "confusion_mat(y_test,y_pred)\n",
        "\n",
        "### sensitivity and specificity for one class\n",
        "\n",
        "cm = confusion_matrix(y_test.argmax(axis=1), y_pred.argmax(axis=1))\n",
        "\n",
        "\n",
        "sensitivity1 = cm[0,0]/(cm[0,0]+cm[0,1]+cm[0,2])\n",
        "specificity1 = (cm[1,1]+cm[2,2])/(cm[1,0]+cm[2,0]+cm[1,1]+cm[2,2])\n",
        "\n",
        "sensitivity2 = cm[1,1]/(cm[1,0]+cm[1,1]+cm[1,2])\n",
        "specificity2 = (cm[0,0]+cm[2,2])/(cm[0,1]+cm[2,1]+cm[0,0]+cm[2,2])\n",
        "\n",
        "sensitivity3 = cm[2,2]/(cm[2,0]+cm[2,1]+cm[2,2])\n",
        "specificity3 = (cm[1,1]+cm[0,0])/(cm[0,2]+cm[1,2]+cm[1,1]+cm[0,0])\n",
        "\n",
        "print(\"class 0 [AD]:\",\"sensitivity =\",sensitivity1,\"and specificity=\",specificity1)\n",
        "print(\"class 1 [CN]:\",\"sensitivity =\",sensitivity2,\"and specificity =\",specificity2)\n",
        "print(\"class 2 [MCI]:\",\"sensitivity =\",sensitivity3,\"and specificity =\",specificity3)"
      ],
      "execution_count": null,
      "outputs": [
        {
          "output_type": "stream",
          "text": [
            "[BernoulliRBM] Iteration 1, pseudo-likelihood = -479050.33, time = 0.98s\n",
            "[BernoulliRBM] Iteration 2, pseudo-likelihood = -971579.32, time = 1.11s\n",
            "[BernoulliRBM] Iteration 3, pseudo-likelihood = -1476467.19, time = 1.11s\n",
            "[BernoulliRBM] Iteration 4, pseudo-likelihood = -1986516.29, time = 1.08s\n",
            "[BernoulliRBM] Iteration 5, pseudo-likelihood = -2499349.44, time = 1.10s\n",
            "[BernoulliRBM] Iteration 6, pseudo-likelihood = -3014456.00, time = 1.09s\n",
            "[BernoulliRBM] Iteration 7, pseudo-likelihood = -3532355.81, time = 1.07s\n",
            "[BernoulliRBM] Iteration 8, pseudo-likelihood = -4054981.67, time = 1.08s\n",
            "[BernoulliRBM] Iteration 9, pseudo-likelihood = -4581782.97, time = 1.06s\n",
            "[BernoulliRBM] Iteration 10, pseudo-likelihood = -5112567.56, time = 1.06s\n",
            "Logistic regression using RBM features:\n",
            "              precision    recall  f1-score   support\n",
            "\n",
            "           0       0.61      0.83      0.70       246\n",
            "           1       0.48      0.09      0.15       143\n",
            "           2       0.54      0.64      0.59       143\n",
            "\n",
            "    accuracy                           0.58       532\n",
            "   macro avg       0.54      0.52      0.48       532\n",
            "weighted avg       0.56      0.58      0.52       532\n",
            "\n",
            "\n"
          ],
          "name": "stdout"
        },
        {
          "output_type": "display_data",
          "data": {
            "image/png": "[encoded data removed]",
            "text/plain": [
              "<Figure size 432x288 with 1 Axes>"
            ]
          },
          "metadata": {
            "tags": [],
            "needs_background": "light"
          }
        },
        {
          "output_type": "stream",
          "text": [
            "Confusion Matrix: \n",
            "[[204   6  36]\n",
            " [ 87  13  43]\n",
            " [ 43   8  92]]\n",
            "Logistic regression using raw pixel features:\n",
            "              precision    recall  f1-score   support\n",
            "\n",
            "           0       0.90      0.93      0.92       246\n",
            "           1       0.85      0.76      0.80       143\n",
            "           2       0.93      0.97      0.95       143\n",
            "\n",
            "    accuracy                           0.90       532\n",
            "   macro avg       0.89      0.89      0.89       532\n",
            "weighted avg       0.89      0.90      0.89       532\n",
            "\n",
            "\n"
          ],
          "name": "stdout"
        },
        {
          "output_type": "display_data",
          "data": {
            "image/png": "[encoded data removed]",
            "text/plain": [
              "<Figure size 432x288 with 1 Axes>"
            ]
          },
          "metadata": {
            "tags": [],
            "needs_background": "light"
          }
        },
        {
          "output_type": "stream",
          "text": [
            "Confusion Matrix: \n",
            "[[230  15   1]\n",
            " [ 26 108   9]\n",
            " [  0   4 139]]\n",
            "class 0 [AD]: sensitivity = 0.9349593495934959 and specificity= 0.9047619047619048\n",
            "class 1 [CN]: sensitivity = 0.7552447552447552 and specificity = 0.9510309278350515\n",
            "class 2 [MCI]: sensitivity = 0.972027972027972 and specificity = 0.9712643678160919\n"
          ],
          "name": "stdout"
        }
      ]
    },
    {
      "cell_type": "code",
      "metadata": {
        "id": "bfmiMVwbC0lr",
        "colab": {
          "base_uri": "https://localhost:8080/",
          "height": 52
        },
        "outputId": "3b665136-77dd-4367-d55d-87358dd9de00"
      },
      "source": [
        "########################### ALL Classifiers\n",
        "from sklearn.metrics import accuracy_score, log_loss\n",
        "import seaborn as sns\n",
        "classifiers = [\n",
        "    RandomForestClassifier(n_estimators=100, random_state=42),\n",
        "    SVC(kernel = 'rbf', random_state = 10),\n",
        "    SVC(kernel = 'poly', degree = 3, random_state = 10),\n",
        "    SVC(kernel = 'sigmoid', random_state = 10),\n",
        "    DecisionTreeClassifier( criterion = \"entropy\", random_state = 42,),\n",
        "    KNeighborsClassifier(n_neighbors = 5, p=2, metric='minkowski'),\n",
        "    XGBClassifier(random_state = 42),\n",
        "    GradientBoostingClassifier(max_depth=None, n_estimators=100, learning_rate=1, random_state=30),\n",
        "    VotingClassifier(\n",
        "            estimators=[('xgb_clf', xgb_clf), ('rnd_clf', rnd_clf), ('gbc_clf', gbc_clf)],\n",
        "            voting='soft', weights = [3,2,2]),\n",
        "    raw_pixel_classifier,\n",
        "    MultinomialNB()]"
      ],
      "execution_count": null,
      "outputs": [
        {
          "output_type": "stream",
          "text": [
            "/usr/local/lib/python3.6/dist-packages/statsmodels/tools/_testing.py:19: FutureWarning: pandas.util.testing is deprecated. Use the functions in the public API at pandas.testing instead.\n",
            "  import pandas.util.testing as tm\n"
          ],
          "name": "stderr"
        }
      ]
    },
    {
      "cell_type": "code",
      "metadata": {
        "id": "xH5v0E5MC-xt",
        "colab": {
          "base_uri": "https://localhost:8080/",
          "height": 1000
        },
        "outputId": "3573fed2-2e8d-4322-e73f-3b7b068b94a1"
      },
      "source": [
        "# Logging for Visual Comparison\n",
        "log_cols=[\"Classifier\", \"Accuracy\", \"Log Loss\"]\n",
        "log = pd.DataFrame(columns=log_cols)\n",
        "\n",
        "for clf in classifiers:\n",
        "    clf.fit(X_train, y_train)\n",
        "    name = clf.__class__.__name__\n",
        "    \n",
        "    print(\"=\"*30)\n",
        "    print(name)\n",
        "    \n",
        "    print('****Results****')\n",
        "    train_predictions = clf.predict(X_test)\n",
        "    y_pred = label_binarize(train_predictions, classes=[0,1,2])\n",
        "    acc = accuracy_score(y_test, y_pred)\n",
        "    print(\"Accuracy: {:.4%}\".format(acc))\n",
        "    \n",
        "    train_predictions = clf.predict(X_test)\n",
        "    ll = log_loss(y_test, y_pred)\n",
        "    print(\"Log Loss: {}\".format(ll))\n",
        "    \n",
        "    log_entry = pd.DataFrame([[name, acc*100, ll]], columns=log_cols)\n",
        "    log = log.append(log_entry)\n",
        "    \n",
        "print(\"=\"*30)\n",
        "\n",
        "sns.set_color_codes(\"muted\")\n",
        "sns.barplot(x='Accuracy', y='Classifier', data=log, color=\"b\")\n",
        "\n",
        "plt.xlabel('Accuracy %')\n",
        "plt.title('Classifier Accuracy')\n",
        "plt.show()\n",
        "\n",
        "sns.set_color_codes(\"muted\")\n",
        "sns.barplot(x='Log Loss', y='Classifier', data=log, color=\"g\")\n",
        "\n",
        "plt.xlabel('Log Loss')\n",
        "plt.title('Classifier Log Loss')\n",
        "plt.show()"
      ],
      "execution_count": null,
      "outputs": [
        {
          "output_type": "stream",
          "text": [
            "==============================\n",
            "RandomForestClassifier\n",
            "****Results****\n",
            "Accuracy: 74.0602%\n",
            "Log Loss: 8.959306658830215\n",
            "==============================\n",
            "SVC\n",
            "****Results****\n",
            "Accuracy: 89.0977%\n",
            "Log Loss: 3.765505697189512\n",
            "==============================\n",
            "SVC\n",
            "****Results****\n",
            "Accuracy: 86.4662%\n",
            "Log Loss: 4.674420865476635\n",
            "==============================\n",
            "SVC\n",
            "****Results****\n",
            "Accuracy: 73.8722%\n",
            "Log Loss: 9.024229170850722\n",
            "==============================\n",
            "DecisionTreeClassifier\n",
            "****Results****\n",
            "Accuracy: 71.6165%\n",
            "Log Loss: 9.803299315096831\n",
            "==============================\n",
            "KNeighborsClassifier\n",
            "****Results****\n",
            "Accuracy: 89.6617%\n",
            "Log Loss: 3.570738161127985\n",
            "==============================\n",
            "XGBClassifier\n",
            "****Results****\n",
            "Accuracy: 87.7820%\n",
            "Log Loss: 4.219963281333074\n",
            "==============================\n",
            "GradientBoostingClassifier\n",
            "****Results****\n",
            "Accuracy: 78.5714%\n",
            "Log Loss: 7.401166370338004\n",
            "==============================\n",
            "VotingClassifier\n",
            "****Results****\n",
            "Accuracy: 87.4060%\n",
            "Log Loss: 4.349808305374091\n",
            "==============================\n",
            "LogisticRegression\n",
            "****Results****\n",
            "Accuracy: 89.6617%\n",
            "Log Loss: 3.5707381611279856\n"
          ],
          "name": "stdout"
        },
        {
          "output_type": "error",
          "ename": "ValueError",
          "evalue": "ignored",
          "traceback": [
            "\u001b[0;31m---------------------------------------------------------------------------\u001b[0m",
            "\u001b[0;31mValueError\u001b[0m                                Traceback (most recent call last)",
            "\u001b[0;32m<ipython-input-41-182178ca6b64>\u001b[0m in \u001b[0;36m<module>\u001b[0;34m()\u001b[0m\n\u001b[1;32m      4\u001b[0m \u001b[0;34m\u001b[0m\u001b[0m\n\u001b[1;32m      5\u001b[0m \u001b[0;32mfor\u001b[0m \u001b[0mclf\u001b[0m \u001b[0;32min\u001b[0m \u001b[0mclassifiers\u001b[0m\u001b[0;34m:\u001b[0m\u001b[0;34m\u001b[0m\u001b[0;34m\u001b[0m\u001b[0m\n\u001b[0;32m----> 6\u001b[0;31m     \u001b[0mclf\u001b[0m\u001b[0;34m.\u001b[0m\u001b[0mfit\u001b[0m\u001b[0;34m(\u001b[0m\u001b[0mX_train\u001b[0m\u001b[0;34m,\u001b[0m \u001b[0my_train\u001b[0m\u001b[0;34m)\u001b[0m\u001b[0;34m\u001b[0m\u001b[0;34m\u001b[0m\u001b[0m\n\u001b[0m\u001b[1;32m      7\u001b[0m     \u001b[0mname\u001b[0m \u001b[0;34m=\u001b[0m \u001b[0mclf\u001b[0m\u001b[0;34m.\u001b[0m\u001b[0m__class__\u001b[0m\u001b[0;34m.\u001b[0m\u001b[0m__name__\u001b[0m\u001b[0;34m\u001b[0m\u001b[0;34m\u001b[0m\u001b[0m\n\u001b[1;32m      8\u001b[0m \u001b[0;34m\u001b[0m\u001b[0m\n",
            "\u001b[0;32m/usr/local/lib/python3.6/dist-packages/sklearn/naive_bayes.py\u001b[0m in \u001b[0;36mfit\u001b[0;34m(self, X, y, sample_weight)\u001b[0m\n\u001b[1;32m    633\u001b[0m \u001b[0;34m\u001b[0m\u001b[0m\n\u001b[1;32m    634\u001b[0m         \u001b[0mself\u001b[0m\u001b[0;34m.\u001b[0m\u001b[0m_init_counters\u001b[0m\u001b[0;34m(\u001b[0m\u001b[0mn_effective_classes\u001b[0m\u001b[0;34m,\u001b[0m \u001b[0mn_features\u001b[0m\u001b[0;34m)\u001b[0m\u001b[0;34m\u001b[0m\u001b[0;34m\u001b[0m\u001b[0m\n\u001b[0;32m--> 635\u001b[0;31m         \u001b[0mself\u001b[0m\u001b[0;34m.\u001b[0m\u001b[0m_count\u001b[0m\u001b[0;34m(\u001b[0m\u001b[0mX\u001b[0m\u001b[0;34m,\u001b[0m \u001b[0mY\u001b[0m\u001b[0;34m)\u001b[0m\u001b[0;34m\u001b[0m\u001b[0;34m\u001b[0m\u001b[0m\n\u001b[0m\u001b[1;32m    636\u001b[0m         \u001b[0malpha\u001b[0m \u001b[0;34m=\u001b[0m \u001b[0mself\u001b[0m\u001b[0;34m.\u001b[0m\u001b[0m_check_alpha\u001b[0m\u001b[0;34m(\u001b[0m\u001b[0;34m)\u001b[0m\u001b[0;34m\u001b[0m\u001b[0;34m\u001b[0m\u001b[0m\n\u001b[1;32m    637\u001b[0m         \u001b[0mself\u001b[0m\u001b[0;34m.\u001b[0m\u001b[0m_update_feature_log_prob\u001b[0m\u001b[0;34m(\u001b[0m\u001b[0malpha\u001b[0m\u001b[0;34m)\u001b[0m\u001b[0;34m\u001b[0m\u001b[0;34m\u001b[0m\u001b[0m\n",
            "\u001b[0;32m/usr/local/lib/python3.6/dist-packages/sklearn/naive_bayes.py\u001b[0m in \u001b[0;36m_count\u001b[0;34m(self, X, Y)\u001b[0m\n\u001b[1;32m    754\u001b[0m     \u001b[0;32mdef\u001b[0m \u001b[0m_count\u001b[0m\u001b[0;34m(\u001b[0m\u001b[0mself\u001b[0m\u001b[0;34m,\u001b[0m \u001b[0mX\u001b[0m\u001b[0;34m,\u001b[0m \u001b[0mY\u001b[0m\u001b[0;34m)\u001b[0m\u001b[0;34m:\u001b[0m\u001b[0;34m\u001b[0m\u001b[0;34m\u001b[0m\u001b[0m\n\u001b[1;32m    755\u001b[0m         \u001b[0;34m\"\"\"Count and smooth feature occurrences.\"\"\"\u001b[0m\u001b[0;34m\u001b[0m\u001b[0;34m\u001b[0m\u001b[0m\n\u001b[0;32m--> 756\u001b[0;31m         \u001b[0mcheck_non_negative\u001b[0m\u001b[0;34m(\u001b[0m\u001b[0mX\u001b[0m\u001b[0;34m,\u001b[0m \u001b[0;34m\"MultinomialNB (input X)\"\u001b[0m\u001b[0;34m)\u001b[0m\u001b[0;34m\u001b[0m\u001b[0;34m\u001b[0m\u001b[0m\n\u001b[0m\u001b[1;32m    757\u001b[0m         \u001b[0mself\u001b[0m\u001b[0;34m.\u001b[0m\u001b[0mfeature_count_\u001b[0m \u001b[0;34m+=\u001b[0m \u001b[0msafe_sparse_dot\u001b[0m\u001b[0;34m(\u001b[0m\u001b[0mY\u001b[0m\u001b[0;34m.\u001b[0m\u001b[0mT\u001b[0m\u001b[0;34m,\u001b[0m \u001b[0mX\u001b[0m\u001b[0;34m)\u001b[0m\u001b[0;34m\u001b[0m\u001b[0;34m\u001b[0m\u001b[0m\n\u001b[1;32m    758\u001b[0m         \u001b[0mself\u001b[0m\u001b[0;34m.\u001b[0m\u001b[0mclass_count_\u001b[0m \u001b[0;34m+=\u001b[0m \u001b[0mY\u001b[0m\u001b[0;34m.\u001b[0m\u001b[0msum\u001b[0m\u001b[0;34m(\u001b[0m\u001b[0maxis\u001b[0m\u001b[0;34m=\u001b[0m\u001b[0;36m0\u001b[0m\u001b[0;34m)\u001b[0m\u001b[0;34m\u001b[0m\u001b[0;34m\u001b[0m\u001b[0m\n",
            "\u001b[0;32m/usr/local/lib/python3.6/dist-packages/sklearn/utils/validation.py\u001b[0m in \u001b[0;36mcheck_non_negative\u001b[0;34m(X, whom)\u001b[0m\n\u001b[1;32m    992\u001b[0m \u001b[0;34m\u001b[0m\u001b[0m\n\u001b[1;32m    993\u001b[0m     \u001b[0;32mif\u001b[0m \u001b[0mX_min\u001b[0m \u001b[0;34m<\u001b[0m \u001b[0;36m0\u001b[0m\u001b[0;34m:\u001b[0m\u001b[0;34m\u001b[0m\u001b[0;34m\u001b[0m\u001b[0m\n\u001b[0;32m--> 994\u001b[0;31m         \u001b[0;32mraise\u001b[0m \u001b[0mValueError\u001b[0m\u001b[0;34m(\u001b[0m\u001b[0;34m\"Negative values in data passed to %s\"\u001b[0m \u001b[0;34m%\u001b[0m \u001b[0mwhom\u001b[0m\u001b[0;34m)\u001b[0m\u001b[0;34m\u001b[0m\u001b[0;34m\u001b[0m\u001b[0m\n\u001b[0m\u001b[1;32m    995\u001b[0m \u001b[0;34m\u001b[0m\u001b[0m\n\u001b[1;32m    996\u001b[0m \u001b[0;34m\u001b[0m\u001b[0m\n",
            "\u001b[0;31mValueError\u001b[0m: Negative values in data passed to MultinomialNB (input X)"
          ]
        }
      ]
    },
    {
      "cell_type": "code",
      "metadata": {
        "id": "EvVoBOVbBQbc"
      },
      "source": [
        ""
      ],
      "execution_count": null,
      "outputs": []
    }
  ]
}